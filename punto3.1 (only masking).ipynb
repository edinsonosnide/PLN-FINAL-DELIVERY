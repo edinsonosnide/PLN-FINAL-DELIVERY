{
 "cells": [
  {
   "cell_type": "markdown",
   "id": "476ef7ae-1d4c-4f93-8c5b-0afa5ad45111",
   "metadata": {},
   "source": [
    "# Hecho por:\n",
    "## EDINSON ORLANDO DORADO DORADO 1941966-3743\n",
    "## ALESSANDRO DIAZ GARCIA 1940983-3743"
   ]
  },
  {
   "cell_type": "markdown",
   "id": "5a1866d0-89d7-43d3-9d77-77d59632a6a2",
   "metadata": {
    "tags": []
   },
   "source": [
    "# Este modelo de red entrena un BiLSTM + CRF para la clasificación de NER sobre el corpus Conll2002. Este modelo tiene como entrada a la red la enterización del conjunto X de entrenamiento y la enterización y categorización  de los vectores de etiquetas. En este modelo no hay matriz de embedding."
   ]
  },
  {
   "cell_type": "code",
   "execution_count": 1,
   "id": "80d49b72-98b5-4582-be1a-96a459e01227",
   "metadata": {
    "tags": []
   },
   "outputs": [],
   "source": [
    "try:\n",
    "    import seqeval\n",
    "except ModuleNotFoundError as err:\n",
    "    !pip install seqeval"
   ]
  },
  {
   "cell_type": "code",
   "execution_count": 2,
   "id": "45e61dbc-85f0-4c9f-a51a-2897eaf489c1",
   "metadata": {
    "tags": []
   },
   "outputs": [
    {
     "name": "stdout",
     "output_type": "stream",
     "text": [
      "Requirement already satisfied: tensorflow in c:\\users\\edins\\appdata\\local\\packages\\pythonsoftwarefoundation.python.3.10_qbz5n2kfra8p0\\localcache\\local-packages\\python310\\site-packages (2.15.0)\n",
      "Requirement already satisfied: tensorflow-intel==2.15.0 in c:\\users\\edins\\appdata\\local\\packages\\pythonsoftwarefoundation.python.3.10_qbz5n2kfra8p0\\localcache\\local-packages\\python310\\site-packages (from tensorflow) (2.15.0)\n",
      "Requirement already satisfied: absl-py>=1.0.0 in c:\\users\\edins\\appdata\\local\\packages\\pythonsoftwarefoundation.python.3.10_qbz5n2kfra8p0\\localcache\\local-packages\\python310\\site-packages (from tensorflow-intel==2.15.0->tensorflow) (2.0.0)\n",
      "Requirement already satisfied: astunparse>=1.6.0 in c:\\users\\edins\\appdata\\local\\packages\\pythonsoftwarefoundation.python.3.10_qbz5n2kfra8p0\\localcache\\local-packages\\python310\\site-packages (from tensorflow-intel==2.15.0->tensorflow) (1.6.3)\n",
      "Requirement already satisfied: flatbuffers>=23.5.26 in c:\\users\\edins\\appdata\\local\\packages\\pythonsoftwarefoundation.python.3.10_qbz5n2kfra8p0\\localcache\\local-packages\\python310\\site-packages (from tensorflow-intel==2.15.0->tensorflow) (23.5.26)\n",
      "Requirement already satisfied: gast!=0.5.0,!=0.5.1,!=0.5.2,>=0.2.1 in c:\\users\\edins\\appdata\\local\\packages\\pythonsoftwarefoundation.python.3.10_qbz5n2kfra8p0\\localcache\\local-packages\\python310\\site-packages (from tensorflow-intel==2.15.0->tensorflow) (0.5.4)\n",
      "Requirement already satisfied: google-pasta>=0.1.1 in c:\\users\\edins\\appdata\\local\\packages\\pythonsoftwarefoundation.python.3.10_qbz5n2kfra8p0\\localcache\\local-packages\\python310\\site-packages (from tensorflow-intel==2.15.0->tensorflow) (0.2.0)\n",
      "Requirement already satisfied: h5py>=2.9.0 in c:\\users\\edins\\appdata\\local\\packages\\pythonsoftwarefoundation.python.3.10_qbz5n2kfra8p0\\localcache\\local-packages\\python310\\site-packages (from tensorflow-intel==2.15.0->tensorflow) (3.10.0)\n",
      "Requirement already satisfied: libclang>=13.0.0 in c:\\users\\edins\\appdata\\local\\packages\\pythonsoftwarefoundation.python.3.10_qbz5n2kfra8p0\\localcache\\local-packages\\python310\\site-packages (from tensorflow-intel==2.15.0->tensorflow) (16.0.6)\n",
      "Requirement already satisfied: ml-dtypes~=0.2.0 in c:\\users\\edins\\appdata\\local\\packages\\pythonsoftwarefoundation.python.3.10_qbz5n2kfra8p0\\localcache\\local-packages\\python310\\site-packages (from tensorflow-intel==2.15.0->tensorflow) (0.2.0)\n",
      "Requirement already satisfied: numpy<2.0.0,>=1.23.5 in c:\\users\\edins\\appdata\\local\\packages\\pythonsoftwarefoundation.python.3.10_qbz5n2kfra8p0\\localcache\\local-packages\\python310\\site-packages (from tensorflow-intel==2.15.0->tensorflow) (1.24.3)\n",
      "Requirement already satisfied: opt-einsum>=2.3.2 in c:\\users\\edins\\appdata\\local\\packages\\pythonsoftwarefoundation.python.3.10_qbz5n2kfra8p0\\localcache\\local-packages\\python310\\site-packages (from tensorflow-intel==2.15.0->tensorflow) (3.3.0)\n",
      "Requirement already satisfied: packaging in c:\\users\\edins\\appdata\\local\\packages\\pythonsoftwarefoundation.python.3.10_qbz5n2kfra8p0\\localcache\\local-packages\\python310\\site-packages (from tensorflow-intel==2.15.0->tensorflow) (23.1)\n",
      "Requirement already satisfied: protobuf!=4.21.0,!=4.21.1,!=4.21.2,!=4.21.3,!=4.21.4,!=4.21.5,<5.0.0dev,>=3.20.3 in c:\\users\\edins\\appdata\\local\\packages\\pythonsoftwarefoundation.python.3.10_qbz5n2kfra8p0\\localcache\\local-packages\\python310\\site-packages (from tensorflow-intel==2.15.0->tensorflow) (4.23.4)\n",
      "Requirement already satisfied: setuptools in c:\\program files\\windowsapps\\pythonsoftwarefoundation.python.3.10_3.10.3056.0_x64__qbz5n2kfra8p0\\lib\\site-packages (from tensorflow-intel==2.15.0->tensorflow) (65.5.0)\n",
      "Requirement already satisfied: six>=1.12.0 in c:\\users\\edins\\appdata\\local\\packages\\pythonsoftwarefoundation.python.3.10_qbz5n2kfra8p0\\localcache\\local-packages\\python310\\site-packages (from tensorflow-intel==2.15.0->tensorflow) (1.16.0)\n",
      "Requirement already satisfied: termcolor>=1.1.0 in c:\\users\\edins\\appdata\\local\\packages\\pythonsoftwarefoundation.python.3.10_qbz5n2kfra8p0\\localcache\\local-packages\\python310\\site-packages (from tensorflow-intel==2.15.0->tensorflow) (2.3.0)\n",
      "Requirement already satisfied: typing-extensions>=3.6.6 in c:\\users\\edins\\appdata\\local\\packages\\pythonsoftwarefoundation.python.3.10_qbz5n2kfra8p0\\localcache\\local-packages\\python310\\site-packages (from tensorflow-intel==2.15.0->tensorflow) (4.8.0)\n",
      "Requirement already satisfied: wrapt<1.15,>=1.11.0 in c:\\users\\edins\\appdata\\local\\packages\\pythonsoftwarefoundation.python.3.10_qbz5n2kfra8p0\\localcache\\local-packages\\python310\\site-packages (from tensorflow-intel==2.15.0->tensorflow) (1.14.1)\n",
      "Requirement already satisfied: tensorflow-io-gcs-filesystem>=0.23.1 in c:\\users\\edins\\appdata\\local\\packages\\pythonsoftwarefoundation.python.3.10_qbz5n2kfra8p0\\localcache\\local-packages\\python310\\site-packages (from tensorflow-intel==2.15.0->tensorflow) (0.31.0)\n",
      "Requirement already satisfied: grpcio<2.0,>=1.24.3 in c:\\users\\edins\\appdata\\local\\packages\\pythonsoftwarefoundation.python.3.10_qbz5n2kfra8p0\\localcache\\local-packages\\python310\\site-packages (from tensorflow-intel==2.15.0->tensorflow) (1.59.3)\n",
      "Requirement already satisfied: tensorboard<2.16,>=2.15 in c:\\users\\edins\\appdata\\local\\packages\\pythonsoftwarefoundation.python.3.10_qbz5n2kfra8p0\\localcache\\local-packages\\python310\\site-packages (from tensorflow-intel==2.15.0->tensorflow) (2.15.1)\n",
      "Requirement already satisfied: tensorflow-estimator<2.16,>=2.15.0 in c:\\users\\edins\\appdata\\local\\packages\\pythonsoftwarefoundation.python.3.10_qbz5n2kfra8p0\\localcache\\local-packages\\python310\\site-packages (from tensorflow-intel==2.15.0->tensorflow) (2.15.0)\n",
      "Requirement already satisfied: keras<2.16,>=2.15.0 in c:\\users\\edins\\appdata\\local\\packages\\pythonsoftwarefoundation.python.3.10_qbz5n2kfra8p0\\localcache\\local-packages\\python310\\site-packages (from tensorflow-intel==2.15.0->tensorflow) (2.15.0)\n",
      "Requirement already satisfied: wheel<1.0,>=0.23.0 in c:\\users\\edins\\appdata\\local\\packages\\pythonsoftwarefoundation.python.3.10_qbz5n2kfra8p0\\localcache\\local-packages\\python310\\site-packages (from astunparse>=1.6.0->tensorflow-intel==2.15.0->tensorflow) (0.42.0)\n",
      "Requirement already satisfied: google-auth<3,>=1.6.3 in c:\\users\\edins\\appdata\\local\\packages\\pythonsoftwarefoundation.python.3.10_qbz5n2kfra8p0\\localcache\\local-packages\\python310\\site-packages (from tensorboard<2.16,>=2.15->tensorflow-intel==2.15.0->tensorflow) (2.23.3)\n",
      "Requirement already satisfied: google-auth-oauthlib<2,>=0.5 in c:\\users\\edins\\appdata\\local\\packages\\pythonsoftwarefoundation.python.3.10_qbz5n2kfra8p0\\localcache\\local-packages\\python310\\site-packages (from tensorboard<2.16,>=2.15->tensorflow-intel==2.15.0->tensorflow) (1.1.0)\n",
      "Requirement already satisfied: markdown>=2.6.8 in c:\\users\\edins\\appdata\\local\\packages\\pythonsoftwarefoundation.python.3.10_qbz5n2kfra8p0\\localcache\\local-packages\\python310\\site-packages (from tensorboard<2.16,>=2.15->tensorflow-intel==2.15.0->tensorflow) (3.5.1)\n",
      "Requirement already satisfied: requests<3,>=2.21.0 in c:\\users\\edins\\appdata\\local\\packages\\pythonsoftwarefoundation.python.3.10_qbz5n2kfra8p0\\localcache\\local-packages\\python310\\site-packages (from tensorboard<2.16,>=2.15->tensorflow-intel==2.15.0->tensorflow) (2.31.0)\n",
      "Requirement already satisfied: tensorboard-data-server<0.8.0,>=0.7.0 in c:\\users\\edins\\appdata\\local\\packages\\pythonsoftwarefoundation.python.3.10_qbz5n2kfra8p0\\localcache\\local-packages\\python310\\site-packages (from tensorboard<2.16,>=2.15->tensorflow-intel==2.15.0->tensorflow) (0.7.2)\n",
      "Requirement already satisfied: werkzeug>=1.0.1 in c:\\users\\edins\\appdata\\local\\packages\\pythonsoftwarefoundation.python.3.10_qbz5n2kfra8p0\\localcache\\local-packages\\python310\\site-packages (from tensorboard<2.16,>=2.15->tensorflow-intel==2.15.0->tensorflow) (2.2.2)\n",
      "Requirement already satisfied: cachetools<6.0,>=2.0.0 in c:\\users\\edins\\appdata\\local\\packages\\pythonsoftwarefoundation.python.3.10_qbz5n2kfra8p0\\localcache\\local-packages\\python310\\site-packages (from google-auth<3,>=1.6.3->tensorboard<2.16,>=2.15->tensorflow-intel==2.15.0->tensorflow) (5.3.1)\n",
      "Requirement already satisfied: pyasn1-modules>=0.2.1 in c:\\users\\edins\\appdata\\local\\packages\\pythonsoftwarefoundation.python.3.10_qbz5n2kfra8p0\\localcache\\local-packages\\python310\\site-packages (from google-auth<3,>=1.6.3->tensorboard<2.16,>=2.15->tensorflow-intel==2.15.0->tensorflow) (0.3.0)\n",
      "Requirement already satisfied: rsa<5,>=3.1.4 in c:\\users\\edins\\appdata\\local\\packages\\pythonsoftwarefoundation.python.3.10_qbz5n2kfra8p0\\localcache\\local-packages\\python310\\site-packages (from google-auth<3,>=1.6.3->tensorboard<2.16,>=2.15->tensorflow-intel==2.15.0->tensorflow) (4.9)\n",
      "Requirement already satisfied: requests-oauthlib>=0.7.0 in c:\\users\\edins\\appdata\\local\\packages\\pythonsoftwarefoundation.python.3.10_qbz5n2kfra8p0\\localcache\\local-packages\\python310\\site-packages (from google-auth-oauthlib<2,>=0.5->tensorboard<2.16,>=2.15->tensorflow-intel==2.15.0->tensorflow) (1.3.1)\n",
      "Requirement already satisfied: charset-normalizer<4,>=2 in c:\\users\\edins\\appdata\\local\\packages\\pythonsoftwarefoundation.python.3.10_qbz5n2kfra8p0\\localcache\\local-packages\\python310\\site-packages (from requests<3,>=2.21.0->tensorboard<2.16,>=2.15->tensorflow-intel==2.15.0->tensorflow) (3.0.1)\n",
      "Requirement already satisfied: idna<4,>=2.5 in c:\\users\\edins\\appdata\\local\\packages\\pythonsoftwarefoundation.python.3.10_qbz5n2kfra8p0\\localcache\\local-packages\\python310\\site-packages (from requests<3,>=2.21.0->tensorboard<2.16,>=2.15->tensorflow-intel==2.15.0->tensorflow) (3.4)\n",
      "Requirement already satisfied: urllib3<3,>=1.21.1 in c:\\users\\edins\\appdata\\local\\packages\\pythonsoftwarefoundation.python.3.10_qbz5n2kfra8p0\\localcache\\local-packages\\python310\\site-packages (from requests<3,>=2.21.0->tensorboard<2.16,>=2.15->tensorflow-intel==2.15.0->tensorflow) (1.26.14)\n",
      "Requirement already satisfied: certifi>=2017.4.17 in c:\\users\\edins\\appdata\\local\\packages\\pythonsoftwarefoundation.python.3.10_qbz5n2kfra8p0\\localcache\\local-packages\\python310\\site-packages (from requests<3,>=2.21.0->tensorboard<2.16,>=2.15->tensorflow-intel==2.15.0->tensorflow) (2022.12.7)\n",
      "Requirement already satisfied: MarkupSafe>=2.1.1 in c:\\users\\edins\\appdata\\local\\packages\\pythonsoftwarefoundation.python.3.10_qbz5n2kfra8p0\\localcache\\local-packages\\python310\\site-packages (from werkzeug>=1.0.1->tensorboard<2.16,>=2.15->tensorflow-intel==2.15.0->tensorflow) (2.1.2)\n",
      "Requirement already satisfied: pyasn1<0.6.0,>=0.4.6 in c:\\users\\edins\\appdata\\local\\packages\\pythonsoftwarefoundation.python.3.10_qbz5n2kfra8p0\\localcache\\local-packages\\python310\\site-packages (from pyasn1-modules>=0.2.1->google-auth<3,>=1.6.3->tensorboard<2.16,>=2.15->tensorflow-intel==2.15.0->tensorflow) (0.5.0)\n",
      "Requirement already satisfied: oauthlib>=3.0.0 in c:\\users\\edins\\appdata\\local\\packages\\pythonsoftwarefoundation.python.3.10_qbz5n2kfra8p0\\localcache\\local-packages\\python310\\site-packages (from requests-oauthlib>=0.7.0->google-auth-oauthlib<2,>=0.5->tensorboard<2.16,>=2.15->tensorflow-intel==2.15.0->tensorflow) (3.2.2)\n"
     ]
    }
   ],
   "source": [
    "!pip install tensorflow"
   ]
  },
  {
   "cell_type": "code",
   "execution_count": 3,
   "id": "3a3fc279-aaca-4e75-bab7-e45bdc4848c5",
   "metadata": {
    "tags": []
   },
   "outputs": [
    {
     "name": "stdout",
     "output_type": "stream",
     "text": [
      "WARNING:tensorflow:From C:\\Users\\edins\\AppData\\Local\\Packages\\PythonSoftwareFoundation.Python.3.10_qbz5n2kfra8p0\\LocalCache\\local-packages\\Python310\\site-packages\\keras\\src\\losses.py:2976: The name tf.losses.sparse_softmax_cross_entropy is deprecated. Please use tf.compat.v1.losses.sparse_softmax_cross_entropy instead.\n",
      "\n"
     ]
    }
   ],
   "source": [
    "import tensorflow as tf"
   ]
  },
  {
   "cell_type": "markdown",
   "id": "e286e0aa-caf0-4a0f-8dbc-c27ae1fb82c8",
   "metadata": {},
   "source": [
    "# Instalación del paquete nltk"
   ]
  },
  {
   "cell_type": "code",
   "execution_count": 4,
   "id": "dd4184f6-7f20-44df-a857-773358b56771",
   "metadata": {
    "tags": []
   },
   "outputs": [
    {
     "name": "stdout",
     "output_type": "stream",
     "text": [
      "Requirement already satisfied: tensorflow-addons in c:\\users\\edins\\appdata\\local\\packages\\pythonsoftwarefoundation.python.3.10_qbz5n2kfra8p0\\localcache\\local-packages\\python310\\site-packages (0.22.0)\n",
      "Requirement already satisfied: typeguard<3.0.0,>=2.7 in c:\\users\\edins\\appdata\\local\\packages\\pythonsoftwarefoundation.python.3.10_qbz5n2kfra8p0\\localcache\\local-packages\\python310\\site-packages (from tensorflow-addons) (2.13.3)\n",
      "Requirement already satisfied: packaging in c:\\users\\edins\\appdata\\local\\packages\\pythonsoftwarefoundation.python.3.10_qbz5n2kfra8p0\\localcache\\local-packages\\python310\\site-packages (from tensorflow-addons) (23.1)\n"
     ]
    }
   ],
   "source": [
    "!pip install tensorflow-addons"
   ]
  },
  {
   "cell_type": "code",
   "execution_count": 5,
   "id": "07cf3b2b-7467-40a4-912f-7740f40adc39",
   "metadata": {
    "tags": []
   },
   "outputs": [
    {
     "name": "stdout",
     "output_type": "stream",
     "text": [
      "Requirement already satisfied: keras in c:\\users\\edins\\appdata\\local\\packages\\pythonsoftwarefoundation.python.3.10_qbz5n2kfra8p0\\localcache\\local-packages\\python310\\site-packages (2.15.0)\n"
     ]
    }
   ],
   "source": [
    "!pip install keras"
   ]
  },
  {
   "cell_type": "code",
   "execution_count": 6,
   "id": "09e96483-751c-47ab-8b01-6fab2fca3346",
   "metadata": {
    "tags": []
   },
   "outputs": [
    {
     "name": "stderr",
     "output_type": "stream",
     "text": [
      "C:\\Users\\edins\\AppData\\Local\\Packages\\PythonSoftwareFoundation.Python.3.10_qbz5n2kfra8p0\\LocalCache\\local-packages\\Python310\\site-packages\\tensorflow_addons\\utils\\tfa_eol_msg.py:23: UserWarning: \n",
      "\n",
      "TensorFlow Addons (TFA) has ended development and introduction of new features.\n",
      "TFA has entered a minimal maintenance and release mode until a planned end of life in May 2024.\n",
      "Please modify downstream libraries to take dependencies from other repositories in our TensorFlow community (e.g. Keras, Keras-CV, and Keras-NLP). \n",
      "\n",
      "For more information see: https://github.com/tensorflow/addons/issues/2807 \n",
      "\n",
      "  warnings.warn(\n",
      "C:\\Users\\edins\\AppData\\Local\\Packages\\PythonSoftwareFoundation.Python.3.10_qbz5n2kfra8p0\\LocalCache\\local-packages\\Python310\\site-packages\\tensorflow_addons\\utils\\ensure_tf_install.py:53: UserWarning: Tensorflow Addons supports using Python ops for all Tensorflow versions above or equal to 2.12.0 and strictly below 2.15.0 (nightly versions are not supported). \n",
      " The versions of TensorFlow you are currently using is 2.15.0 and is not supported. \n",
      "Some things might work, some things might not.\n",
      "If you were to encounter a bug, do not file an issue.\n",
      "If you want to make sure you're using a tested and supported configuration, either change the TensorFlow version or the TensorFlow Addons's version. \n",
      "You can find the compatibility matrix in TensorFlow Addon's readme:\n",
      "https://github.com/tensorflow/addons\n",
      "  warnings.warn(\n",
      "C:\\Users\\edins\\AppData\\Local\\Packages\\PythonSoftwareFoundation.Python.3.10_qbz5n2kfra8p0\\LocalCache\\local-packages\\Python310\\site-packages\\tqdm\\auto.py:21: TqdmWarning: IProgress not found. Please update jupyter and ipywidgets. See https://ipywidgets.readthedocs.io/en/stable/user_install.html\n",
      "  from .autonotebook import tqdm as notebook_tqdm\n",
      "C:\\Users\\edins\\AppData\\Local\\Temp\\ipykernel_18820\\1104623449.py:26: DeprecationWarning: Importing display from IPython.core.display is deprecated since IPython 7.14, please import from IPython display\n",
      "  from IPython.core.display import display, HTML\n"
     ]
    }
   ],
   "source": [
    "import matplotlib.pyplot as plt\n",
    "import numpy as np\n",
    "import pickle\n",
    "import pandas as pd\n",
    "from itertools import islice\n",
    "\n",
    "import keras\n",
    "#from tabulate import tabulate\n",
    "from sklearn.metrics import confusion_matrix\n",
    "from sklearn.metrics import classification_report as eskclarep\n",
    "#from seqeval.metrics import precision_score, recall_score, f1_score, accuracy_score\n",
    "#from seqeval.metrics import classification_report as seqclarep\n",
    "from sklearn.preprocessing import LabelBinarizer\n",
    "from itertools import chain\n",
    "\n",
    "from tensorflow.keras.preprocessing.sequence import pad_sequences\n",
    "from tensorflow.keras.models import Model, Sequential\n",
    "from tensorflow.keras.layers import Concatenate, Lambda, Input, LSTM, Embedding, Dense, TimeDistributed, Dropout, Bidirectional, InputLayer, Activation, Flatten\n",
    "from tensorflow.keras.optimizers import Adam, schedules\n",
    "from crfta import CRF as crf4\n",
    "from utils import build_matrix_embeddings as bme, plot_model_performance, logits_to_tokens, report_to_df\n",
    "\n",
    "from tensorflow.keras.callbacks import ModelCheckpoint\n",
    "from tensorflow.keras.callbacks import TensorBoard\n",
    "\n",
    "from IPython.core.display import display, HTML\n",
    "\n",
    "import datetime, os\n",
    "import random"
   ]
  },
  {
   "cell_type": "code",
   "execution_count": 7,
   "id": "27809f03-c5eb-490b-b634-f45db1320a27",
   "metadata": {
    "tags": []
   },
   "outputs": [
    {
     "name": "stdout",
     "output_type": "stream",
     "text": [
      "Requirement already satisfied: nltk in c:\\users\\edins\\appdata\\local\\packages\\pythonsoftwarefoundation.python.3.10_qbz5n2kfra8p0\\localcache\\local-packages\\python310\\site-packages (3.8.1)\n",
      "Requirement already satisfied: click in c:\\users\\edins\\appdata\\local\\packages\\pythonsoftwarefoundation.python.3.10_qbz5n2kfra8p0\\localcache\\local-packages\\python310\\site-packages (from nltk) (8.1.7)\n",
      "Requirement already satisfied: joblib in c:\\users\\edins\\appdata\\local\\packages\\pythonsoftwarefoundation.python.3.10_qbz5n2kfra8p0\\localcache\\local-packages\\python310\\site-packages (from nltk) (1.3.2)\n",
      "Requirement already satisfied: regex>=2021.8.3 in c:\\users\\edins\\appdata\\local\\packages\\pythonsoftwarefoundation.python.3.10_qbz5n2kfra8p0\\localcache\\local-packages\\python310\\site-packages (from nltk) (2023.8.8)\n",
      "Requirement already satisfied: tqdm in c:\\users\\edins\\appdata\\local\\packages\\pythonsoftwarefoundation.python.3.10_qbz5n2kfra8p0\\localcache\\local-packages\\python310\\site-packages (from nltk) (4.66.1)\n",
      "Requirement already satisfied: colorama in c:\\users\\edins\\appdata\\local\\packages\\pythonsoftwarefoundation.python.3.10_qbz5n2kfra8p0\\localcache\\local-packages\\python310\\site-packages (from click->nltk) (0.4.6)\n"
     ]
    }
   ],
   "source": [
    "!pip install nltk"
   ]
  },
  {
   "cell_type": "code",
   "execution_count": 8,
   "id": "3a47cf43-3181-4a0c-a8cd-e12b36b39c58",
   "metadata": {
    "tags": []
   },
   "outputs": [
    {
     "name": "stderr",
     "output_type": "stream",
     "text": [
      "[nltk_data] Downloading package conll2002 to\n",
      "[nltk_data]     C:\\Users\\edins\\AppData\\Roaming\\nltk_data...\n",
      "[nltk_data]   Package conll2002 is already up-to-date!\n"
     ]
    },
    {
     "data": {
      "text/plain": [
       "['esp.testa', 'esp.testb', 'esp.train', 'ned.testa', 'ned.testb', 'ned.train']"
      ]
     },
     "execution_count": 8,
     "metadata": {},
     "output_type": "execute_result"
    }
   ],
   "source": [
    "import nltk\n",
    "nltk.download('conll2002')\n",
    "nltk.corpus.conll2002.fileids()"
   ]
  },
  {
   "cell_type": "code",
   "execution_count": 9,
   "id": "fc8826d3-5bbd-4770-9cce-b1aa02526677",
   "metadata": {
    "tags": []
   },
   "outputs": [
    {
     "name": "stdout",
     "output_type": "stream",
     "text": [
      "8323 1238\n",
      "1517 202\n",
      "1915 141\n",
      "CPU times: total: 1.61 s\n",
      "Wall time: 1.92 s\n"
     ]
    }
   ],
   "source": [
    "%%time\n",
    "train_sents = list(nltk.corpus.conll2002.iob_sents('esp.train'))\n",
    "test_sents = list(nltk.corpus.conll2002.iob_sents('esp.testb'))\n",
    "eval_sents = list(nltk.corpus.conll2002.iob_sents('esp.testa'))\n",
    "print(len(train_sents),len(max(train_sents,key=len)))\n",
    "print(len(test_sents),len(max(test_sents,key=len)))\n",
    "print(len(eval_sents),len(max(eval_sents,key=len)))"
   ]
  },
  {
   "cell_type": "code",
   "execution_count": 10,
   "id": "74bcdbc4-f3a1-4190-8ae0-11285671e95b",
   "metadata": {
    "tags": []
   },
   "outputs": [
    {
     "name": "stdout",
     "output_type": "stream",
     "text": [
      "[('Melbourne', 'NP', 'B-LOC'), ('(', 'Fpa', 'O'), ('Australia', 'NP', 'B-LOC'), (')', 'Fpt', 'O'), (',', 'Fc', 'O'), ('25', 'Z', 'O'), ('may', 'NC', 'O'), ('(', 'Fpa', 'O'), ('EFE', 'NC', 'B-ORG'), (')', 'Fpt', 'O'), ('.', 'Fp', 'O')]\n"
     ]
    }
   ],
   "source": [
    "print(train_sents[0])"
   ]
  },
  {
   "cell_type": "markdown",
   "id": "93cc476a-7522-4edb-9aa8-a1a48dc57bed",
   "metadata": {},
   "source": [
    "# PARTE 1. PREPROCESAMIENTO DE LOS DATOS"
   ]
  },
  {
   "cell_type": "code",
   "execution_count": 11,
   "id": "32a9ded1-7ca9-40cb-bb7c-4be21b0a19fc",
   "metadata": {
    "tags": []
   },
   "outputs": [],
   "source": [
    "# extraen las etiquetas o labels\n",
    "def sent2labels(sent):\n",
    "    return [label for token, postag, label in sent]\n",
    "# extraer tokens o palabras\n",
    "def sent2tokens(sent):\n",
    "    return [token for token, postag, label in sent]"
   ]
  },
  {
   "cell_type": "code",
   "execution_count": 12,
   "id": "09b354b6-105e-435b-b0bf-8ff491d46ffa",
   "metadata": {
    "tags": []
   },
   "outputs": [
    {
     "data": {
      "text/plain": [
       "'Melbourne'"
      ]
     },
     "execution_count": 12,
     "metadata": {},
     "output_type": "execute_result"
    }
   ],
   "source": [
    "sent2tokens(train_sents[0])[0]\n",
    "#sent2labels(train_sents[0])[0]"
   ]
  },
  {
   "cell_type": "code",
   "execution_count": 13,
   "id": "2abe0a69-9c6a-4d8f-a6ee-327f9de4a95d",
   "metadata": {
    "tags": []
   },
   "outputs": [
    {
     "name": "stdout",
     "output_type": "stream",
     "text": [
      "CPU times: total: 62.5 ms\n",
      "Wall time: 109 ms\n"
     ]
    }
   ],
   "source": [
    "%%time\n",
    "# Conjunto de train\n",
    "X_train = [sent2tokens(s) for s in train_sents]\n",
    "y_train = [sent2labels(s) for s in train_sents]\n",
    "\n",
    "# Conjunto de testeo o de gold\n",
    "X_test = [sent2tokens(s) for s in test_sents]\n",
    "y_test = [sent2labels(s) for s in test_sents]\n",
    "\n",
    "# Conjunto de validación\n",
    "X_eval = [sent2tokens(s) for s in eval_sents]\n",
    "y_eval = [sent2labels(s) for s in eval_sents]"
   ]
  },
  {
   "cell_type": "code",
   "execution_count": 14,
   "id": "e9f43e89-f393-4652-b34e-615e55fd8eee",
   "metadata": {
    "tags": []
   },
   "outputs": [
    {
     "name": "stdout",
     "output_type": "stream",
     "text": [
      "['El', 'Abogado', 'General', 'del', 'Estado', ',', 'Daryl', 'Williams', ',', 'subrayó', 'hoy', 'la', 'necesidad', 'de', 'tomar', 'medidas', 'para', 'proteger', 'al', 'sistema', 'judicial', 'australiano', 'frente', 'a', 'una', 'página', 'de', 'internet', 'que', 'imposibilita', 'el', 'cumplimiento', 'de', 'los', 'principios', 'básicos', 'de', 'la', 'Ley', '.']\n",
      "['O', 'B-PER', 'I-PER', 'I-PER', 'I-PER', 'O', 'B-PER', 'I-PER', 'O', 'O', 'O', 'O', 'O', 'O', 'O', 'O', 'O', 'O', 'O', 'O', 'O', 'O', 'O', 'O', 'O', 'O', 'O', 'O', 'O', 'O', 'O', 'O', 'O', 'O', 'O', 'O', 'O', 'O', 'B-MISC', 'O']\n"
     ]
    }
   ],
   "source": [
    "print(X_train[2])\n",
    "print(y_train[2])"
   ]
  },
  {
   "cell_type": "code",
   "execution_count": 15,
   "id": "5c628f96-700a-4287-a82b-46450f945782",
   "metadata": {
    "tags": []
   },
   "outputs": [
    {
     "name": "stdout",
     "output_type": "stream",
     "text": [
      "28384\n",
      "11\n",
      "{'B-PER': 2, 'B-MISC': 3, 'I-ORG': 4, 'I-PER': 5, 'B-ORG': 6, 'I-LOC': 7, 'O': 8, 'B-LOC': 9, 'I-MISC': 10, '-PAD-': 0, '-OOV-': 1}\n",
      "{'B-PER', 'B-MISC', 'I-ORG', 'I-PER', 'B-ORG', 'I-LOC', 'O', 'B-LOC', 'I-MISC'}\n"
     ]
    }
   ],
   "source": [
    "import numpy as np\n",
    "\n",
    "words, tagsss = set([]), set([])\n",
    "\n",
    "for s in (X_train + X_eval + X_test):\n",
    "    for w in s:\n",
    "        words.add(w.lower())\n",
    "\n",
    "for ts in (y_train + y_eval + y_test):\n",
    "    for t in ts:\n",
    "        tagsss.add(t)\n",
    "\n",
    "word2index = {w: i + 2 for i, w in enumerate(list(words))}\n",
    "word2index['-PAD-'] = 0  # The special value used for padding\n",
    "word2index['-OOV-'] = 1  # The special value used for OOVs\n",
    "\n",
    "tag2index = {t: i + 2 for i, t in enumerate(list(tagsss))}\n",
    "tag2index['-PAD-'] = 0  # The special value used to padding\n",
    "tag2index['-OOV-'] = 1  # The special value used to padding\n",
    "\n",
    "print (len(word2index))\n",
    "print (len(tag2index))\n",
    "print(tag2index)\n",
    "\n",
    "\n",
    "print(tagsss)"
   ]
  },
  {
   "cell_type": "code",
   "execution_count": 16,
   "id": "b12b10bf-ebbd-4d75-ab90-d10fd7c104d2",
   "metadata": {
    "tags": []
   },
   "outputs": [],
   "source": [
    "train_sentences_X, eval_sentences_X, test_sentences_X, train_tags_y, eval_tags_y, test_tags_y = [], [], [], [], [], []\n",
    "\n",
    "for s in X_train:\n",
    "    s_int = []\n",
    "    for w in s:\n",
    "        try:\n",
    "            s_int.append(word2index[w.lower()])\n",
    "        except KeyError:\n",
    "            s_int.append(word2index['-OOV-'])\n",
    "\n",
    "    train_sentences_X.append(s_int)\n",
    "\n",
    "for s in X_eval:\n",
    "    s_int = []\n",
    "    for w in s:\n",
    "        try:\n",
    "            s_int.append(word2index[w.lower()])\n",
    "        except KeyError:\n",
    "            s_int.append(word2index['-OOV-'])\n",
    "\n",
    "    eval_sentences_X.append(s_int)\n",
    "\n",
    "for s in X_test:\n",
    "    s_int = []\n",
    "    for w in s:\n",
    "        try:\n",
    "            s_int.append(word2index[w.lower()])\n",
    "        except KeyError:\n",
    "            s_int.append(word2index['-OOV-'])\n",
    "\n",
    "    test_sentences_X.append(s_int)\n",
    "\n",
    "for s in y_train:\n",
    "    s_int = []\n",
    "    for w in s:\n",
    "        try:\n",
    "            s_int.append(tag2index[w])\n",
    "        except KeyError:\n",
    "            s_int.append(tag2index['-OOV-'])\n",
    "\n",
    "    train_tags_y.append(s_int)\n",
    "\n",
    "for s in y_eval:\n",
    "    s_int = []\n",
    "    for w in s:\n",
    "        try:\n",
    "            s_int.append(tag2index[w])\n",
    "        except KeyError:\n",
    "            s_int.append(tag2index['-OOV-'])\n",
    "\n",
    "    eval_tags_y.append(s_int)\n",
    "\n",
    "for s in y_test:\n",
    "    s_int = []\n",
    "    for w in s:\n",
    "        try:\n",
    "            s_int.append(tag2index[w])\n",
    "        except KeyError:\n",
    "            s_int.append(tag2index['-OOV-'])\n",
    "\n",
    "    test_tags_y.append(s_int)"
   ]
  },
  {
   "cell_type": "code",
   "execution_count": 17,
   "id": "4ef2cb2a-3f6d-4b0b-adeb-2deefbe06b94",
   "metadata": {},
   "outputs": [],
   "source": [
    "# En esta parte se enterizan las sentencias de train, val y testeo con longitudes diferentes."
   ]
  },
  {
   "cell_type": "code",
   "execution_count": 18,
   "id": "8469ad7d-c016-4039-96fb-e5491aed5a17",
   "metadata": {
    "tags": []
   },
   "outputs": [
    {
     "name": "stdout",
     "output_type": "stream",
     "text": [
      "Longitudes de las Matrices:\n",
      "8323\n",
      "1915\n",
      "1517\n",
      "8323\n",
      "1915\n",
      "1517\n",
      "\n",
      "Muestra de Datos presentes en las Matrices con las transformaciones:\n",
      "\n",
      "[3006, 307, 24226, 7807, 1011, 24171, 9418, 307, 24101, 7807, 12880]\n",
      "[18139, 7122, 307, 20600, 7807, 1011, 16003, 9418, 307, 7444, 7807, 12880]\n",
      "[13428, 2386, 1011, 16003, 9418, 307, 7444, 7807, 12880]\n",
      "[9, 8, 9, 8, 8, 8, 8, 8, 6, 8, 8]\n",
      "[9, 7, 8, 9, 8, 8, 8, 8, 8, 6, 8, 8]\n",
      "[9, 7, 8, 8, 8, 8, 6, 8, 8]\n"
     ]
    }
   ],
   "source": [
    "print(\"Longitudes de las Matrices:\")\n",
    "print(len(train_sentences_X))\n",
    "print(len(eval_sentences_X))\n",
    "print(len( test_sentences_X))\n",
    "print(len(train_tags_y))\n",
    "print(len(eval_tags_y))\n",
    "print(len(test_tags_y))\n",
    "\n",
    "print(\"\\nMuestra de Datos presentes en las Matrices con las transformaciones:\\n\")\n",
    "\n",
    "\n",
    "print(train_sentences_X[0])\n",
    "print(eval_sentences_X[0])\n",
    "print(test_sentences_X[0])\n",
    "print(train_tags_y[0])\n",
    "print(eval_tags_y[0])\n",
    "print(test_tags_y[0])\n"
   ]
  },
  {
   "cell_type": "markdown",
   "id": "70da1f0c-47c1-4e29-af69-480cab1aa3e4",
   "metadata": {
    "tags": []
   },
   "source": [
    "# Se procede a Normalizar las matrices con la longitud de la columna=MAX_LENGTH1 para que todas contengan el mismo numero de columnas, con la longitud máxima de palabras encontradas anteriormente y se agregan ceros a la derecha en las posiciones que hacen falta en el vector."
   ]
  },
  {
   "cell_type": "code",
   "execution_count": 19,
   "id": "b8a743a9-9bf8-4226-89ee-f9baef9b379f",
   "metadata": {
    "tags": []
   },
   "outputs": [
    {
     "name": "stdout",
     "output_type": "stream",
     "text": [
      "[ 3006   307 24226  7807  1011 24171  9418   307 24101  7807 12880     0\n",
      "     0     0     0     0     0     0     0     0     0     0     0     0\n",
      "     0     0     0     0     0     0     0     0     0     0     0     0\n",
      "     0     0     0     0     0     0     0     0     0     0     0     0\n",
      "     0     0     0     0     0     0     0     0     0     0     0     0\n",
      "     0     0     0     0     0     0     0     0     0     0     0     0\n",
      "     0     0     0     0     0     0     0     0     0     0     0     0\n",
      "     0     0     0     0     0     0     0     0     0     0     0     0\n",
      "     0     0     0     0     0     0     0     0     0     0     0     0\n",
      "     0     0     0     0     0     0     0     0     0     0     0     0\n",
      "     0     0     0     0     0     0     0     0     0     0     0     0\n",
      "     0     0     0     0     0     0     0     0     0     0     0     0\n",
      "     0     0     0     0     0     0     0     0     0     0     0     0\n",
      "     0     0     0     0     0     0     0     0     0     0     0     0\n",
      "     0     0     0     0     0     0     0     0     0     0     0     0\n",
      "     0     0     0     0     0     0     0     0     0     0     0     0\n",
      "     0     0     0     0     0     0     0     0     0     0]\n",
      "(8323, 202)\n",
      "[18139  7122   307 20600  7807  1011 16003  9418   307  7444  7807 12880\n",
      "     0     0     0     0     0     0     0     0     0     0     0     0\n",
      "     0     0     0     0     0     0     0     0     0     0     0     0\n",
      "     0     0     0     0     0     0     0     0     0     0     0     0\n",
      "     0     0     0     0     0     0     0     0     0     0     0     0\n",
      "     0     0     0     0     0     0     0     0     0     0     0     0\n",
      "     0     0     0     0     0     0     0     0     0     0     0     0\n",
      "     0     0     0     0     0     0     0     0     0     0     0     0\n",
      "     0     0     0     0     0     0     0     0     0     0     0     0\n",
      "     0     0     0     0     0     0     0     0     0     0     0     0\n",
      "     0     0     0     0     0     0     0     0     0     0     0     0\n",
      "     0     0     0     0     0     0     0     0     0     0     0     0\n",
      "     0     0     0     0     0     0     0     0     0     0     0     0\n",
      "     0     0     0     0     0     0     0     0     0     0     0     0\n",
      "     0     0     0     0     0     0     0     0     0     0     0     0\n",
      "     0     0     0     0     0     0     0     0     0     0     0     0\n",
      "     0     0     0     0     0     0     0     0     0     0]\n",
      "(1915, 202)\n",
      "[13428  2386  1011 16003  9418   307  7444  7807 12880     0     0     0\n",
      "     0     0     0     0     0     0     0     0     0     0     0     0\n",
      "     0     0     0     0     0     0     0     0     0     0     0     0\n",
      "     0     0     0     0     0     0     0     0     0     0     0     0\n",
      "     0     0     0     0     0     0     0     0     0     0     0     0\n",
      "     0     0     0     0     0     0     0     0     0     0     0     0\n",
      "     0     0     0     0     0     0     0     0     0     0     0     0\n",
      "     0     0     0     0     0     0     0     0     0     0     0     0\n",
      "     0     0     0     0     0     0     0     0     0     0     0     0\n",
      "     0     0     0     0     0     0     0     0     0     0     0     0\n",
      "     0     0     0     0     0     0     0     0     0     0     0     0\n",
      "     0     0     0     0     0     0     0     0     0     0     0     0\n",
      "     0     0     0     0     0     0     0     0     0     0     0     0\n",
      "     0     0     0     0     0     0     0     0     0     0     0     0\n",
      "     0     0     0     0     0     0     0     0     0     0     0     0\n",
      "     0     0     0     0     0     0     0     0     0     0     0     0\n",
      "     0     0     0     0     0     0     0     0     0     0]\n",
      "(1517, 202)\n",
      "[9 8 9 8 8 8 8 8 6 8 8 0 0 0 0 0 0 0 0 0 0 0 0 0 0 0 0 0 0 0 0 0 0 0 0 0 0\n",
      " 0 0 0 0 0 0 0 0 0 0 0 0 0 0 0 0 0 0 0 0 0 0 0 0 0 0 0 0 0 0 0 0 0 0 0 0 0\n",
      " 0 0 0 0 0 0 0 0 0 0 0 0 0 0 0 0 0 0 0 0 0 0 0 0 0 0 0 0 0 0 0 0 0 0 0 0 0\n",
      " 0 0 0 0 0 0 0 0 0 0 0 0 0 0 0 0 0 0 0 0 0 0 0 0 0 0 0 0 0 0 0 0 0 0 0 0 0\n",
      " 0 0 0 0 0 0 0 0 0 0 0 0 0 0 0 0 0 0 0 0 0 0 0 0 0 0 0 0 0 0 0 0 0 0 0 0 0\n",
      " 0 0 0 0 0 0 0 0 0 0 0 0 0 0 0 0 0]\n",
      "(8323, 202)\n",
      "[9 7 8 9 8 8 8 8 8 6 8 8 0 0 0 0 0 0 0 0 0 0 0 0 0 0 0 0 0 0 0 0 0 0 0 0 0\n",
      " 0 0 0 0 0 0 0 0 0 0 0 0 0 0 0 0 0 0 0 0 0 0 0 0 0 0 0 0 0 0 0 0 0 0 0 0 0\n",
      " 0 0 0 0 0 0 0 0 0 0 0 0 0 0 0 0 0 0 0 0 0 0 0 0 0 0 0 0 0 0 0 0 0 0 0 0 0\n",
      " 0 0 0 0 0 0 0 0 0 0 0 0 0 0 0 0 0 0 0 0 0 0 0 0 0 0 0 0 0 0 0 0 0 0 0 0 0\n",
      " 0 0 0 0 0 0 0 0 0 0 0 0 0 0 0 0 0 0 0 0 0 0 0 0 0 0 0 0 0 0 0 0 0 0 0 0 0\n",
      " 0 0 0 0 0 0 0 0 0 0 0 0 0 0 0 0 0]\n",
      "(1915, 202)\n",
      "[9 7 8 8 8 8 6 8 8 0 0 0 0 0 0 0 0 0 0 0 0 0 0 0 0 0 0 0 0 0 0 0 0 0 0 0 0\n",
      " 0 0 0 0 0 0 0 0 0 0 0 0 0 0 0 0 0 0 0 0 0 0 0 0 0 0 0 0 0 0 0 0 0 0 0 0 0\n",
      " 0 0 0 0 0 0 0 0 0 0 0 0 0 0 0 0 0 0 0 0 0 0 0 0 0 0 0 0 0 0 0 0 0 0 0 0 0\n",
      " 0 0 0 0 0 0 0 0 0 0 0 0 0 0 0 0 0 0 0 0 0 0 0 0 0 0 0 0 0 0 0 0 0 0 0 0 0\n",
      " 0 0 0 0 0 0 0 0 0 0 0 0 0 0 0 0 0 0 0 0 0 0 0 0 0 0 0 0 0 0 0 0 0 0 0 0 0\n",
      " 0 0 0 0 0 0 0 0 0 0 0 0 0 0 0 0 0]\n",
      "(1517, 202)\n"
     ]
    }
   ],
   "source": [
    "from tensorflow.keras.preprocessing.sequence import pad_sequences\n",
    "MAX_LENGTH=202\n",
    "train_sentences_X = pad_sequences(train_sentences_X, maxlen=MAX_LENGTH, padding='post')\n",
    "eval_sentences_X = pad_sequences(eval_sentences_X, maxlen=MAX_LENGTH, padding='post')\n",
    "test_sentences_X = pad_sequences(test_sentences_X, maxlen=MAX_LENGTH, padding='post')\n",
    "train_tags_y = pad_sequences(train_tags_y, maxlen=MAX_LENGTH, padding='post')\n",
    "eval_tags_y = pad_sequences(eval_tags_y, maxlen=MAX_LENGTH, padding='post')\n",
    "test_tags_y = pad_sequences(test_tags_y, maxlen=MAX_LENGTH, padding='post')\n",
    "\n",
    "print(train_sentences_X[0])\n",
    "print(train_sentences_X.shape)\n",
    "print(eval_sentences_X[0])\n",
    "print(eval_sentences_X.shape)\n",
    "print(test_sentences_X[0])\n",
    "print(test_sentences_X.shape)\n",
    "print(train_tags_y[0])\n",
    "print(train_tags_y.shape)\n",
    "print(eval_tags_y[0])\n",
    "print(eval_tags_y.shape)\n",
    "print(test_tags_y[0])\n",
    "print(test_tags_y.shape)"
   ]
  },
  {
   "cell_type": "code",
   "execution_count": 20,
   "id": "a18e393b-c20e-4803-8196-876a7c9afe87",
   "metadata": {
    "tags": []
   },
   "outputs": [],
   "source": [
    "def to_categoricals(sequences, categories):\n",
    "    cat_sequences = []\n",
    "    for s in sequences:\n",
    "        cats = []\n",
    "        for item in s:\n",
    "            cats.append(np.zeros(categories))\n",
    "            cats[-1][item] = 1.0\n",
    "        cat_sequences.append(cats)\n",
    "    return np.array(cat_sequences)"
   ]
  },
  {
   "cell_type": "code",
   "execution_count": 21,
   "id": "9ec52be3-0c12-4613-be19-8c32cdc6b8de",
   "metadata": {
    "tags": []
   },
   "outputs": [],
   "source": [
    "def encode(data):\n",
    "    print('Shape of data (BEFORE encode): %s' % str(data.shape))\n",
    "    encoded = to_categorical(data)\n",
    "    print('Shape of data (AFTER  encode): %s\\n' % str(encoded.shape))\n",
    "    return encoded"
   ]
  },
  {
   "cell_type": "markdown",
   "id": "ac0b0d0f-7f41-45c4-9091-796c4d740753",
   "metadata": {},
   "source": [
    "# Se realiza la categorización one-hot de las etiquetas o labels de entrenamiento, testeo y validación"
   ]
  },
  {
   "cell_type": "code",
   "execution_count": 22,
   "id": "648a9a58-c32e-410f-b026-8d8c8256cd2a",
   "metadata": {
    "tags": []
   },
   "outputs": [
    {
     "name": "stdout",
     "output_type": "stream",
     "text": [
      "[[0. 0. 0. ... 1. 0. 0.]\n",
      " [1. 0. 0. ... 0. 0. 0.]\n",
      " [1. 0. 0. ... 0. 0. 0.]\n",
      " ...\n",
      " [1. 0. 0. ... 0. 0. 0.]\n",
      " [1. 0. 0. ... 0. 0. 0.]\n",
      " [1. 0. 0. ... 0. 0. 0.]]\n",
      "8323\n",
      "(8323, 202, 11)\n",
      "1517\n"
     ]
    }
   ],
   "source": [
    "cat_train_tags_y = to_categoricals(train_tags_y, len(tag2index))\n",
    "cat_eval_tags_y  = to_categoricals(eval_tags_y, len(tag2index))\n",
    "cat_test_tags_y  = to_categoricals(test_tags_y, len(tag2index))\n",
    "\n",
    "print(cat_train_tags_y[1])\n",
    "print(len(cat_train_tags_y))\n",
    "print(cat_train_tags_y.shape)\n",
    "print(len(cat_test_tags_y))"
   ]
  },
  {
   "cell_type": "markdown",
   "id": "325153f7-61ab-4d2f-8b79-4a11c352a54c",
   "metadata": {},
   "source": [
    "# Carga del embeddings de Europarl\n",
    "En la variable **embedding_matrix** se guarda el conjunto de vectores embebidos"
   ]
  },
  {
   "cell_type": "code",
   "execution_count": 23,
   "id": "166ce56a-426f-4620-9014-ae7b5a6e0961",
   "metadata": {
    "tags": []
   },
   "outputs": [
    {
     "name": "stdout",
     "output_type": "stream",
     "text": [
      "Cargando archivo...\n"
     ]
    },
    {
     "name": "stderr",
     "output_type": "stream",
     "text": [
      "179359it [00:21, 8303.31it/s]\n"
     ]
    },
    {
     "name": "stdout",
     "output_type": "stream",
     "text": [
      "Encontrado 179359 Word Vectors.\n"
     ]
    },
    {
     "name": "stderr",
     "output_type": "stream",
     "text": [
      "100%|████████████████████████████████████████████████████████████████████████| 28384/28384 [00:00<00:00, 323261.65it/s]"
     ]
    },
    {
     "name": "stdout",
     "output_type": "stream",
     "text": [
      "Convertidos: 18312 Tokens | Perdidos: 10365 Tokens\n"
     ]
    },
    {
     "name": "stderr",
     "output_type": "stream",
     "text": [
      "\n"
     ]
    }
   ],
   "source": [
    "from utils import build_matrix_embeddings as bme, plot_model_performance, logits_to_tokens, report_to_df\n",
    "EMBED_DIM=300\n",
    "file = 'word2vec_skip-gram_model_300.txt'\n",
    "file= 'Europarl_fasttext_skip_model_300.txt'\n",
    "embedding_matrix = bme(file, len(word2index), EMBED_DIM, word2index)"
   ]
  },
  {
   "cell_type": "markdown",
   "id": "2a171e5a-ce83-42e4-8601-7ab11ef4669f",
   "metadata": {},
   "source": [
    "# 2. MODELO DE LA RED NEURONAL RECURSIVA (BILSTM+ CRF)"
   ]
  },
  {
   "cell_type": "markdown",
   "id": "9578d9b7-5243-4ac6-bb2c-042761626e9a",
   "metadata": {},
   "source": [
    "#  Modelo matématico\n",
    "# Aqui  se define el modelo matémático de la  máquina de aprendizaje que en este caso en una red neuronal recursiva RNN. Específicamente es un Bilstm que  es un Lstm en dos direcciones  y un CRF  para mejorar la distribución probabilística producto de la  red neunoral. En esta red de prueba una estructura de Masking para mejorar las distribuciones probabilídticas. En pocas palabras cumple la función de un distributed. Esta red neuronal tiene una entrada **input = Input(shape=(MAX_LENGTH,))**  esta entrada tiene la longitud de la máxima sentencia  que es 202. Luego se define la matriz de embedding que es una vectorización de palabras usando Word2vec. Esta es una matriz que se vuelve de tres dimensiones 28384 X 202 X 300 y cuando se tiene embedding de palabras se llena son los pesos de la matriz preentrenada, ya sea de word2vec, fasttext o glove. También se pueden concatenar matrices de embedding de otras características lingúísticas como el POS, lema, ect. Luego viene la"
   ]
  },
  {
   "cell_type": "code",
   "execution_count": 24,
   "id": "e03968d3-7d16-4e8c-8811-ad3e70e0557c",
   "metadata": {},
   "outputs": [],
   "source": [
    "import numpy as np\n",
    "import tensorflow\n",
    "from tensorflow.keras import Sequential, Model, Input\n",
    "from tensorflow.keras.layers import LSTM, Embedding, Dense, TimeDistributed, Dropout, Bidirectional\n",
    "from tensorflow.keras.utils import plot_model"
   ]
  },
  {
   "cell_type": "code",
   "execution_count": 25,
   "id": "eae61744-3829-4eae-9499-13f513c66bad",
   "metadata": {
    "tags": []
   },
   "outputs": [
    {
     "name": "stdout",
     "output_type": "stream",
     "text": [
      "WARNING:tensorflow:From C:\\Users\\edins\\AppData\\Local\\Packages\\PythonSoftwareFoundation.Python.3.10_qbz5n2kfra8p0\\LocalCache\\local-packages\\Python310\\site-packages\\keras\\src\\backend.py:1398: The name tf.executing_eagerly_outside_functions is deprecated. Please use tf.compat.v1.executing_eagerly_outside_functions instead.\n",
      "\n",
      "WARNING:tensorflow:From C:\\Users\\edins\\AppData\\Local\\Packages\\PythonSoftwareFoundation.Python.3.10_qbz5n2kfra8p0\\LocalCache\\local-packages\\Python310\\site-packages\\keras\\src\\optimizers\\__init__.py:309: The name tf.train.Optimizer is deprecated. Please use tf.compat.v1.train.Optimizer instead.\n",
      "\n"
     ]
    }
   ],
   "source": [
    "from tf2crf import CRF as crf6\n",
    "import keras as k\n",
    "from mwrapper import ModelWithCRFLoss, ModelWithCRFLossDSCLoss\n",
    "from keras.layers import Masking\n",
    "\n",
    "input = Input(shape=(MAX_LENGTH,))\n",
    "word_embedding_size = 300\n",
    "EMBED_DIM = 300\n",
    "# Embedding Layer\n",
    "model = Embedding(input_dim=len(word2index),\n",
    "                  weights=[embedding_matrix],  # Initializing with FastText embeddings\n",
    "                output_dim=word_embedding_size,\n",
    "                input_length=MAX_LENGTH,\n",
    "                mask_zero=False)(input)\n",
    "model = Bidirectional(LSTM(units=50,\n",
    "                     return_sequences=True,\n",
    "                     dropout=0.5,\n",
    "                     recurrent_dropout=0))(model)\n",
    "\n",
    "model  = Dropout(0.5, name='dropout_lstm')(model)\n",
    "model  = Dense(units=EMBED_DIM, activation='tanh')(model)\n",
    "model  = Dense(units=len(tag2index), activation='tanh')(model)\n",
    "\n",
    "model = Masking(mask_value= 0.,input_shape=(MAX_LENGTH,len(tag2index)))(model)\n",
    "\n",
    "crf = crf6(units=len(tag2index), name=\"ner_crf\")\n",
    "predictions = crf(model)\n",
    "\n",
    "base_model = Model(inputs=input, outputs=predictions)\n",
    "model = ModelWithCRFLoss(base_model, sparse_target=True)\n",
    "#keras.mixed_precision.set_global_policy(\"mixed_float16\")\n",
    "model.compile(optimizer='adam')"
   ]
  },
  {
   "cell_type": "code",
   "execution_count": 26,
   "id": "6e3f15ac-70f6-43e6-9a98-0050dd77aea1",
   "metadata": {
    "tags": []
   },
   "outputs": [
    {
     "name": "stdout",
     "output_type": "stream",
     "text": [
      "Epoch 1/80\n",
      "66/66 - 40s - loss: 135.2910 - accuracy: 0.8733 - val_loss_val: 51.8831 - val_val_accuracy: 0.9780 - 40s/epoch - 611ms/step\n",
      "Epoch 2/80\n",
      "66/66 - 30s - loss: 41.8735 - accuracy: 0.9799 - val_loss_val: 32.3108 - val_val_accuracy: 0.9803 - 30s/epoch - 450ms/step\n",
      "Epoch 3/80\n",
      "66/66 - 29s - loss: 28.7951 - accuracy: 0.9805 - val_loss_val: 24.5882 - val_val_accuracy: 0.9804 - 29s/epoch - 444ms/step\n",
      "Epoch 4/80\n",
      "66/66 - 30s - loss: 22.9458 - accuracy: 0.9805 - val_loss_val: 20.7450 - val_val_accuracy: 0.9804 - 30s/epoch - 453ms/step\n",
      "Epoch 5/80\n",
      "66/66 - 30s - loss: 19.6816 - accuracy: 0.9806 - val_loss_val: 18.2488 - val_val_accuracy: 0.9804 - 30s/epoch - 459ms/step\n",
      "Epoch 6/80\n",
      "66/66 - 34s - loss: 17.1915 - accuracy: 0.9806 - val_loss_val: 16.6215 - val_val_accuracy: 0.9804 - 34s/epoch - 510ms/step\n",
      "Epoch 7/80\n",
      "66/66 - 33s - loss: 15.7055 - accuracy: 0.9806 - val_loss_val: 15.4195 - val_val_accuracy: 0.9805 - 33s/epoch - 498ms/step\n",
      "Epoch 8/80\n",
      "66/66 - 31s - loss: 14.4485 - accuracy: 0.9807 - val_loss_val: 14.4863 - val_val_accuracy: 0.9805 - 31s/epoch - 463ms/step\n",
      "Epoch 9/80\n",
      "66/66 - 31s - loss: 13.5127 - accuracy: 0.9808 - val_loss_val: 13.6551 - val_val_accuracy: 0.9808 - 31s/epoch - 464ms/step\n",
      "Epoch 10/80\n",
      "66/66 - 30s - loss: 12.4048 - accuracy: 0.9836 - val_loss_val: 12.7408 - val_val_accuracy: 0.9833 - 30s/epoch - 462ms/step\n",
      "Epoch 11/80\n",
      "66/66 - 30s - loss: 10.9374 - accuracy: 0.9864 - val_loss_val: 11.7452 - val_val_accuracy: 0.9846 - 30s/epoch - 462ms/step\n",
      "Epoch 12/80\n",
      "66/66 - 31s - loss: 9.7497 - accuracy: 0.9881 - val_loss_val: 10.9606 - val_val_accuracy: 0.9853 - 31s/epoch - 466ms/step\n",
      "Epoch 13/80\n",
      "66/66 - 31s - loss: 8.6005 - accuracy: 0.9891 - val_loss_val: 10.3322 - val_val_accuracy: 0.9856 - 31s/epoch - 466ms/step\n",
      "Epoch 14/80\n",
      "66/66 - 31s - loss: 7.8804 - accuracy: 0.9898 - val_loss_val: 9.9349 - val_val_accuracy: 0.9861 - 31s/epoch - 467ms/step\n",
      "Epoch 15/80\n",
      "66/66 - 31s - loss: 7.2351 - accuracy: 0.9906 - val_loss_val: 9.5777 - val_val_accuracy: 0.9866 - 31s/epoch - 466ms/step\n",
      "Epoch 16/80\n",
      "66/66 - 31s - loss: 6.6227 - accuracy: 0.9916 - val_loss_val: 9.2209 - val_val_accuracy: 0.9872 - 31s/epoch - 466ms/step\n",
      "Epoch 17/80\n",
      "66/66 - 31s - loss: 5.9586 - accuracy: 0.9925 - val_loss_val: 8.8609 - val_val_accuracy: 0.9875 - 31s/epoch - 474ms/step\n",
      "Epoch 18/80\n",
      "66/66 - 31s - loss: 5.5550 - accuracy: 0.9932 - val_loss_val: 8.5029 - val_val_accuracy: 0.9880 - 31s/epoch - 465ms/step\n",
      "Epoch 19/80\n",
      "66/66 - 31s - loss: 4.9209 - accuracy: 0.9938 - val_loss_val: 8.2445 - val_val_accuracy: 0.9881 - 31s/epoch - 472ms/step\n",
      "Epoch 20/80\n",
      "66/66 - 31s - loss: 4.5189 - accuracy: 0.9943 - val_loss_val: 8.0457 - val_val_accuracy: 0.9886 - 31s/epoch - 473ms/step\n",
      "Epoch 21/80\n",
      "66/66 - 30s - loss: 4.2067 - accuracy: 0.9947 - val_loss_val: 7.8944 - val_val_accuracy: 0.9886 - 30s/epoch - 457ms/step\n",
      "Epoch 22/80\n",
      "66/66 - 29s - loss: 3.8445 - accuracy: 0.9951 - val_loss_val: 7.7544 - val_val_accuracy: 0.9889 - 29s/epoch - 442ms/step\n",
      "Epoch 23/80\n",
      "66/66 - 29s - loss: 3.5635 - accuracy: 0.9955 - val_loss_val: 7.7172 - val_val_accuracy: 0.9890 - 29s/epoch - 442ms/step\n",
      "Epoch 24/80\n",
      "66/66 - 29s - loss: 3.3609 - accuracy: 0.9957 - val_loss_val: 7.4948 - val_val_accuracy: 0.9890 - 29s/epoch - 444ms/step\n",
      "Epoch 25/80\n",
      "66/66 - 29s - loss: 3.1256 - accuracy: 0.9959 - val_loss_val: 7.5037 - val_val_accuracy: 0.9891 - 29s/epoch - 442ms/step\n",
      "Epoch 26/80\n",
      "66/66 - 29s - loss: 2.9472 - accuracy: 0.9962 - val_loss_val: 7.4170 - val_val_accuracy: 0.9894 - 29s/epoch - 442ms/step\n",
      "Epoch 27/80\n",
      "66/66 - 29s - loss: 2.7803 - accuracy: 0.9965 - val_loss_val: 7.4289 - val_val_accuracy: 0.9891 - 29s/epoch - 442ms/step\n",
      "Epoch 28/80\n",
      "66/66 - 29s - loss: 2.6003 - accuracy: 0.9967 - val_loss_val: 7.3948 - val_val_accuracy: 0.9892 - 29s/epoch - 442ms/step\n",
      "Epoch 29/80\n",
      "66/66 - 29s - loss: 2.4117 - accuracy: 0.9969 - val_loss_val: 7.2397 - val_val_accuracy: 0.9893 - 29s/epoch - 444ms/step\n",
      "Epoch 30/80\n",
      "66/66 - 29s - loss: 2.2649 - accuracy: 0.9972 - val_loss_val: 7.4563 - val_val_accuracy: 0.9895 - 29s/epoch - 443ms/step\n",
      "Epoch 31/80\n",
      "66/66 - 29s - loss: 2.1133 - accuracy: 0.9973 - val_loss_val: 7.2263 - val_val_accuracy: 0.9895 - 29s/epoch - 443ms/step\n",
      "Epoch 32/80\n",
      "66/66 - 29s - loss: 2.1278 - accuracy: 0.9974 - val_loss_val: 7.3169 - val_val_accuracy: 0.9894 - 29s/epoch - 444ms/step\n",
      "Epoch 33/80\n",
      "66/66 - 29s - loss: 1.9218 - accuracy: 0.9975 - val_loss_val: 7.2131 - val_val_accuracy: 0.9893 - 29s/epoch - 442ms/step\n",
      "Epoch 34/80\n",
      "66/66 - 29s - loss: 1.7915 - accuracy: 0.9978 - val_loss_val: 7.2323 - val_val_accuracy: 0.9895 - 29s/epoch - 444ms/step\n",
      "Epoch 35/80\n",
      "66/66 - 29s - loss: 1.6708 - accuracy: 0.9980 - val_loss_val: 7.1690 - val_val_accuracy: 0.9898 - 29s/epoch - 444ms/step\n",
      "Epoch 36/80\n",
      "66/66 - 29s - loss: 1.5964 - accuracy: 0.9981 - val_loss_val: 7.2036 - val_val_accuracy: 0.9894 - 29s/epoch - 441ms/step\n",
      "Epoch 37/80\n",
      "66/66 - 29s - loss: 1.5239 - accuracy: 0.9981 - val_loss_val: 7.3164 - val_val_accuracy: 0.9894 - 29s/epoch - 443ms/step\n",
      "Epoch 38/80\n",
      "66/66 - 29s - loss: 1.4385 - accuracy: 0.9983 - val_loss_val: 7.3881 - val_val_accuracy: 0.9896 - 29s/epoch - 441ms/step\n",
      "Epoch 39/80\n",
      "66/66 - 30s - loss: 1.3575 - accuracy: 0.9983 - val_loss_val: 7.4023 - val_val_accuracy: 0.9897 - 30s/epoch - 451ms/step\n",
      "Epoch 40/80\n",
      "66/66 - 30s - loss: 1.3372 - accuracy: 0.9984 - val_loss_val: 7.3689 - val_val_accuracy: 0.9897 - 30s/epoch - 451ms/step\n",
      "Epoch 41/80\n",
      "66/66 - 30s - loss: 1.2511 - accuracy: 0.9985 - val_loss_val: 7.3664 - val_val_accuracy: 0.9896 - 30s/epoch - 449ms/step\n",
      "Epoch 42/80\n",
      "66/66 - 30s - loss: 1.1976 - accuracy: 0.9985 - val_loss_val: 7.3620 - val_val_accuracy: 0.9894 - 30s/epoch - 450ms/step\n",
      "Epoch 43/80\n",
      "66/66 - 30s - loss: 1.1660 - accuracy: 0.9985 - val_loss_val: 7.5745 - val_val_accuracy: 0.9894 - 30s/epoch - 451ms/step\n",
      "Epoch 44/80\n",
      "66/66 - 30s - loss: 1.0721 - accuracy: 0.9987 - val_loss_val: 7.5013 - val_val_accuracy: 0.9896 - 30s/epoch - 450ms/step\n",
      "Epoch 45/80\n",
      "66/66 - 30s - loss: 1.0536 - accuracy: 0.9987 - val_loss_val: 7.5883 - val_val_accuracy: 0.9898 - 30s/epoch - 451ms/step\n",
      "Epoch 46/80\n",
      "66/66 - 30s - loss: 1.0053 - accuracy: 0.9987 - val_loss_val: 7.5789 - val_val_accuracy: 0.9895 - 30s/epoch - 452ms/step\n",
      "Epoch 47/80\n",
      "66/66 - 30s - loss: 0.9663 - accuracy: 0.9988 - val_loss_val: 7.7409 - val_val_accuracy: 0.9895 - 30s/epoch - 450ms/step\n",
      "Epoch 48/80\n",
      "66/66 - 30s - loss: 0.9421 - accuracy: 0.9988 - val_loss_val: 7.7181 - val_val_accuracy: 0.9894 - 30s/epoch - 447ms/step\n",
      "Epoch 49/80\n",
      "66/66 - 29s - loss: 0.8806 - accuracy: 0.9989 - val_loss_val: 7.5544 - val_val_accuracy: 0.9897 - 29s/epoch - 445ms/step\n",
      "Epoch 50/80\n",
      "66/66 - 29s - loss: 0.8442 - accuracy: 0.9989 - val_loss_val: 7.6629 - val_val_accuracy: 0.9897 - 29s/epoch - 446ms/step\n",
      "Epoch 51/80\n",
      "66/66 - 29s - loss: 0.8197 - accuracy: 0.9989 - val_loss_val: 7.7636 - val_val_accuracy: 0.9897 - 29s/epoch - 445ms/step\n",
      "Epoch 52/80\n",
      "66/66 - 29s - loss: 0.7775 - accuracy: 0.9990 - val_loss_val: 7.6427 - val_val_accuracy: 0.9896 - 29s/epoch - 444ms/step\n",
      "Epoch 53/80\n",
      "66/66 - 29s - loss: 0.7754 - accuracy: 0.9990 - val_loss_val: 7.7750 - val_val_accuracy: 0.9896 - 29s/epoch - 446ms/step\n",
      "Epoch 54/80\n",
      "66/66 - 29s - loss: 0.7441 - accuracy: 0.9990 - val_loss_val: 7.8310 - val_val_accuracy: 0.9896 - 29s/epoch - 444ms/step\n",
      "Epoch 55/80\n",
      "66/66 - 29s - loss: 0.7640 - accuracy: 0.9990 - val_loss_val: 7.7473 - val_val_accuracy: 0.9896 - 29s/epoch - 446ms/step\n",
      "Epoch 56/80\n",
      "66/66 - 29s - loss: 0.6890 - accuracy: 0.9991 - val_loss_val: 7.9563 - val_val_accuracy: 0.9895 - 29s/epoch - 443ms/step\n",
      "Epoch 57/80\n",
      "66/66 - 29s - loss: 0.6591 - accuracy: 0.9991 - val_loss_val: 7.9307 - val_val_accuracy: 0.9898 - 29s/epoch - 445ms/step\n",
      "Epoch 58/80\n",
      "66/66 - 29s - loss: 0.6298 - accuracy: 0.9992 - val_loss_val: 7.9863 - val_val_accuracy: 0.9898 - 29s/epoch - 446ms/step\n",
      "Epoch 59/80\n",
      "66/66 - 29s - loss: 0.6157 - accuracy: 0.9992 - val_loss_val: 8.0359 - val_val_accuracy: 0.9895 - 29s/epoch - 446ms/step\n",
      "Epoch 60/80\n",
      "66/66 - 29s - loss: 0.5996 - accuracy: 0.9992 - val_loss_val: 7.9749 - val_val_accuracy: 0.9895 - 29s/epoch - 446ms/step\n",
      "Epoch 61/80\n",
      "66/66 - 29s - loss: 0.5742 - accuracy: 0.9993 - val_loss_val: 7.9120 - val_val_accuracy: 0.9897 - 29s/epoch - 445ms/step\n",
      "Epoch 62/80\n",
      "66/66 - 30s - loss: 0.5576 - accuracy: 0.9993 - val_loss_val: 7.9172 - val_val_accuracy: 0.9897 - 30s/epoch - 447ms/step\n",
      "Epoch 63/80\n",
      "66/66 - 30s - loss: 0.5268 - accuracy: 0.9993 - val_loss_val: 8.0433 - val_val_accuracy: 0.9897 - 30s/epoch - 447ms/step\n",
      "Epoch 64/80\n",
      "66/66 - 29s - loss: 0.5300 - accuracy: 0.9993 - val_loss_val: 7.9669 - val_val_accuracy: 0.9896 - 29s/epoch - 445ms/step\n",
      "Epoch 65/80\n",
      "66/66 - 29s - loss: 0.5232 - accuracy: 0.9993 - val_loss_val: 7.9720 - val_val_accuracy: 0.9899 - 29s/epoch - 447ms/step\n",
      "Epoch 66/80\n",
      "66/66 - 29s - loss: 0.5007 - accuracy: 0.9993 - val_loss_val: 8.3117 - val_val_accuracy: 0.9895 - 29s/epoch - 446ms/step\n",
      "Epoch 67/80\n",
      "66/66 - 29s - loss: 0.4725 - accuracy: 0.9994 - val_loss_val: 8.0721 - val_val_accuracy: 0.9899 - 29s/epoch - 446ms/step\n",
      "Epoch 68/80\n",
      "66/66 - 29s - loss: 0.4631 - accuracy: 0.9994 - val_loss_val: 8.3033 - val_val_accuracy: 0.9899 - 29s/epoch - 447ms/step\n",
      "Epoch 69/80\n",
      "66/66 - 29s - loss: 0.4967 - accuracy: 0.9993 - val_loss_val: 8.1743 - val_val_accuracy: 0.9897 - 29s/epoch - 444ms/step\n",
      "Epoch 70/80\n",
      "66/66 - 29s - loss: 0.4392 - accuracy: 0.9994 - val_loss_val: 8.2015 - val_val_accuracy: 0.9899 - 29s/epoch - 446ms/step\n",
      "Epoch 71/80\n",
      "66/66 - 29s - loss: 0.4294 - accuracy: 0.9994 - val_loss_val: 8.4315 - val_val_accuracy: 0.9896 - 29s/epoch - 447ms/step\n",
      "Epoch 72/80\n",
      "66/66 - 29s - loss: 0.4251 - accuracy: 0.9994 - val_loss_val: 8.1461 - val_val_accuracy: 0.9898 - 29s/epoch - 446ms/step\n",
      "Epoch 73/80\n",
      "66/66 - 29s - loss: 0.4080 - accuracy: 0.9994 - val_loss_val: 8.3277 - val_val_accuracy: 0.9897 - 29s/epoch - 446ms/step\n",
      "Epoch 74/80\n",
      "66/66 - 29s - loss: 0.3899 - accuracy: 0.9995 - val_loss_val: 8.5181 - val_val_accuracy: 0.9896 - 29s/epoch - 445ms/step\n",
      "Epoch 75/80\n",
      "66/66 - 30s - loss: 0.3881 - accuracy: 0.9994 - val_loss_val: 8.3226 - val_val_accuracy: 0.9898 - 30s/epoch - 447ms/step\n",
      "Epoch 76/80\n",
      "66/66 - 29s - loss: 0.3703 - accuracy: 0.9995 - val_loss_val: 8.3709 - val_val_accuracy: 0.9899 - 29s/epoch - 446ms/step\n",
      "Epoch 77/80\n",
      "66/66 - 29s - loss: 0.3605 - accuracy: 0.9995 - val_loss_val: 8.3562 - val_val_accuracy: 0.9897 - 29s/epoch - 445ms/step\n",
      "Epoch 78/80\n",
      "66/66 - 29s - loss: 0.3506 - accuracy: 0.9995 - val_loss_val: 8.5724 - val_val_accuracy: 0.9897 - 29s/epoch - 445ms/step\n",
      "Epoch 79/80\n",
      "66/66 - 29s - loss: 0.3722 - accuracy: 0.9995 - val_loss_val: 8.5509 - val_val_accuracy: 0.9899 - 29s/epoch - 447ms/step\n",
      "Epoch 80/80\n",
      "66/66 - 29s - loss: 0.3384 - accuracy: 0.9995 - val_loss_val: 8.4156 - val_val_accuracy: 0.9898 - 29s/epoch - 446ms/step\n"
     ]
    }
   ],
   "source": [
    "#with tf.device('/device:GPU:0'):\n",
    "history= model.fit(train_sentences_X, cat_train_tags_y,\n",
    "      validation_data=(eval_sentences_X, cat_eval_tags_y),\n",
    "      batch_size=128,\n",
    "      epochs=80,\n",
    "      verbose=2)"
   ]
  },
  {
   "cell_type": "code",
   "execution_count": 27,
   "id": "e012a4e2-7eb4-45d1-a5d6-e6c4a87f9ca5",
   "metadata": {
    "tags": []
   },
   "outputs": [
    {
     "name": "stdout",
     "output_type": "stream",
     "text": [
      "{'B-PER': 2, 'B-MISC': 3, 'I-ORG': 4, 'I-PER': 5, 'B-ORG': 6, 'I-LOC': 7, 'O': 8, 'B-LOC': 9, 'I-MISC': 10, '-PAD-': 0, '-OOV-': 1}\n",
      "[[13428  2386  1011 ...     0     0     0]\n",
      " [12278     0     0 ...     0     0     0]\n",
      " [ 2670   957  8006 ...     0     0     0]\n",
      " ...\n",
      " [13428 20829 20191 ...     0     0     0]\n",
      " [ 1373 21611   642 ...     0     0     0]\n",
      " [13428 24340 10415 ...     0     0     0]]\n",
      "48/48 [==============================] - 3s 42ms/step\n",
      "(1517, 202)\n",
      "[[9 7 8 ... 0 0 0]\n",
      " [8 0 0 ... 0 0 0]\n",
      " [8 8 8 ... 0 0 0]\n",
      " ...\n",
      " [8 9 8 ... 0 0 0]\n",
      " [8 8 8 ... 0 0 0]\n",
      " [8 8 8 ... 0 0 0]]\n"
     ]
    }
   ],
   "source": [
    "print(tag2index)\n",
    "print(test_sentences_X)\n",
    "y_pred= model.predict(test_sentences_X)\n",
    "print(y_pred.shape)\n",
    "print(y_pred)"
   ]
  },
  {
   "cell_type": "code",
   "execution_count": 28,
   "id": "7915ee53-5e81-4084-ba9c-10f90b18a0d9",
   "metadata": {
    "tags": []
   },
   "outputs": [
    {
     "name": "stdout",
     "output_type": "stream",
     "text": [
      "{2: 'B-PER', 3: 'B-MISC', 4: 'I-ORG', 5: 'I-PER', 6: 'B-ORG', 7: 'I-LOC', 8: 'O', 9: 'B-LOC', 10: 'I-MISC', 0: '-PAD-', 1: '-OOV-'}\n",
      "['O', 'O', 'O', 'O', 'O', 'B-ORG', 'I-ORG', 'I-ORG', 'I-ORG', 'O', 'O', 'O', 'O', 'O', 'B-ORG', 'I-ORG', 'O', 'O', 'B-ORG', 'I-ORG', 'O', 'B-ORG', 'I-ORG', 'O', 'B-ORG', 'O', 'O', 'O', 'O', 'O', 'O', 'O', 'O', 'O', 'O', 'O', 'O', 'O', 'O', 'O', 'O', 'O', 'O', 'O', 'O', '-PAD-', '-PAD-', '-PAD-', '-PAD-', '-PAD-', '-PAD-', '-PAD-', '-PAD-', '-PAD-', '-PAD-', '-PAD-', '-PAD-', '-PAD-', '-PAD-', '-PAD-', '-PAD-', '-PAD-', '-PAD-', '-PAD-', '-PAD-', '-PAD-', '-PAD-', '-PAD-', '-PAD-', '-PAD-', '-PAD-', '-PAD-', '-PAD-', '-PAD-', '-PAD-', '-PAD-', '-PAD-', '-PAD-', '-PAD-', '-PAD-', '-PAD-', '-PAD-', '-PAD-', '-PAD-', '-PAD-', '-PAD-', '-PAD-', '-PAD-', '-PAD-', '-PAD-', '-PAD-', '-PAD-', '-PAD-', '-PAD-', '-PAD-', '-PAD-', '-PAD-', '-PAD-', '-PAD-', '-PAD-', '-PAD-', '-PAD-', '-PAD-', '-PAD-', '-PAD-', '-PAD-', '-PAD-', '-PAD-', '-PAD-', '-PAD-', '-PAD-', '-PAD-', '-PAD-', '-PAD-', '-PAD-', '-PAD-', '-PAD-', '-PAD-', '-PAD-', '-PAD-', '-PAD-', '-PAD-', '-PAD-', '-PAD-', '-PAD-', '-PAD-', '-PAD-', '-PAD-', '-PAD-', '-PAD-', '-PAD-', '-PAD-', '-PAD-', '-PAD-', '-PAD-', '-PAD-', '-PAD-', '-PAD-', '-PAD-', '-PAD-', '-PAD-', '-PAD-', '-PAD-', '-PAD-', '-PAD-', '-PAD-', '-PAD-', '-PAD-', '-PAD-', '-PAD-', '-PAD-', '-PAD-', '-PAD-', '-PAD-', '-PAD-', '-PAD-', '-PAD-', '-PAD-', '-PAD-', '-PAD-', '-PAD-', '-PAD-', '-PAD-', '-PAD-', '-PAD-', '-PAD-', '-PAD-', '-PAD-', '-PAD-', '-PAD-', '-PAD-', '-PAD-', '-PAD-', '-PAD-', '-PAD-', '-PAD-', '-PAD-', '-PAD-', '-PAD-', '-PAD-', '-PAD-', '-PAD-', '-PAD-', '-PAD-', '-PAD-', '-PAD-', '-PAD-', '-PAD-', '-PAD-', '-PAD-', '-PAD-', '-PAD-', '-PAD-', '-PAD-', '-PAD-', '-PAD-', '-PAD-', '-PAD-', '-PAD-', '-PAD-', '-PAD-', '-PAD-']\n"
     ]
    }
   ],
   "source": [
    "from utils import build_matrix_embeddings as bme, plot_model_performance, logits_to_tokens, report_to_df\n",
    "index2tag = {i: t for t, i in tag2index.items()}\n",
    "print(index2tag)\n",
    "y1_pred = logits_to_tokens(y_pred, index2tag)\n",
    "print(y1_pred[10])"
   ]
  },
  {
   "cell_type": "code",
   "execution_count": 29,
   "id": "957adfe4-0a29-422c-abe0-3db3e82e2b72",
   "metadata": {
    "tags": []
   },
   "outputs": [
    {
     "name": "stdout",
     "output_type": "stream",
     "text": [
      "{2: 'B-PER', 3: 'B-MISC', 4: 'I-ORG', 5: 'I-PER', 6: 'B-ORG', 7: 'I-LOC', 8: 'O', 9: 'B-LOC', 10: 'I-MISC', 0: '-PAD-', 1: '-OOV-'}\n",
      "['O', 'O', 'O', 'O', 'O', 'B-ORG', 'I-ORG', 'I-ORG', 'I-ORG', 'O', 'O', 'O', 'O', 'O', 'B-ORG', 'I-ORG', 'O', 'O', 'B-ORG', 'I-ORG', 'O', 'O', 'O', 'O', 'O', 'O', 'O', 'O', 'O', 'O', 'O', 'O', 'O', 'O', 'O', 'O', 'O', 'O', 'O', 'O', 'O', 'O', 'O', 'O', 'O', '-PAD-', '-PAD-', '-PAD-', '-PAD-', '-PAD-', '-PAD-', '-PAD-', '-PAD-', '-PAD-', '-PAD-', '-PAD-', '-PAD-', '-PAD-', '-PAD-', '-PAD-', '-PAD-', '-PAD-', '-PAD-', '-PAD-', '-PAD-', '-PAD-', '-PAD-', '-PAD-', '-PAD-', '-PAD-', '-PAD-', '-PAD-', '-PAD-', '-PAD-', '-PAD-', '-PAD-', '-PAD-', '-PAD-', '-PAD-', '-PAD-', '-PAD-', '-PAD-', '-PAD-', '-PAD-', '-PAD-', '-PAD-', '-PAD-', '-PAD-', '-PAD-', '-PAD-', '-PAD-', '-PAD-', '-PAD-', '-PAD-', '-PAD-', '-PAD-', '-PAD-', '-PAD-', '-PAD-', '-PAD-', '-PAD-', '-PAD-', '-PAD-', '-PAD-', '-PAD-', '-PAD-', '-PAD-', '-PAD-', '-PAD-', '-PAD-', '-PAD-', '-PAD-', '-PAD-', '-PAD-', '-PAD-', '-PAD-', '-PAD-', '-PAD-', '-PAD-', '-PAD-', '-PAD-', '-PAD-', '-PAD-', '-PAD-', '-PAD-', '-PAD-', '-PAD-', '-PAD-', '-PAD-', '-PAD-', '-PAD-', '-PAD-', '-PAD-', '-PAD-', '-PAD-', '-PAD-', '-PAD-', '-PAD-', '-PAD-', '-PAD-', '-PAD-', '-PAD-', '-PAD-', '-PAD-', '-PAD-', '-PAD-', '-PAD-', '-PAD-', '-PAD-', '-PAD-', '-PAD-', '-PAD-', '-PAD-', '-PAD-', '-PAD-', '-PAD-', '-PAD-', '-PAD-', '-PAD-', '-PAD-', '-PAD-', '-PAD-', '-PAD-', '-PAD-', '-PAD-', '-PAD-', '-PAD-', '-PAD-', '-PAD-', '-PAD-', '-PAD-', '-PAD-', '-PAD-', '-PAD-', '-PAD-', '-PAD-', '-PAD-', '-PAD-', '-PAD-', '-PAD-', '-PAD-', '-PAD-', '-PAD-', '-PAD-', '-PAD-', '-PAD-', '-PAD-', '-PAD-', '-PAD-', '-PAD-', '-PAD-', '-PAD-', '-PAD-', '-PAD-', '-PAD-', '-PAD-', '-PAD-', '-PAD-', '-PAD-', '-PAD-', '-PAD-', '-PAD-']\n"
     ]
    }
   ],
   "source": [
    "from utils import build_matrix_embeddings as bme, plot_model_performance, logits_to_tokens, report_to_df\n",
    "index2tag = {i: t for t, i in tag2index.items()}\n",
    "print(index2tag)\n",
    "y1_true = logits_to_tokens(test_tags_y, index2tag)\n",
    "print(y1_true[10])"
   ]
  },
  {
   "cell_type": "code",
   "execution_count": 30,
   "id": "50906902-3493-4485-b8a7-854e643a1c40",
   "metadata": {
    "tags": []
   },
   "outputs": [
    {
     "name": "stderr",
     "output_type": "stream",
     "text": [
      "C:\\Users\\edins\\AppData\\Local\\Packages\\PythonSoftwareFoundation.Python.3.10_qbz5n2kfra8p0\\LocalCache\\local-packages\\Python310\\site-packages\\seqeval\\metrics\\sequence_labeling.py:171: UserWarning: -PAD- seems not to be NE tag.\n",
      "  warnings.warn('{} seems not to be NE tag.'.format(chunk))\n"
     ]
    },
    {
     "name": "stdout",
     "output_type": "stream",
     "text": [
      "precision: 68.3%\n",
      "   recall: 68.4%\n",
      " F1-score: 68.4%\n"
     ]
    }
   ],
   "source": [
    "#hh1 = seqclarep(results['Expected'], results['Predicted'])\n",
    "#print('\\nclassification_report:\\n', hh1)\n",
    "from seqeval.metrics import classification_report as seqclarep\n",
    "from seqeval.metrics import precision_score, recall_score, f1_score, accuracy_score\n",
    "print(\"precision: {:.1%}\".format(precision_score(y1_true, y1_pred)))\n",
    "print(\"   recall: {:.1%}\".format(recall_score(y1_true,    y1_pred)))\n",
    "#print(\" accuracy: {:.1%}\".format(accuracy_score(y1_true,  y1_pred)))\n",
    "print(\" F1-score: {:.1%}\".format(f1_score(y1_true,        y1_pred)))"
   ]
  },
  {
   "cell_type": "code",
   "execution_count": 31,
   "id": "81347cfd-505f-40c8-8786-c9e2e06e5c1f",
   "metadata": {
    "tags": []
   },
   "outputs": [],
   "source": [
    "import pandas as pd\n",
    "li1 = sum(y1_true, [])\n",
    "li2 = sum(y1_pred, [])\n",
    "\n",
    "results = pd.DataFrame(columns=['Expected', 'Predicted'])\n",
    "\n",
    "results['Expected'] = li1\n",
    "results['Predicted'] = li2"
   ]
  },
  {
   "cell_type": "code",
   "execution_count": 32,
   "id": "4c5ee21f-9963-4aa5-89dc-e5fbbfe10366",
   "metadata": {
    "tags": []
   },
   "outputs": [
    {
     "name": "stdout",
     "output_type": "stream",
     "text": [
      "  Class Name precision recall f1-score support\n",
      "0      -PAD-      1.00   1.00     1.00  254901\n",
      "1      B-LOC      0.77   0.75     0.76    1084\n",
      "2     B-MISC      0.38   0.41     0.39     339\n",
      "3      B-ORG      0.72   0.75     0.73    1400\n",
      "4      B-PER      0.87   0.72     0.79     735\n",
      "5      I-LOC      0.75   0.55     0.63     325\n",
      "6     I-MISC      0.53   0.33     0.41     557\n",
      "7      I-ORG      0.74   0.61     0.67    1104\n",
      "8      I-PER      0.90   0.79     0.84     634\n",
      "9          O      0.97   0.99     0.98   45355\n"
     ]
    }
   ],
   "source": [
    "from sklearn.metrics import classification_report as eskclarep\n",
    "report = eskclarep(results['Expected'], results['Predicted'])\n",
    "#print('\\nclassification_report:\\n', report)\n",
    "\n",
    "print(report_to_df(report))"
   ]
  },
  {
   "cell_type": "code",
   "execution_count": 33,
   "id": "bbb4cde6-91e8-4b3f-8ceb-d987e99d1435",
   "metadata": {
    "tags": []
   },
   "outputs": [
    {
     "name": "stdout",
     "output_type": "stream",
     "text": [
      "[['La', 'Federación', 'nacional', 'de', 'cafeteros', 'de', 'Colombia', 'es', 'una', 'entidad', 'del', 'estado', ',', 'creada', 'en', 'los', 'años', '70’s', '.'], ['El', 'primer', 'presidente', 'el', 'Dr', 'Augusto', 'Guerra', 'contó', 'con', 'el', 'aval', 'de', 'la', 'Asociación', 'Colombiana', 'de', 'Aviación'], ['En', 'varias', 'ciudades', 'colombianas', ';', 'Cali', ',', 'medellín', ',', 'corozal', 'funciona', 'la', 'entidad', '.'], ['Estas', 'personas', 'viene', 'del', 'instituto', 'colombiano', 'del', 'café', 'ubicado', 'en', 'la', 'calle', 'Cali', '.']]\n"
     ]
    }
   ],
   "source": [
    "test_samples = [\n",
    "    \"La Federación nacional de cafeteros de Colombia es una entidad del estado , creada en los años 70’s .\".split(), \n",
    "    \"El primer presidente el Dr Augusto Guerra contó con el aval de la Asociación Colombiana de Aviación\".split(),\n",
    "    \"En varias ciudades colombianas ; Cali , medellín , corozal funciona la entidad .\".split(),\n",
    "    \"Estas personas viene del instituto colombiano del café ubicado en la calle Cali .\".split()\n",
    "]\n",
    "#print(max(test_samples))\n",
    "print(test_samples)"
   ]
  },
  {
   "cell_type": "code",
   "execution_count": 34,
   "id": "f70fdc39-fec1-4352-b29d-7de0893eb5df",
   "metadata": {
    "tags": []
   },
   "outputs": [
    {
     "name": "stdout",
     "output_type": "stream",
     "text": [
      "[[13428  7629  6654 13976   268 13976 20391 25015 26324  9516 24726 11504\n",
      "   1011 11207 13349  1373  1392     1 12880     0     0     0     0     0\n",
      "      0     0     0     0     0     0     0     0     0     0     0     0\n",
      "      0     0     0     0     0     0     0     0     0     0     0     0\n",
      "      0     0     0     0     0     0     0     0     0     0     0     0\n",
      "      0     0     0     0     0     0     0     0     0     0     0     0\n",
      "      0     0     0     0     0     0     0     0     0     0     0     0\n",
      "      0     0     0     0     0     0     0     0     0     0     0     0\n",
      "      0     0     0     0     0     0     0     0     0     0     0     0\n",
      "      0     0     0     0     0     0     0     0     0     0     0     0\n",
      "      0     0     0     0     0     0     0     0     0     0     0     0\n",
      "      0     0     0     0     0     0     0     0     0     0     0     0\n",
      "      0     0     0     0     0     0     0     0     0     0     0     0\n",
      "      0     0     0     0     0     0     0     0     0     0     0     0\n",
      "      0     0     0     0     0     0     0     0     0     0     0     0\n",
      "      0     0     0     0     0     0     0     0     0     0     0     0\n",
      "      0     0     0     0     0     0     0     0     0     0]\n",
      " [16329 22250  9869 16329     1 15208 22869 28033 27264 16329  6594 13976\n",
      "  13428  8225 25533 13976 25328     0     0     0     0     0     0     0\n",
      "      0     0     0     0     0     0     0     0     0     0     0     0\n",
      "      0     0     0     0     0     0     0     0     0     0     0     0\n",
      "      0     0     0     0     0     0     0     0     0     0     0     0\n",
      "      0     0     0     0     0     0     0     0     0     0     0     0\n",
      "      0     0     0     0     0     0     0     0     0     0     0     0\n",
      "      0     0     0     0     0     0     0     0     0     0     0     0\n",
      "      0     0     0     0     0     0     0     0     0     0     0     0\n",
      "      0     0     0     0     0     0     0     0     0     0     0     0\n",
      "      0     0     0     0     0     0     0     0     0     0     0     0\n",
      "      0     0     0     0     0     0     0     0     0     0     0     0\n",
      "      0     0     0     0     0     0     0     0     0     0     0     0\n",
      "      0     0     0     0     0     0     0     0     0     0     0     0\n",
      "      0     0     0     0     0     0     0     0     0     0     0     0\n",
      "      0     0     0     0     0     0     0     0     0     0     0     0\n",
      "      0     0     0     0     0     0     0     0     0     0]\n",
      " [13349 11338 10521  8770 23498 21888  1011     1  1011 16039  8721 13428\n",
      "   9516 12880     0     0     0     0     0     0     0     0     0     0\n",
      "      0     0     0     0     0     0     0     0     0     0     0     0\n",
      "      0     0     0     0     0     0     0     0     0     0     0     0\n",
      "      0     0     0     0     0     0     0     0     0     0     0     0\n",
      "      0     0     0     0     0     0     0     0     0     0     0     0\n",
      "      0     0     0     0     0     0     0     0     0     0     0     0\n",
      "      0     0     0     0     0     0     0     0     0     0     0     0\n",
      "      0     0     0     0     0     0     0     0     0     0     0     0\n",
      "      0     0     0     0     0     0     0     0     0     0     0     0\n",
      "      0     0     0     0     0     0     0     0     0     0     0     0\n",
      "      0     0     0     0     0     0     0     0     0     0     0     0\n",
      "      0     0     0     0     0     0     0     0     0     0     0     0\n",
      "      0     0     0     0     0     0     0     0     0     0     0     0\n",
      "      0     0     0     0     0     0     0     0     0     0     0     0\n",
      "      0     0     0     0     0     0     0     0     0     0     0     0\n",
      "      0     0     0     0     0     0     0     0     0     0]\n",
      " [  451 26991 26333 24726  9177 21659 24726   823 17070 13349 13428 10283\n",
      "  21888 12880     0     0     0     0     0     0     0     0     0     0\n",
      "      0     0     0     0     0     0     0     0     0     0     0     0\n",
      "      0     0     0     0     0     0     0     0     0     0     0     0\n",
      "      0     0     0     0     0     0     0     0     0     0     0     0\n",
      "      0     0     0     0     0     0     0     0     0     0     0     0\n",
      "      0     0     0     0     0     0     0     0     0     0     0     0\n",
      "      0     0     0     0     0     0     0     0     0     0     0     0\n",
      "      0     0     0     0     0     0     0     0     0     0     0     0\n",
      "      0     0     0     0     0     0     0     0     0     0     0     0\n",
      "      0     0     0     0     0     0     0     0     0     0     0     0\n",
      "      0     0     0     0     0     0     0     0     0     0     0     0\n",
      "      0     0     0     0     0     0     0     0     0     0     0     0\n",
      "      0     0     0     0     0     0     0     0     0     0     0     0\n",
      "      0     0     0     0     0     0     0     0     0     0     0     0\n",
      "      0     0     0     0     0     0     0     0     0     0     0     0\n",
      "      0     0     0     0     0     0     0     0     0     0]]\n",
      "(4, 202)\n"
     ]
    }
   ],
   "source": [
    "test_samples_X = []\n",
    "for s in test_samples:\n",
    "    s_int = []\n",
    "    for w in s:\n",
    "        try:\n",
    "            s_int.append(word2index[w.lower()])\n",
    "        except KeyError:\n",
    "            s_int.append(word2index['-OOV-'])\n",
    "    test_samples_X.append(s_int)\n",
    "\n",
    "test_samples_X = pad_sequences(test_samples_X, maxlen=MAX_LENGTH, padding='post')\n",
    "print(test_samples_X)\n",
    "print(test_samples_X.shape)"
   ]
  },
  {
   "cell_type": "code",
   "execution_count": 35,
   "id": "1d50a713-614e-4374-a77c-ef21c68b903c",
   "metadata": {
    "tags": []
   },
   "outputs": [
    {
     "name": "stdout",
     "output_type": "stream",
     "text": [
      "1/1 [==============================] - 0s 47ms/step\n",
      "[[8 6 4 4 4 4 4 8 8 8 8 6 8 8 8 8 8 6 8 0 0 0 0 0 0 0 0 0 0 0 0 0 0 0 0 0\n",
      "  0 0 0 0 0 0 0 0 0 0 0 0 0 0 0 0 0 0 0 0 0 0 0 0 0 0 0 0 0 0 0 0 0 0 0 0\n",
      "  0 0 0 0 0 0 0 0 0 0 0 0 0 0 0 0 0 0 0 0 0 0 0 0 0 0 0 0 0 0 0 0 0 0 0 0\n",
      "  0 0 0 0 0 0 0 0 0 0 0 0 0 0 0 0 0 0 0 0 0 0 0 0 0 0 0 0 0 0 0 0 0 0 0 0\n",
      "  0 0 0 0 0 0 0 0 0 0 0 0 0 0 0 0 0 0 0 0 0 0 0 0 0 0 0 0 0 0 0 0 0 0 0 0\n",
      "  0 0 0 0 0 0 0 0 0 0 0 0 0 0 0 0 0 0 0 0 0 0]\n",
      " [8 8 8 8 2 5 5 8 8 8 8 8 8 8 8 8 8 0 0 0 0 0 0 0 0 0 0 0 0 0 0 0 0 0 0 0\n",
      "  0 0 0 0 0 0 0 0 0 0 0 0 0 0 0 0 0 0 0 0 0 0 0 0 0 0 0 0 0 0 0 0 0 0 0 0\n",
      "  0 0 0 0 0 0 0 0 0 0 0 0 0 0 0 0 0 0 0 0 0 0 0 0 0 0 0 0 0 0 0 0 0 0 0 0\n",
      "  0 0 0 0 0 0 0 0 0 0 0 0 0 0 0 0 0 0 0 0 0 0 0 0 0 0 0 0 0 0 0 0 0 0 0 0\n",
      "  0 0 0 0 0 0 0 0 0 0 0 0 0 0 0 0 0 0 0 0 0 0 0 0 0 0 0 0 0 0 0 0 0 0 0 0\n",
      "  0 0 0 0 0 0 0 0 0 0 0 0 0 0 0 0 0 0 0 0 0 0]\n",
      " [8 8 8 8 8 9 8 9 8 8 8 8 8 8 0 0 0 0 0 0 0 0 0 0 0 0 0 0 0 0 0 0 0 0 0 0\n",
      "  0 0 0 0 0 0 0 0 0 0 0 0 0 0 0 0 0 0 0 0 0 0 0 0 0 0 0 0 0 0 0 0 0 0 0 0\n",
      "  0 0 0 0 0 0 0 0 0 0 0 0 0 0 0 0 0 0 0 0 0 0 0 0 0 0 0 0 0 0 0 0 0 0 0 0\n",
      "  0 0 0 0 0 0 0 0 0 0 0 0 0 0 0 0 0 0 0 0 0 0 0 0 0 0 0 0 0 0 0 0 0 0 0 0\n",
      "  0 0 0 0 0 0 0 0 0 0 0 0 0 0 0 0 0 0 0 0 0 0 0 0 0 0 0 0 0 0 0 0 0 0 0 0\n",
      "  0 0 0 0 0 0 0 0 0 0 0 0 0 0 0 0 0 0 0 0 0 0]\n",
      " [8 8 8 8 8 8 8 3 8 8 8 9 7 8 0 0 0 0 0 0 0 0 0 0 0 0 0 0 0 0 0 0 0 0 0 0\n",
      "  0 0 0 0 0 0 0 0 0 0 0 0 0 0 0 0 0 0 0 0 0 0 0 0 0 0 0 0 0 0 0 0 0 0 0 0\n",
      "  0 0 0 0 0 0 0 0 0 0 0 0 0 0 0 0 0 0 0 0 0 0 0 0 0 0 0 0 0 0 0 0 0 0 0 0\n",
      "  0 0 0 0 0 0 0 0 0 0 0 0 0 0 0 0 0 0 0 0 0 0 0 0 0 0 0 0 0 0 0 0 0 0 0 0\n",
      "  0 0 0 0 0 0 0 0 0 0 0 0 0 0 0 0 0 0 0 0 0 0 0 0 0 0 0 0 0 0 0 0 0 0 0 0\n",
      "  0 0 0 0 0 0 0 0 0 0 0 0 0 0 0 0 0 0 0 0 0 0]] (4, 202)\n"
     ]
    }
   ],
   "source": [
    "predictions = model.predict(test_samples_X)\n",
    "print(predictions, predictions.shape)"
   ]
  },
  {
   "cell_type": "code",
   "execution_count": 36,
   "id": "2031cc49-027c-4ad3-bc4a-a71b6a235128",
   "metadata": {
    "tags": []
   },
   "outputs": [
    {
     "name": "stdout",
     "output_type": "stream",
     "text": [
      "[['O', 'B-ORG', 'I-ORG', 'I-ORG', 'I-ORG', 'I-ORG', 'I-ORG', 'O', 'O', 'O', 'O', 'B-ORG', 'O', 'O', 'O', 'O', 'O', 'B-ORG', 'O', '-PAD-', '-PAD-', '-PAD-', '-PAD-', '-PAD-', '-PAD-', '-PAD-', '-PAD-', '-PAD-', '-PAD-', '-PAD-', '-PAD-', '-PAD-', '-PAD-', '-PAD-', '-PAD-', '-PAD-', '-PAD-', '-PAD-', '-PAD-', '-PAD-', '-PAD-', '-PAD-', '-PAD-', '-PAD-', '-PAD-', '-PAD-', '-PAD-', '-PAD-', '-PAD-', '-PAD-', '-PAD-', '-PAD-', '-PAD-', '-PAD-', '-PAD-', '-PAD-', '-PAD-', '-PAD-', '-PAD-', '-PAD-', '-PAD-', '-PAD-', '-PAD-', '-PAD-', '-PAD-', '-PAD-', '-PAD-', '-PAD-', '-PAD-', '-PAD-', '-PAD-', '-PAD-', '-PAD-', '-PAD-', '-PAD-', '-PAD-', '-PAD-', '-PAD-', '-PAD-', '-PAD-', '-PAD-', '-PAD-', '-PAD-', '-PAD-', '-PAD-', '-PAD-', '-PAD-', '-PAD-', '-PAD-', '-PAD-', '-PAD-', '-PAD-', '-PAD-', '-PAD-', '-PAD-', '-PAD-', '-PAD-', '-PAD-', '-PAD-', '-PAD-', '-PAD-', '-PAD-', '-PAD-', '-PAD-', '-PAD-', '-PAD-', '-PAD-', '-PAD-', '-PAD-', '-PAD-', '-PAD-', '-PAD-', '-PAD-', '-PAD-', '-PAD-', '-PAD-', '-PAD-', '-PAD-', '-PAD-', '-PAD-', '-PAD-', '-PAD-', '-PAD-', '-PAD-', '-PAD-', '-PAD-', '-PAD-', '-PAD-', '-PAD-', '-PAD-', '-PAD-', '-PAD-', '-PAD-', '-PAD-', '-PAD-', '-PAD-', '-PAD-', '-PAD-', '-PAD-', '-PAD-', '-PAD-', '-PAD-', '-PAD-', '-PAD-', '-PAD-', '-PAD-', '-PAD-', '-PAD-', '-PAD-', '-PAD-', '-PAD-', '-PAD-', '-PAD-', '-PAD-', '-PAD-', '-PAD-', '-PAD-', '-PAD-', '-PAD-', '-PAD-', '-PAD-', '-PAD-', '-PAD-', '-PAD-', '-PAD-', '-PAD-', '-PAD-', '-PAD-', '-PAD-', '-PAD-', '-PAD-', '-PAD-', '-PAD-', '-PAD-', '-PAD-', '-PAD-', '-PAD-', '-PAD-', '-PAD-', '-PAD-', '-PAD-', '-PAD-', '-PAD-', '-PAD-', '-PAD-', '-PAD-', '-PAD-', '-PAD-', '-PAD-', '-PAD-', '-PAD-', '-PAD-', '-PAD-', '-PAD-', '-PAD-', '-PAD-', '-PAD-', '-PAD-', '-PAD-', '-PAD-', '-PAD-', '-PAD-'], ['O', 'O', 'O', 'O', 'B-PER', 'I-PER', 'I-PER', 'O', 'O', 'O', 'O', 'O', 'O', 'O', 'O', 'O', 'O', '-PAD-', '-PAD-', '-PAD-', '-PAD-', '-PAD-', '-PAD-', '-PAD-', '-PAD-', '-PAD-', '-PAD-', '-PAD-', '-PAD-', '-PAD-', '-PAD-', '-PAD-', '-PAD-', '-PAD-', '-PAD-', '-PAD-', '-PAD-', '-PAD-', '-PAD-', '-PAD-', '-PAD-', '-PAD-', '-PAD-', '-PAD-', '-PAD-', '-PAD-', '-PAD-', '-PAD-', '-PAD-', '-PAD-', '-PAD-', '-PAD-', '-PAD-', '-PAD-', '-PAD-', '-PAD-', '-PAD-', '-PAD-', '-PAD-', '-PAD-', '-PAD-', '-PAD-', '-PAD-', '-PAD-', '-PAD-', '-PAD-', '-PAD-', '-PAD-', '-PAD-', '-PAD-', '-PAD-', '-PAD-', '-PAD-', '-PAD-', '-PAD-', '-PAD-', '-PAD-', '-PAD-', '-PAD-', '-PAD-', '-PAD-', '-PAD-', '-PAD-', '-PAD-', '-PAD-', '-PAD-', '-PAD-', '-PAD-', '-PAD-', '-PAD-', '-PAD-', '-PAD-', '-PAD-', '-PAD-', '-PAD-', '-PAD-', '-PAD-', '-PAD-', '-PAD-', '-PAD-', '-PAD-', '-PAD-', '-PAD-', '-PAD-', '-PAD-', '-PAD-', '-PAD-', '-PAD-', '-PAD-', '-PAD-', '-PAD-', '-PAD-', '-PAD-', '-PAD-', '-PAD-', '-PAD-', '-PAD-', '-PAD-', '-PAD-', '-PAD-', '-PAD-', '-PAD-', '-PAD-', '-PAD-', '-PAD-', '-PAD-', '-PAD-', '-PAD-', '-PAD-', '-PAD-', '-PAD-', '-PAD-', '-PAD-', '-PAD-', '-PAD-', '-PAD-', '-PAD-', '-PAD-', '-PAD-', '-PAD-', '-PAD-', '-PAD-', '-PAD-', '-PAD-', '-PAD-', '-PAD-', '-PAD-', '-PAD-', '-PAD-', '-PAD-', '-PAD-', '-PAD-', '-PAD-', '-PAD-', '-PAD-', '-PAD-', '-PAD-', '-PAD-', '-PAD-', '-PAD-', '-PAD-', '-PAD-', '-PAD-', '-PAD-', '-PAD-', '-PAD-', '-PAD-', '-PAD-', '-PAD-', '-PAD-', '-PAD-', '-PAD-', '-PAD-', '-PAD-', '-PAD-', '-PAD-', '-PAD-', '-PAD-', '-PAD-', '-PAD-', '-PAD-', '-PAD-', '-PAD-', '-PAD-', '-PAD-', '-PAD-', '-PAD-', '-PAD-', '-PAD-', '-PAD-', '-PAD-', '-PAD-', '-PAD-', '-PAD-', '-PAD-', '-PAD-', '-PAD-', '-PAD-', '-PAD-', '-PAD-', '-PAD-', '-PAD-'], ['O', 'O', 'O', 'O', 'O', 'B-LOC', 'O', 'B-LOC', 'O', 'O', 'O', 'O', 'O', 'O', '-PAD-', '-PAD-', '-PAD-', '-PAD-', '-PAD-', '-PAD-', '-PAD-', '-PAD-', '-PAD-', '-PAD-', '-PAD-', '-PAD-', '-PAD-', '-PAD-', '-PAD-', '-PAD-', '-PAD-', '-PAD-', '-PAD-', '-PAD-', '-PAD-', '-PAD-', '-PAD-', '-PAD-', '-PAD-', '-PAD-', '-PAD-', '-PAD-', '-PAD-', '-PAD-', '-PAD-', '-PAD-', '-PAD-', '-PAD-', '-PAD-', '-PAD-', '-PAD-', '-PAD-', '-PAD-', '-PAD-', '-PAD-', '-PAD-', '-PAD-', '-PAD-', '-PAD-', '-PAD-', '-PAD-', '-PAD-', '-PAD-', '-PAD-', '-PAD-', '-PAD-', '-PAD-', '-PAD-', '-PAD-', '-PAD-', '-PAD-', '-PAD-', '-PAD-', '-PAD-', '-PAD-', '-PAD-', '-PAD-', '-PAD-', '-PAD-', '-PAD-', '-PAD-', '-PAD-', '-PAD-', '-PAD-', '-PAD-', '-PAD-', '-PAD-', '-PAD-', '-PAD-', '-PAD-', '-PAD-', '-PAD-', '-PAD-', '-PAD-', '-PAD-', '-PAD-', '-PAD-', '-PAD-', '-PAD-', '-PAD-', '-PAD-', '-PAD-', '-PAD-', '-PAD-', '-PAD-', '-PAD-', '-PAD-', '-PAD-', '-PAD-', '-PAD-', '-PAD-', '-PAD-', '-PAD-', '-PAD-', '-PAD-', '-PAD-', '-PAD-', '-PAD-', '-PAD-', '-PAD-', '-PAD-', '-PAD-', '-PAD-', '-PAD-', '-PAD-', '-PAD-', '-PAD-', '-PAD-', '-PAD-', '-PAD-', '-PAD-', '-PAD-', '-PAD-', '-PAD-', '-PAD-', '-PAD-', '-PAD-', '-PAD-', '-PAD-', '-PAD-', '-PAD-', '-PAD-', '-PAD-', '-PAD-', '-PAD-', '-PAD-', '-PAD-', '-PAD-', '-PAD-', '-PAD-', '-PAD-', '-PAD-', '-PAD-', '-PAD-', '-PAD-', '-PAD-', '-PAD-', '-PAD-', '-PAD-', '-PAD-', '-PAD-', '-PAD-', '-PAD-', '-PAD-', '-PAD-', '-PAD-', '-PAD-', '-PAD-', '-PAD-', '-PAD-', '-PAD-', '-PAD-', '-PAD-', '-PAD-', '-PAD-', '-PAD-', '-PAD-', '-PAD-', '-PAD-', '-PAD-', '-PAD-', '-PAD-', '-PAD-', '-PAD-', '-PAD-', '-PAD-', '-PAD-', '-PAD-', '-PAD-', '-PAD-', '-PAD-', '-PAD-', '-PAD-', '-PAD-', '-PAD-', '-PAD-', '-PAD-', '-PAD-', '-PAD-', '-PAD-', '-PAD-', '-PAD-'], ['O', 'O', 'O', 'O', 'O', 'O', 'O', 'B-MISC', 'O', 'O', 'O', 'B-LOC', 'I-LOC', 'O', '-PAD-', '-PAD-', '-PAD-', '-PAD-', '-PAD-', '-PAD-', '-PAD-', '-PAD-', '-PAD-', '-PAD-', '-PAD-', '-PAD-', '-PAD-', '-PAD-', '-PAD-', '-PAD-', '-PAD-', '-PAD-', '-PAD-', '-PAD-', '-PAD-', '-PAD-', '-PAD-', '-PAD-', '-PAD-', '-PAD-', '-PAD-', '-PAD-', '-PAD-', '-PAD-', '-PAD-', '-PAD-', '-PAD-', '-PAD-', '-PAD-', '-PAD-', '-PAD-', '-PAD-', '-PAD-', '-PAD-', '-PAD-', '-PAD-', '-PAD-', '-PAD-', '-PAD-', '-PAD-', '-PAD-', '-PAD-', '-PAD-', '-PAD-', '-PAD-', '-PAD-', '-PAD-', '-PAD-', '-PAD-', '-PAD-', '-PAD-', '-PAD-', '-PAD-', '-PAD-', '-PAD-', '-PAD-', '-PAD-', '-PAD-', '-PAD-', '-PAD-', '-PAD-', '-PAD-', '-PAD-', '-PAD-', '-PAD-', '-PAD-', '-PAD-', '-PAD-', '-PAD-', '-PAD-', '-PAD-', '-PAD-', '-PAD-', '-PAD-', '-PAD-', '-PAD-', '-PAD-', '-PAD-', '-PAD-', '-PAD-', '-PAD-', '-PAD-', '-PAD-', '-PAD-', '-PAD-', '-PAD-', '-PAD-', '-PAD-', '-PAD-', '-PAD-', '-PAD-', '-PAD-', '-PAD-', '-PAD-', '-PAD-', '-PAD-', '-PAD-', '-PAD-', '-PAD-', '-PAD-', '-PAD-', '-PAD-', '-PAD-', '-PAD-', '-PAD-', '-PAD-', '-PAD-', '-PAD-', '-PAD-', '-PAD-', '-PAD-', '-PAD-', '-PAD-', '-PAD-', '-PAD-', '-PAD-', '-PAD-', '-PAD-', '-PAD-', '-PAD-', '-PAD-', '-PAD-', '-PAD-', '-PAD-', '-PAD-', '-PAD-', '-PAD-', '-PAD-', '-PAD-', '-PAD-', '-PAD-', '-PAD-', '-PAD-', '-PAD-', '-PAD-', '-PAD-', '-PAD-', '-PAD-', '-PAD-', '-PAD-', '-PAD-', '-PAD-', '-PAD-', '-PAD-', '-PAD-', '-PAD-', '-PAD-', '-PAD-', '-PAD-', '-PAD-', '-PAD-', '-PAD-', '-PAD-', '-PAD-', '-PAD-', '-PAD-', '-PAD-', '-PAD-', '-PAD-', '-PAD-', '-PAD-', '-PAD-', '-PAD-', '-PAD-', '-PAD-', '-PAD-', '-PAD-', '-PAD-', '-PAD-', '-PAD-', '-PAD-', '-PAD-', '-PAD-', '-PAD-', '-PAD-', '-PAD-', '-PAD-', '-PAD-', '-PAD-', '-PAD-', '-PAD-', '-PAD-']]\n"
     ]
    }
   ],
   "source": [
    "#print(len(predictions))\n",
    "log_tokens = logits_to_tokens(predictions, {i: t for t, i in tag2index.items()})\n",
    "print(log_tokens)"
   ]
  },
  {
   "cell_type": "code",
   "execution_count": 37,
   "id": "c9ab8949-ca60-4d4b-bf5b-11d487258b66",
   "metadata": {
    "tags": []
   },
   "outputs": [
    {
     "name": "stdout",
     "output_type": "stream",
     "text": [
      "Requirement already satisfied: tabulate in c:\\users\\edins\\appdata\\local\\packages\\pythonsoftwarefoundation.python.3.10_qbz5n2kfra8p0\\localcache\\local-packages\\python310\\site-packages (0.9.0)\n",
      "La    Federación    nacional    de     cafeteros    de     Colombia    es    una    entidad    del    estado    ,    creada    en    los    años    70’s    .\n",
      "----  ------------  ----------  -----  -----------  -----  ----------  ----  -----  ---------  -----  --------  ---  --------  ----  -----  ------  ------  ---\n",
      "O     B-ORG         I-ORG       I-ORG  I-ORG        I-ORG  I-ORG       O     O      O          O      B-ORG     O    O         O     O      O       B-ORG   O\n",
      "\n",
      "\n",
      "El    primer    presidente    el    Dr     Augusto    Guerra    contó    con    el    aval    de    la    Asociación    Colombiana    de    Aviación\n",
      "----  --------  ------------  ----  -----  ---------  --------  -------  -----  ----  ------  ----  ----  ------------  ------------  ----  ----------\n",
      "O     O         O             O     B-PER  I-PER      I-PER     O        O      O     O       O     O     O             O             O     O\n",
      "\n",
      "\n",
      "En    varias    ciudades    colombianas    ;    Cali    ,    medellín    ,    corozal    funciona    la    entidad    .\n",
      "----  --------  ----------  -------------  ---  ------  ---  ----------  ---  ---------  ----------  ----  ---------  ---\n",
      "O     O         O           O              O    B-LOC   O    B-LOC       O    O          O           O     O          O\n",
      "\n",
      "\n",
      "Estas    personas    viene    del    instituto    colombiano    del    café    ubicado    en    la    calle    Cali    .\n",
      "-------  ----------  -------  -----  -----------  ------------  -----  ------  ---------  ----  ----  -------  ------  ---\n",
      "O        O           O        O      O            O             O      B-MISC  O          O     O     B-LOC    I-LOC   O\n"
     ]
    }
   ],
   "source": [
    "!pip install tabulate\n",
    "from tabulate import tabulate\n",
    "\n",
    "heads1 = test_samples[0]\n",
    "body1 = [log_tokens[0][:len(test_samples[0])]]\n",
    "\n",
    "heads2 = test_samples[1]\n",
    "body2 = [log_tokens[1][:len(test_samples[1])]]\n",
    "\n",
    "heads3 = test_samples[2]\n",
    "body3 = [log_tokens[2][:len(test_samples[2])]]\n",
    "\n",
    "heads4 = test_samples[3]\n",
    "body4 = [log_tokens[3][:len(test_samples[3])]]\n",
    "\n",
    "print(tabulate(body1, headers=heads1))\n",
    "\n",
    "print (\"\\n\")\n",
    "\n",
    "print(tabulate(body2, headers=heads2))\n",
    "\n",
    "print (\"\\n\")\n",
    "\n",
    "print(tabulate(body3, headers=heads3))\n",
    "\n",
    "print (\"\\n\")\n",
    "\n",
    "print(tabulate(body4, headers=heads4))"
   ]
  },
  {
   "cell_type": "code",
   "execution_count": null,
   "id": "5e081122-4c18-4015-8fba-747529533d0f",
   "metadata": {},
   "outputs": [],
   "source": []
  }
 ],
 "metadata": {
  "kernelspec": {
   "display_name": "Python 3 (ipykernel)",
   "language": "python",
   "name": "python3"
  },
  "language_info": {
   "codemirror_mode": {
    "name": "ipython",
    "version": 3
   },
   "file_extension": ".py",
   "mimetype": "text/x-python",
   "name": "python",
   "nbconvert_exporter": "python",
   "pygments_lexer": "ipython3",
   "version": "3.9.0"
  }
 },
 "nbformat": 4,
 "nbformat_minor": 5
}
