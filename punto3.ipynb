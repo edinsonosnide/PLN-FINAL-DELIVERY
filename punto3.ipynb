{
 "cells": [
  {
   "cell_type": "markdown",
   "id": "476ef7ae-1d4c-4f93-8c5b-0afa5ad45111",
   "metadata": {},
   "source": [
    "# Hecho por:\n",
    "## EDINSON ORLANDO DORADO DORADO 1941966-3743\n",
    "## ALESSANDRO DIAZ GARCIA 1940983-3743\n"
   ]
  },
  {
   "cell_type": "markdown",
   "id": "5a1866d0-89d7-43d3-9d77-77d59632a6a2",
   "metadata": {
    "tags": []
   },
   "source": [
    "# Este modelo de red entrena un BiLSTM + CRF para la clasificación de NER sobre el corpus Conll2002. Este modelo tiene como entrada a la red la enterización del conjunto X de entrenamiento y la enterización y categorización  de los vectores de etiquetas. En este modelo no hay matriz de embedding."
   ]
  },
  {
   "cell_type": "code",
   "execution_count": 1,
   "id": "80d49b72-98b5-4582-be1a-96a459e01227",
   "metadata": {
    "tags": []
   },
   "outputs": [],
   "source": [
    "try:\n",
    "    import seqeval\n",
    "except ModuleNotFoundError as err:\n",
    "    !pip install seqeval"
   ]
  },
  {
   "cell_type": "code",
   "execution_count": 2,
   "id": "45e61dbc-85f0-4c9f-a51a-2897eaf489c1",
   "metadata": {
    "tags": []
   },
   "outputs": [
    {
     "name": "stdout",
     "output_type": "stream",
     "text": [
      "Requirement already satisfied: tensorflow in c:\\users\\edins\\miniconda3\\envs\\tf\\lib\\site-packages (2.10.1)\n",
      "Requirement already satisfied: absl-py>=1.0.0 in c:\\users\\edins\\miniconda3\\envs\\tf\\lib\\site-packages (from tensorflow) (2.0.0)\n",
      "Requirement already satisfied: astunparse>=1.6.0 in c:\\users\\edins\\miniconda3\\envs\\tf\\lib\\site-packages (from tensorflow) (1.6.3)\n",
      "Requirement already satisfied: flatbuffers>=2.0 in c:\\users\\edins\\miniconda3\\envs\\tf\\lib\\site-packages (from tensorflow) (23.5.26)\n",
      "Requirement already satisfied: gast<=0.4.0,>=0.2.1 in c:\\users\\edins\\miniconda3\\envs\\tf\\lib\\site-packages (from tensorflow) (0.4.0)\n",
      "Requirement already satisfied: google-pasta>=0.1.1 in c:\\users\\edins\\miniconda3\\envs\\tf\\lib\\site-packages (from tensorflow) (0.2.0)\n",
      "Requirement already satisfied: h5py>=2.9.0 in c:\\users\\edins\\miniconda3\\envs\\tf\\lib\\site-packages (from tensorflow) (3.10.0)\n",
      "Requirement already satisfied: keras-preprocessing>=1.1.1 in c:\\users\\edins\\miniconda3\\envs\\tf\\lib\\site-packages (from tensorflow) (1.1.2)\n",
      "Requirement already satisfied: libclang>=13.0.0 in c:\\users\\edins\\miniconda3\\envs\\tf\\lib\\site-packages (from tensorflow) (16.0.6)\n",
      "Requirement already satisfied: numpy>=1.20 in c:\\users\\edins\\miniconda3\\envs\\tf\\lib\\site-packages (from tensorflow) (1.26.2)\n",
      "Requirement already satisfied: opt-einsum>=2.3.2 in c:\\users\\edins\\miniconda3\\envs\\tf\\lib\\site-packages (from tensorflow) (3.3.0)\n",
      "Requirement already satisfied: packaging in c:\\users\\edins\\miniconda3\\envs\\tf\\lib\\site-packages (from tensorflow) (23.2)\n",
      "Requirement already satisfied: protobuf<3.20,>=3.9.2 in c:\\users\\edins\\miniconda3\\envs\\tf\\lib\\site-packages (from tensorflow) (3.19.6)\n",
      "Requirement already satisfied: setuptools in c:\\users\\edins\\miniconda3\\envs\\tf\\lib\\site-packages (from tensorflow) (68.0.0)\n",
      "Requirement already satisfied: six>=1.12.0 in c:\\users\\edins\\miniconda3\\envs\\tf\\lib\\site-packages (from tensorflow) (1.16.0)\n",
      "Requirement already satisfied: termcolor>=1.1.0 in c:\\users\\edins\\miniconda3\\envs\\tf\\lib\\site-packages (from tensorflow) (2.4.0)\n",
      "Requirement already satisfied: typing-extensions>=3.6.6 in c:\\users\\edins\\miniconda3\\envs\\tf\\lib\\site-packages (from tensorflow) (4.9.0)\n",
      "Requirement already satisfied: wrapt>=1.11.0 in c:\\users\\edins\\miniconda3\\envs\\tf\\lib\\site-packages (from tensorflow) (1.16.0)\n",
      "Requirement already satisfied: tensorflow-io-gcs-filesystem>=0.23.1 in c:\\users\\edins\\miniconda3\\envs\\tf\\lib\\site-packages (from tensorflow) (0.31.0)\n",
      "Requirement already satisfied: grpcio<2.0,>=1.24.3 in c:\\users\\edins\\miniconda3\\envs\\tf\\lib\\site-packages (from tensorflow) (1.60.0)\n",
      "Requirement already satisfied: tensorboard<2.11,>=2.10 in c:\\users\\edins\\miniconda3\\envs\\tf\\lib\\site-packages (from tensorflow) (2.10.1)\n",
      "Requirement already satisfied: tensorflow-estimator<2.11,>=2.10.0 in c:\\users\\edins\\miniconda3\\envs\\tf\\lib\\site-packages (from tensorflow) (2.10.0)\n",
      "Requirement already satisfied: keras<2.11,>=2.10.0 in c:\\users\\edins\\miniconda3\\envs\\tf\\lib\\site-packages (from tensorflow) (2.10.0)\n",
      "Requirement already satisfied: wheel<1.0,>=0.23.0 in c:\\users\\edins\\miniconda3\\envs\\tf\\lib\\site-packages (from astunparse>=1.6.0->tensorflow) (0.41.2)\n",
      "Requirement already satisfied: google-auth<3,>=1.6.3 in c:\\users\\edins\\miniconda3\\envs\\tf\\lib\\site-packages (from tensorboard<2.11,>=2.10->tensorflow) (2.25.2)\n",
      "Requirement already satisfied: google-auth-oauthlib<0.5,>=0.4.1 in c:\\users\\edins\\miniconda3\\envs\\tf\\lib\\site-packages (from tensorboard<2.11,>=2.10->tensorflow) (0.4.6)\n",
      "Requirement already satisfied: markdown>=2.6.8 in c:\\users\\edins\\miniconda3\\envs\\tf\\lib\\site-packages (from tensorboard<2.11,>=2.10->tensorflow) (3.5.1)\n",
      "Requirement already satisfied: requests<3,>=2.21.0 in c:\\users\\edins\\miniconda3\\envs\\tf\\lib\\site-packages (from tensorboard<2.11,>=2.10->tensorflow) (2.31.0)\n",
      "Requirement already satisfied: tensorboard-data-server<0.7.0,>=0.6.0 in c:\\users\\edins\\miniconda3\\envs\\tf\\lib\\site-packages (from tensorboard<2.11,>=2.10->tensorflow) (0.6.1)\n",
      "Requirement already satisfied: tensorboard-plugin-wit>=1.6.0 in c:\\users\\edins\\miniconda3\\envs\\tf\\lib\\site-packages (from tensorboard<2.11,>=2.10->tensorflow) (1.8.1)\n",
      "Requirement already satisfied: werkzeug>=1.0.1 in c:\\users\\edins\\miniconda3\\envs\\tf\\lib\\site-packages (from tensorboard<2.11,>=2.10->tensorflow) (3.0.1)\n",
      "Requirement already satisfied: cachetools<6.0,>=2.0.0 in c:\\users\\edins\\miniconda3\\envs\\tf\\lib\\site-packages (from google-auth<3,>=1.6.3->tensorboard<2.11,>=2.10->tensorflow) (5.3.2)\n",
      "Requirement already satisfied: pyasn1-modules>=0.2.1 in c:\\users\\edins\\miniconda3\\envs\\tf\\lib\\site-packages (from google-auth<3,>=1.6.3->tensorboard<2.11,>=2.10->tensorflow) (0.3.0)\n",
      "Requirement already satisfied: rsa<5,>=3.1.4 in c:\\users\\edins\\miniconda3\\envs\\tf\\lib\\site-packages (from google-auth<3,>=1.6.3->tensorboard<2.11,>=2.10->tensorflow) (4.9)\n",
      "Requirement already satisfied: requests-oauthlib>=0.7.0 in c:\\users\\edins\\miniconda3\\envs\\tf\\lib\\site-packages (from google-auth-oauthlib<0.5,>=0.4.1->tensorboard<2.11,>=2.10->tensorflow) (1.3.1)\n",
      "Requirement already satisfied: importlib-metadata>=4.4 in c:\\users\\edins\\miniconda3\\envs\\tf\\lib\\site-packages (from markdown>=2.6.8->tensorboard<2.11,>=2.10->tensorflow) (7.0.0)\n",
      "Requirement already satisfied: charset-normalizer<4,>=2 in c:\\users\\edins\\miniconda3\\envs\\tf\\lib\\site-packages (from requests<3,>=2.21.0->tensorboard<2.11,>=2.10->tensorflow) (3.3.2)\n",
      "Requirement already satisfied: idna<4,>=2.5 in c:\\users\\edins\\miniconda3\\envs\\tf\\lib\\site-packages (from requests<3,>=2.21.0->tensorboard<2.11,>=2.10->tensorflow) (3.6)\n",
      "Requirement already satisfied: urllib3<3,>=1.21.1 in c:\\users\\edins\\miniconda3\\envs\\tf\\lib\\site-packages (from requests<3,>=2.21.0->tensorboard<2.11,>=2.10->tensorflow) (2.1.0)\n",
      "Requirement already satisfied: certifi>=2017.4.17 in c:\\users\\edins\\miniconda3\\envs\\tf\\lib\\site-packages (from requests<3,>=2.21.0->tensorboard<2.11,>=2.10->tensorflow) (2023.11.17)\n",
      "Requirement already satisfied: MarkupSafe>=2.1.1 in c:\\users\\edins\\miniconda3\\envs\\tf\\lib\\site-packages (from werkzeug>=1.0.1->tensorboard<2.11,>=2.10->tensorflow) (2.1.3)\n",
      "Requirement already satisfied: zipp>=0.5 in c:\\users\\edins\\miniconda3\\envs\\tf\\lib\\site-packages (from importlib-metadata>=4.4->markdown>=2.6.8->tensorboard<2.11,>=2.10->tensorflow) (3.17.0)\n",
      "Requirement already satisfied: pyasn1<0.6.0,>=0.4.6 in c:\\users\\edins\\miniconda3\\envs\\tf\\lib\\site-packages (from pyasn1-modules>=0.2.1->google-auth<3,>=1.6.3->tensorboard<2.11,>=2.10->tensorflow) (0.5.1)\n",
      "Requirement already satisfied: oauthlib>=3.0.0 in c:\\users\\edins\\miniconda3\\envs\\tf\\lib\\site-packages (from requests-oauthlib>=0.7.0->google-auth-oauthlib<0.5,>=0.4.1->tensorboard<2.11,>=2.10->tensorflow) (3.2.2)\n",
      "Requirement already satisfied: tabulate in c:\\users\\edins\\miniconda3\\envs\\tf\\lib\\site-packages (0.9.0)\n"
     ]
    }
   ],
   "source": [
    "!pip install tensorflow\n",
    "!pip install tabulate"
   ]
  },
  {
   "cell_type": "code",
   "execution_count": 3,
   "id": "3a3fc279-aaca-4e75-bab7-e45bdc4848c5",
   "metadata": {
    "tags": []
   },
   "outputs": [
    {
     "name": "stdout",
     "output_type": "stream",
     "text": [
      "WARNING:tensorflow:From c:\\users\\edins\\appdata\\local\\programs\\python\\python39\\lib\\site-packages\\keras\\src\\losses.py:2976: The name tf.losses.sparse_softmax_cross_entropy is deprecated. Please use tf.compat.v1.losses.sparse_softmax_cross_entropy instead.\n",
      "\n"
     ]
    }
   ],
   "source": [
    "import tensorflow as tf"
   ]
  },
  {
   "cell_type": "markdown",
   "id": "e286e0aa-caf0-4a0f-8dbc-c27ae1fb82c8",
   "metadata": {},
   "source": [
    "# Instalación del paquete nltk"
   ]
  },
  {
   "cell_type": "code",
   "execution_count": 4,
   "id": "dd4184f6-7f20-44df-a857-773358b56771",
   "metadata": {
    "tags": []
   },
   "outputs": [
    {
     "name": "stdout",
     "output_type": "stream",
     "text": [
      "Requirement already satisfied: tensorflow-addons in c:\\users\\edins\\miniconda3\\envs\\tf\\lib\\site-packages (0.22.0)\n",
      "Requirement already satisfied: typeguard<3.0.0,>=2.7 in c:\\users\\edins\\miniconda3\\envs\\tf\\lib\\site-packages (from tensorflow-addons) (2.13.3)\n",
      "Requirement already satisfied: packaging in c:\\users\\edins\\miniconda3\\envs\\tf\\lib\\site-packages (from tensorflow-addons) (23.2)\n"
     ]
    }
   ],
   "source": [
    "!pip install tensorflow-addons"
   ]
  },
  {
   "cell_type": "code",
   "execution_count": 5,
   "id": "07cf3b2b-7467-40a4-912f-7740f40adc39",
   "metadata": {
    "tags": []
   },
   "outputs": [
    {
     "name": "stdout",
     "output_type": "stream",
     "text": [
      "Requirement already satisfied: keras in c:\\users\\edins\\miniconda3\\envs\\tf\\lib\\site-packages (2.10.0)\n"
     ]
    }
   ],
   "source": [
    "!pip install keras"
   ]
  },
  {
   "cell_type": "code",
   "execution_count": 6,
   "id": "09e96483-751c-47ab-8b01-6fab2fca3346",
   "metadata": {
    "tags": []
   },
   "outputs": [
    {
     "name": "stderr",
     "output_type": "stream",
     "text": [
      "c:\\users\\edins\\appdata\\local\\programs\\python\\python39\\lib\\site-packages\\tensorflow_addons\\utils\\tfa_eol_msg.py:23: UserWarning: \n",
      "\n",
      "TensorFlow Addons (TFA) has ended development and introduction of new features.\n",
      "TFA has entered a minimal maintenance and release mode until a planned end of life in May 2024.\n",
      "Please modify downstream libraries to take dependencies from other repositories in our TensorFlow community (e.g. Keras, Keras-CV, and Keras-NLP). \n",
      "\n",
      "For more information see: https://github.com/tensorflow/addons/issues/2807 \n",
      "\n",
      "  warnings.warn(\n",
      "c:\\users\\edins\\appdata\\local\\programs\\python\\python39\\lib\\site-packages\\tensorflow_addons\\utils\\ensure_tf_install.py:53: UserWarning: Tensorflow Addons supports using Python ops for all Tensorflow versions above or equal to 2.12.0 and strictly below 2.15.0 (nightly versions are not supported). \n",
      " The versions of TensorFlow you are currently using is 2.15.0 and is not supported. \n",
      "Some things might work, some things might not.\n",
      "If you were to encounter a bug, do not file an issue.\n",
      "If you want to make sure you're using a tested and supported configuration, either change the TensorFlow version or the TensorFlow Addons's version. \n",
      "You can find the compatibility matrix in TensorFlow Addon's readme:\n",
      "https://github.com/tensorflow/addons\n",
      "  warnings.warn(\n",
      "c:\\users\\edins\\appdata\\local\\programs\\python\\python39\\lib\\site-packages\\tqdm\\auto.py:21: TqdmWarning: IProgress not found. Please update jupyter and ipywidgets. See https://ipywidgets.readthedocs.io/en/stable/user_install.html\n",
      "  from .autonotebook import tqdm as notebook_tqdm\n",
      "C:\\Users\\edins\\AppData\\Local\\Temp\\ipykernel_12352\\1104623449.py:26: DeprecationWarning: Importing display from IPython.core.display is deprecated since IPython 7.14, please import from IPython display\n",
      "  from IPython.core.display import display, HTML\n"
     ]
    }
   ],
   "source": [
    "import matplotlib.pyplot as plt\n",
    "import numpy as np\n",
    "import pickle\n",
    "import pandas as pd\n",
    "from itertools import islice\n",
    "\n",
    "import keras\n",
    "#from tabulate import tabulate\n",
    "from sklearn.metrics import confusion_matrix\n",
    "from sklearn.metrics import classification_report as eskclarep\n",
    "#from seqeval.metrics import precision_score, recall_score, f1_score, accuracy_score\n",
    "#from seqeval.metrics import classification_report as seqclarep\n",
    "from sklearn.preprocessing import LabelBinarizer\n",
    "from itertools import chain\n",
    "\n",
    "from tensorflow.keras.preprocessing.sequence import pad_sequences\n",
    "from tensorflow.keras.models import Model, Sequential\n",
    "from tensorflow.keras.layers import Concatenate, Lambda, Input, LSTM, Embedding, Dense, TimeDistributed, Dropout, Bidirectional, InputLayer, Activation, Flatten\n",
    "from tensorflow.keras.optimizers import Adam, schedules\n",
    "from crfta import CRF as crf4\n",
    "from utils import build_matrix_embeddings as bme, plot_model_performance, logits_to_tokens, report_to_df\n",
    "\n",
    "from tensorflow.keras.callbacks import ModelCheckpoint\n",
    "from tensorflow.keras.callbacks import TensorBoard\n",
    "\n",
    "from IPython.core.display import display, HTML\n",
    "\n",
    "import datetime, os\n",
    "import random"
   ]
  },
  {
   "cell_type": "code",
   "execution_count": 7,
   "id": "27809f03-c5eb-490b-b634-f45db1320a27",
   "metadata": {
    "tags": []
   },
   "outputs": [
    {
     "name": "stdout",
     "output_type": "stream",
     "text": [
      "Requirement already satisfied: nltk in c:\\users\\edins\\miniconda3\\envs\\tf\\lib\\site-packages (3.8.1)\n",
      "Requirement already satisfied: click in c:\\users\\edins\\miniconda3\\envs\\tf\\lib\\site-packages (from nltk) (8.1.7)\n",
      "Requirement already satisfied: joblib in c:\\users\\edins\\miniconda3\\envs\\tf\\lib\\site-packages (from nltk) (1.3.2)\n",
      "Requirement already satisfied: regex>=2021.8.3 in c:\\users\\edins\\miniconda3\\envs\\tf\\lib\\site-packages (from nltk) (2023.10.3)\n",
      "Requirement already satisfied: tqdm in c:\\users\\edins\\miniconda3\\envs\\tf\\lib\\site-packages (from nltk) (4.66.1)\n",
      "Requirement already satisfied: colorama in c:\\users\\edins\\miniconda3\\envs\\tf\\lib\\site-packages (from click->nltk) (0.4.6)\n"
     ]
    }
   ],
   "source": [
    "!pip install nltk"
   ]
  },
  {
   "cell_type": "code",
   "execution_count": 8,
   "id": "3a47cf43-3181-4a0c-a8cd-e12b36b39c58",
   "metadata": {
    "tags": []
   },
   "outputs": [
    {
     "name": "stderr",
     "output_type": "stream",
     "text": [
      "[nltk_data] Downloading package conll2002 to\n",
      "[nltk_data]     C:\\Users\\edins\\AppData\\Roaming\\nltk_data...\n",
      "[nltk_data]   Package conll2002 is already up-to-date!\n"
     ]
    },
    {
     "data": {
      "text/plain": [
       "['esp.testa', 'esp.testb', 'esp.train', 'ned.testa', 'ned.testb', 'ned.train']"
      ]
     },
     "execution_count": 8,
     "metadata": {},
     "output_type": "execute_result"
    }
   ],
   "source": [
    "import nltk\n",
    "nltk.download('conll2002')\n",
    "nltk.corpus.conll2002.fileids()"
   ]
  },
  {
   "cell_type": "code",
   "execution_count": 9,
   "id": "fc8826d3-5bbd-4770-9cce-b1aa02526677",
   "metadata": {
    "tags": []
   },
   "outputs": [
    {
     "name": "stdout",
     "output_type": "stream",
     "text": [
      "8323 1238\n",
      "1517 202\n",
      "1915 141\n",
      "CPU times: total: 1.2 s\n",
      "Wall time: 1.24 s\n"
     ]
    }
   ],
   "source": [
    "%%time\n",
    "train_sents = list(nltk.corpus.conll2002.iob_sents('esp.train'))\n",
    "test_sents = list(nltk.corpus.conll2002.iob_sents('esp.testb'))\n",
    "eval_sents = list(nltk.corpus.conll2002.iob_sents('esp.testa'))\n",
    "print(len(train_sents),len(max(train_sents,key=len)))\n",
    "print(len(test_sents),len(max(test_sents,key=len)))\n",
    "print(len(eval_sents),len(max(eval_sents,key=len)))"
   ]
  },
  {
   "cell_type": "code",
   "execution_count": 10,
   "id": "74bcdbc4-f3a1-4190-8ae0-11285671e95b",
   "metadata": {
    "tags": []
   },
   "outputs": [
    {
     "name": "stdout",
     "output_type": "stream",
     "text": [
      "[('Melbourne', 'NP', 'B-LOC'), ('(', 'Fpa', 'O'), ('Australia', 'NP', 'B-LOC'), (')', 'Fpt', 'O'), (',', 'Fc', 'O'), ('25', 'Z', 'O'), ('may', 'NC', 'O'), ('(', 'Fpa', 'O'), ('EFE', 'NC', 'B-ORG'), (')', 'Fpt', 'O'), ('.', 'Fp', 'O')]\n"
     ]
    }
   ],
   "source": [
    "print(train_sents[0])"
   ]
  },
  {
   "cell_type": "markdown",
   "id": "93cc476a-7522-4edb-9aa8-a1a48dc57bed",
   "metadata": {},
   "source": [
    "# PARTE 1. PREPROCESAMIENTO DE LOS DATOS"
   ]
  },
  {
   "cell_type": "code",
   "execution_count": 11,
   "id": "32a9ded1-7ca9-40cb-bb7c-4be21b0a19fc",
   "metadata": {
    "tags": []
   },
   "outputs": [],
   "source": [
    "# extraen las etiquetas o labels\n",
    "# corpus tiene tres columnas: token, postag y etiqueta\n",
    "def sent2labels(sent):\n",
    "    return [label for token, postag, label in sent]\n",
    "# extraer tokens o palabras\n",
    "def sent2tokens(sent):\n",
    "    return [token for token, postag, label in sent]"
   ]
  },
  {
   "cell_type": "code",
   "execution_count": 12,
   "id": "09b354b6-105e-435b-b0bf-8ff491d46ffa",
   "metadata": {
    "tags": []
   },
   "outputs": [
    {
     "data": {
      "text/plain": [
       "'Melbourne'"
      ]
     },
     "execution_count": 12,
     "metadata": {},
     "output_type": "execute_result"
    }
   ],
   "source": [
    "sent2tokens(train_sents[0])[0]\n",
    "#sent2labels(train_sents[0])[0]"
   ]
  },
  {
   "cell_type": "code",
   "execution_count": 13,
   "id": "2abe0a69-9c6a-4d8f-a6ee-327f9de4a95d",
   "metadata": {
    "tags": []
   },
   "outputs": [
    {
     "name": "stdout",
     "output_type": "stream",
     "text": [
      "CPU times: total: 0 ns\n",
      "Wall time: 38.8 ms\n"
     ]
    }
   ],
   "source": [
    "%%time\n",
    "# Conjunto de train\n",
    "X_train = [sent2tokens(s) for s in train_sents]\n",
    "y_train = [sent2labels(s) for s in train_sents]\n",
    "\n",
    "# Conjunto de testeo o de gold\n",
    "X_test = [sent2tokens(s) for s in test_sents]\n",
    "y_test = [sent2labels(s) for s in test_sents]\n",
    "\n",
    "# Conjunto de validación\n",
    "X_eval = [sent2tokens(s) for s in eval_sents]\n",
    "y_eval = [sent2labels(s) for s in eval_sents]"
   ]
  },
  {
   "cell_type": "code",
   "execution_count": 14,
   "id": "e9f43e89-f393-4652-b34e-615e55fd8eee",
   "metadata": {
    "tags": []
   },
   "outputs": [
    {
     "name": "stdout",
     "output_type": "stream",
     "text": [
      "['El', 'Abogado', 'General', 'del', 'Estado', ',', 'Daryl', 'Williams', ',', 'subrayó', 'hoy', 'la', 'necesidad', 'de', 'tomar', 'medidas', 'para', 'proteger', 'al', 'sistema', 'judicial', 'australiano', 'frente', 'a', 'una', 'página', 'de', 'internet', 'que', 'imposibilita', 'el', 'cumplimiento', 'de', 'los', 'principios', 'básicos', 'de', 'la', 'Ley', '.']\n",
      "['O', 'B-PER', 'I-PER', 'I-PER', 'I-PER', 'O', 'B-PER', 'I-PER', 'O', 'O', 'O', 'O', 'O', 'O', 'O', 'O', 'O', 'O', 'O', 'O', 'O', 'O', 'O', 'O', 'O', 'O', 'O', 'O', 'O', 'O', 'O', 'O', 'O', 'O', 'O', 'O', 'O', 'O', 'B-MISC', 'O']\n"
     ]
    }
   ],
   "source": [
    "print(X_train[2])\n",
    "print(y_train[2])"
   ]
  },
  {
   "cell_type": "code",
   "execution_count": 15,
   "id": "5c628f96-700a-4287-a82b-46450f945782",
   "metadata": {
    "tags": []
   },
   "outputs": [
    {
     "name": "stdout",
     "output_type": "stream",
     "text": [
      "28384\n",
      "11\n",
      "{'B-PER': 2, 'B-MISC': 3, 'B-ORG': 4, 'I-ORG': 5, 'I-MISC': 6, 'B-LOC': 7, 'I-PER': 8, 'I-LOC': 9, 'O': 10, '-PAD-': 0, '-OOV-': 1}\n",
      "{'B-PER', 'B-MISC', 'B-ORG', 'I-ORG', 'I-MISC', 'B-LOC', 'I-PER', 'I-LOC', 'O'}\n"
     ]
    }
   ],
   "source": [
    "import numpy as np\n",
    "\n",
    "words, tagsss = set([]), set([])\n",
    "\n",
    "for s in (X_train + X_eval + X_test):\n",
    "    for w in s:\n",
    "        words.add(w.lower())\n",
    "\n",
    "for ts in (y_train + y_eval + y_test):\n",
    "    for t in ts:\n",
    "        tagsss.add(t)\n",
    "\n",
    "word2index = {w: i + 2 for i, w in enumerate(list(words))}\n",
    "word2index['-PAD-'] = 0  # The special value used for padding\n",
    "word2index['-OOV-'] = 1  # The special value used for OOVs\n",
    "\n",
    "tag2index = {t: i + 2 for i, t in enumerate(list(tagsss))}\n",
    "tag2index['-PAD-'] = 0  # The special value used to padding\n",
    "tag2index['-OOV-'] = 1  # The special value used to padding\n",
    "\n",
    "print (len(word2index))\n",
    "print (len(tag2index))\n",
    "print(tag2index)\n",
    "\n",
    "\n",
    "print(tagsss)"
   ]
  },
  {
   "cell_type": "code",
   "execution_count": 16,
   "id": "b12b10bf-ebbd-4d75-ab90-d10fd7c104d2",
   "metadata": {
    "tags": []
   },
   "outputs": [],
   "source": [
    "train_sentences_X, eval_sentences_X, test_sentences_X, train_tags_y, eval_tags_y, test_tags_y = [], [], [], [], [], []\n",
    "\n",
    "for s in X_train:\n",
    "    s_int = []\n",
    "    for w in s:\n",
    "        try:\n",
    "            s_int.append(word2index[w.lower()])\n",
    "        except KeyError:\n",
    "            s_int.append(word2index['-OOV-'])\n",
    "\n",
    "    train_sentences_X.append(s_int)\n",
    "\n",
    "for s in X_eval:\n",
    "    s_int = []\n",
    "    for w in s:\n",
    "        try:\n",
    "            s_int.append(word2index[w.lower()])\n",
    "        except KeyError:\n",
    "            s_int.append(word2index['-OOV-'])\n",
    "\n",
    "    eval_sentences_X.append(s_int)\n",
    "\n",
    "for s in X_test:\n",
    "    s_int = []\n",
    "    for w in s:\n",
    "        try:\n",
    "            s_int.append(word2index[w.lower()])\n",
    "        except KeyError:\n",
    "            s_int.append(word2index['-OOV-'])\n",
    "\n",
    "    test_sentences_X.append(s_int)\n",
    "\n",
    "for s in y_train:\n",
    "    s_int = []\n",
    "    for w in s:\n",
    "        try:\n",
    "            s_int.append(tag2index[w])\n",
    "        except KeyError:\n",
    "            s_int.append(tag2index['-OOV-'])\n",
    "\n",
    "    train_tags_y.append(s_int)\n",
    "\n",
    "for s in y_eval:\n",
    "    s_int = []\n",
    "    for w in s:\n",
    "        try:\n",
    "            s_int.append(tag2index[w])\n",
    "        except KeyError:\n",
    "            s_int.append(tag2index['-OOV-'])\n",
    "\n",
    "    eval_tags_y.append(s_int)\n",
    "\n",
    "for s in y_test:\n",
    "    s_int = []\n",
    "    for w in s:\n",
    "        try:\n",
    "            s_int.append(tag2index[w])\n",
    "        except KeyError:\n",
    "            s_int.append(tag2index['-OOV-'])\n",
    "\n",
    "    test_tags_y.append(s_int)"
   ]
  },
  {
   "cell_type": "markdown",
   "id": "8a9a14da",
   "metadata": {},
   "source": [
    "# En esta parte se enterizan las sentencias de train, val y testeo con longitudes diferentes."
   ]
  },
  {
   "cell_type": "code",
   "execution_count": 17,
   "id": "8469ad7d-c016-4039-96fb-e5491aed5a17",
   "metadata": {
    "tags": []
   },
   "outputs": [
    {
     "name": "stdout",
     "output_type": "stream",
     "text": [
      "Longitudes de las Matrices:\n",
      "8323\n",
      "1915\n",
      "1517\n",
      "8323\n",
      "1915\n",
      "1517\n",
      "\n",
      "Muestra de Datos presentes en las Matrices con las transformaciones:\n",
      "\n",
      "[225, 22933, 13416, 23213, 22379, 14736, 17018, 22933, 1722, 23213, 15562]\n",
      "[17232, 15109, 22933, 5702, 23213, 22379, 3324, 17018, 22933, 8, 23213, 15562]\n",
      "[10660, 12038, 22379, 3324, 17018, 22933, 8, 23213, 15562]\n",
      "[7, 10, 7, 10, 10, 10, 10, 10, 4, 10, 10]\n",
      "[7, 9, 10, 7, 10, 10, 10, 10, 10, 4, 10, 10]\n",
      "[7, 9, 10, 10, 10, 10, 4, 10, 10]\n"
     ]
    }
   ],
   "source": [
    "print(\"Longitudes de las Matrices:\")\n",
    "print(len(train_sentences_X))\n",
    "print(len(eval_sentences_X))\n",
    "print(len( test_sentences_X))\n",
    "print(len(train_tags_y))\n",
    "print(len(eval_tags_y))\n",
    "print(len(test_tags_y))\n",
    "\n",
    "print(\"\\nMuestra de Datos presentes en las Matrices con las transformaciones:\\n\")\n",
    "\n",
    "\n",
    "print(train_sentences_X[0])\n",
    "print(eval_sentences_X[0])\n",
    "print(test_sentences_X[0])\n",
    "print(train_tags_y[0])\n",
    "print(eval_tags_y[0])\n",
    "print(test_tags_y[0])\n"
   ]
  },
  {
   "cell_type": "markdown",
   "id": "70da1f0c-47c1-4e29-af69-480cab1aa3e4",
   "metadata": {
    "tags": []
   },
   "source": [
    "# Se procede a Normalizar las matrices con la longitud de la columna=MAX_LENGTH1 para que todas contengan el mismo numero de columnas, con la longitud máxima de palabras encontradas anteriormente y se agregan ceros a la derecha en las posiciones que hacen falta en el vector."
   ]
  },
  {
   "cell_type": "code",
   "execution_count": 18,
   "id": "b8a743a9-9bf8-4226-89ee-f9baef9b379f",
   "metadata": {
    "tags": []
   },
   "outputs": [
    {
     "name": "stdout",
     "output_type": "stream",
     "text": [
      "[  225 22933 13416 23213 22379 14736 17018 22933  1722 23213 15562     0\n",
      "     0     0     0     0     0     0     0     0     0     0     0     0\n",
      "     0     0     0     0     0     0     0     0     0     0     0     0\n",
      "     0     0     0     0     0     0     0     0     0     0     0     0\n",
      "     0     0     0     0     0     0     0     0     0     0     0     0\n",
      "     0     0     0     0     0     0     0     0     0     0     0     0\n",
      "     0     0     0     0     0     0     0     0     0     0     0     0\n",
      "     0     0     0     0     0     0     0     0     0     0     0     0\n",
      "     0     0     0     0     0     0     0     0     0     0     0     0\n",
      "     0     0     0     0     0     0     0     0     0     0     0     0\n",
      "     0     0     0     0     0     0     0     0     0     0     0     0\n",
      "     0     0     0     0     0     0     0     0     0     0     0     0\n",
      "     0     0     0     0     0     0     0     0     0     0     0     0\n",
      "     0     0     0     0     0     0     0     0     0     0     0     0\n",
      "     0     0     0     0     0     0     0     0     0     0     0     0\n",
      "     0     0     0     0     0     0     0     0     0     0     0     0\n",
      "     0     0     0     0     0     0     0     0     0     0]\n",
      "(8323, 202)\n",
      "[17232 15109 22933  5702 23213 22379  3324 17018 22933     8 23213 15562\n",
      "     0     0     0     0     0     0     0     0     0     0     0     0\n",
      "     0     0     0     0     0     0     0     0     0     0     0     0\n",
      "     0     0     0     0     0     0     0     0     0     0     0     0\n",
      "     0     0     0     0     0     0     0     0     0     0     0     0\n",
      "     0     0     0     0     0     0     0     0     0     0     0     0\n",
      "     0     0     0     0     0     0     0     0     0     0     0     0\n",
      "     0     0     0     0     0     0     0     0     0     0     0     0\n",
      "     0     0     0     0     0     0     0     0     0     0     0     0\n",
      "     0     0     0     0     0     0     0     0     0     0     0     0\n",
      "     0     0     0     0     0     0     0     0     0     0     0     0\n",
      "     0     0     0     0     0     0     0     0     0     0     0     0\n",
      "     0     0     0     0     0     0     0     0     0     0     0     0\n",
      "     0     0     0     0     0     0     0     0     0     0     0     0\n",
      "     0     0     0     0     0     0     0     0     0     0     0     0\n",
      "     0     0     0     0     0     0     0     0     0     0     0     0\n",
      "     0     0     0     0     0     0     0     0     0     0]\n",
      "(1915, 202)\n",
      "[10660 12038 22379  3324 17018 22933     8 23213 15562     0     0     0\n",
      "     0     0     0     0     0     0     0     0     0     0     0     0\n",
      "     0     0     0     0     0     0     0     0     0     0     0     0\n",
      "     0     0     0     0     0     0     0     0     0     0     0     0\n",
      "     0     0     0     0     0     0     0     0     0     0     0     0\n",
      "     0     0     0     0     0     0     0     0     0     0     0     0\n",
      "     0     0     0     0     0     0     0     0     0     0     0     0\n",
      "     0     0     0     0     0     0     0     0     0     0     0     0\n",
      "     0     0     0     0     0     0     0     0     0     0     0     0\n",
      "     0     0     0     0     0     0     0     0     0     0     0     0\n",
      "     0     0     0     0     0     0     0     0     0     0     0     0\n",
      "     0     0     0     0     0     0     0     0     0     0     0     0\n",
      "     0     0     0     0     0     0     0     0     0     0     0     0\n",
      "     0     0     0     0     0     0     0     0     0     0     0     0\n",
      "     0     0     0     0     0     0     0     0     0     0     0     0\n",
      "     0     0     0     0     0     0     0     0     0     0     0     0\n",
      "     0     0     0     0     0     0     0     0     0     0]\n",
      "(1517, 202)\n",
      "[ 7 10  7 10 10 10 10 10  4 10 10  0  0  0  0  0  0  0  0  0  0  0  0  0\n",
      "  0  0  0  0  0  0  0  0  0  0  0  0  0  0  0  0  0  0  0  0  0  0  0  0\n",
      "  0  0  0  0  0  0  0  0  0  0  0  0  0  0  0  0  0  0  0  0  0  0  0  0\n",
      "  0  0  0  0  0  0  0  0  0  0  0  0  0  0  0  0  0  0  0  0  0  0  0  0\n",
      "  0  0  0  0  0  0  0  0  0  0  0  0  0  0  0  0  0  0  0  0  0  0  0  0\n",
      "  0  0  0  0  0  0  0  0  0  0  0  0  0  0  0  0  0  0  0  0  0  0  0  0\n",
      "  0  0  0  0  0  0  0  0  0  0  0  0  0  0  0  0  0  0  0  0  0  0  0  0\n",
      "  0  0  0  0  0  0  0  0  0  0  0  0  0  0  0  0  0  0  0  0  0  0  0  0\n",
      "  0  0  0  0  0  0  0  0  0  0]\n",
      "(8323, 202)\n",
      "[ 7  9 10  7 10 10 10 10 10  4 10 10  0  0  0  0  0  0  0  0  0  0  0  0\n",
      "  0  0  0  0  0  0  0  0  0  0  0  0  0  0  0  0  0  0  0  0  0  0  0  0\n",
      "  0  0  0  0  0  0  0  0  0  0  0  0  0  0  0  0  0  0  0  0  0  0  0  0\n",
      "  0  0  0  0  0  0  0  0  0  0  0  0  0  0  0  0  0  0  0  0  0  0  0  0\n",
      "  0  0  0  0  0  0  0  0  0  0  0  0  0  0  0  0  0  0  0  0  0  0  0  0\n",
      "  0  0  0  0  0  0  0  0  0  0  0  0  0  0  0  0  0  0  0  0  0  0  0  0\n",
      "  0  0  0  0  0  0  0  0  0  0  0  0  0  0  0  0  0  0  0  0  0  0  0  0\n",
      "  0  0  0  0  0  0  0  0  0  0  0  0  0  0  0  0  0  0  0  0  0  0  0  0\n",
      "  0  0  0  0  0  0  0  0  0  0]\n",
      "(1915, 202)\n",
      "[ 7  9 10 10 10 10  4 10 10  0  0  0  0  0  0  0  0  0  0  0  0  0  0  0\n",
      "  0  0  0  0  0  0  0  0  0  0  0  0  0  0  0  0  0  0  0  0  0  0  0  0\n",
      "  0  0  0  0  0  0  0  0  0  0  0  0  0  0  0  0  0  0  0  0  0  0  0  0\n",
      "  0  0  0  0  0  0  0  0  0  0  0  0  0  0  0  0  0  0  0  0  0  0  0  0\n",
      "  0  0  0  0  0  0  0  0  0  0  0  0  0  0  0  0  0  0  0  0  0  0  0  0\n",
      "  0  0  0  0  0  0  0  0  0  0  0  0  0  0  0  0  0  0  0  0  0  0  0  0\n",
      "  0  0  0  0  0  0  0  0  0  0  0  0  0  0  0  0  0  0  0  0  0  0  0  0\n",
      "  0  0  0  0  0  0  0  0  0  0  0  0  0  0  0  0  0  0  0  0  0  0  0  0\n",
      "  0  0  0  0  0  0  0  0  0  0]\n",
      "(1517, 202)\n"
     ]
    }
   ],
   "source": [
    "from tensorflow.keras.preprocessing.sequence import pad_sequences\n",
    "MAX_LENGTH=202\n",
    "train_sentences_X = pad_sequences(train_sentences_X, maxlen=MAX_LENGTH, padding='post')\n",
    "eval_sentences_X = pad_sequences(eval_sentences_X, maxlen=MAX_LENGTH, padding='post')\n",
    "test_sentences_X = pad_sequences(test_sentences_X, maxlen=MAX_LENGTH, padding='post')\n",
    "train_tags_y = pad_sequences(train_tags_y, maxlen=MAX_LENGTH, padding='post')\n",
    "eval_tags_y = pad_sequences(eval_tags_y, maxlen=MAX_LENGTH, padding='post')\n",
    "test_tags_y = pad_sequences(test_tags_y, maxlen=MAX_LENGTH, padding='post')\n",
    "\n",
    "print(train_sentences_X[0])\n",
    "print(train_sentences_X.shape)\n",
    "print(eval_sentences_X[0])\n",
    "print(eval_sentences_X.shape)\n",
    "print(test_sentences_X[0])\n",
    "print(test_sentences_X.shape)\n",
    "print(train_tags_y[0])\n",
    "print(train_tags_y.shape)\n",
    "print(eval_tags_y[0])\n",
    "print(eval_tags_y.shape)\n",
    "print(test_tags_y[0])\n",
    "print(test_tags_y.shape)"
   ]
  },
  {
   "cell_type": "code",
   "execution_count": 19,
   "id": "a18e393b-c20e-4803-8196-876a7c9afe87",
   "metadata": {
    "tags": []
   },
   "outputs": [],
   "source": [
    "def to_categoricals(sequences, categories):\n",
    "    cat_sequences = []\n",
    "    for s in sequences:\n",
    "        cats = []\n",
    "        for item in s:\n",
    "            cats.append(np.zeros(categories))\n",
    "            cats[-1][item] = 1.0\n",
    "        cat_sequences.append(cats)\n",
    "    return np.array(cat_sequences)"
   ]
  },
  {
   "cell_type": "code",
   "execution_count": 20,
   "id": "9ec52be3-0c12-4613-be19-8c32cdc6b8de",
   "metadata": {
    "tags": []
   },
   "outputs": [],
   "source": [
    "def encode(data):\n",
    "    print('Shape of data (BEFORE encode): %s' % str(data.shape))\n",
    "    encoded = to_categorical(data)\n",
    "    print('Shape of data (AFTER  encode): %s\\n' % str(encoded.shape))\n",
    "    return encoded"
   ]
  },
  {
   "cell_type": "markdown",
   "id": "ac0b0d0f-7f41-45c4-9091-796c4d740753",
   "metadata": {},
   "source": [
    "# Se realiza la categorización one-hot de las etiquetas o labels de entrenamiento, testeo y validación"
   ]
  },
  {
   "cell_type": "code",
   "execution_count": 21,
   "id": "648a9a58-c32e-410f-b026-8d8c8256cd2a",
   "metadata": {
    "tags": []
   },
   "outputs": [
    {
     "name": "stdout",
     "output_type": "stream",
     "text": [
      "[[0. 0. 0. ... 0. 0. 1.]\n",
      " [1. 0. 0. ... 0. 0. 0.]\n",
      " [1. 0. 0. ... 0. 0. 0.]\n",
      " ...\n",
      " [1. 0. 0. ... 0. 0. 0.]\n",
      " [1. 0. 0. ... 0. 0. 0.]\n",
      " [1. 0. 0. ... 0. 0. 0.]]\n",
      "8323\n",
      "(8323, 202, 11)\n",
      "1517\n"
     ]
    }
   ],
   "source": [
    "cat_train_tags_y = to_categoricals(train_tags_y, len(tag2index))\n",
    "cat_eval_tags_y  = to_categoricals(eval_tags_y, len(tag2index))\n",
    "cat_test_tags_y  = to_categoricals(test_tags_y, len(tag2index))\n",
    "\n",
    "print(cat_train_tags_y[1])\n",
    "print(len(cat_train_tags_y))\n",
    "print(cat_train_tags_y.shape)\n",
    "print(len(cat_test_tags_y))"
   ]
  },
  {
   "cell_type": "markdown",
   "id": "325153f7-61ab-4d2f-8b79-4a11c352a54c",
   "metadata": {},
   "source": [
    "# Carga del embeddings de Europarl\n",
    "En la variable **embedding_matrix** se guarda el conjunto de vectores embebidos"
   ]
  },
  {
   "cell_type": "code",
   "execution_count": 22,
   "id": "166ce56a-426f-4620-9014-ae7b5a6e0961",
   "metadata": {
    "tags": []
   },
   "outputs": [
    {
     "name": "stdout",
     "output_type": "stream",
     "text": [
      "Cargando archivo...\n"
     ]
    },
    {
     "name": "stderr",
     "output_type": "stream",
     "text": [
      "179359it [00:11, 16032.05it/s]\n"
     ]
    },
    {
     "name": "stdout",
     "output_type": "stream",
     "text": [
      "Encontrado 179359 Word Vectors.\n"
     ]
    },
    {
     "name": "stderr",
     "output_type": "stream",
     "text": [
      "100%|████████████████████████████████████████████████████████████████████████| 28384/28384 [00:00<00:00, 603364.85it/s]"
     ]
    },
    {
     "name": "stdout",
     "output_type": "stream",
     "text": [
      "Convertidos: 18312 Tokens | Perdidos: 10365 Tokens\n"
     ]
    },
    {
     "name": "stderr",
     "output_type": "stream",
     "text": [
      "\n"
     ]
    }
   ],
   "source": [
    "from utils import build_matrix_embeddings as bme, plot_model_performance, logits_to_tokens, report_to_df\n",
    "EMBED_DIM=300\n",
    "file = 'word2vec_skip-gram_model_300.txt'\n",
    "file= 'Europarl_fasttext_skip_model_300.txt'\n",
    "embedding_matrix = bme(file, len(word2index), EMBED_DIM, word2index)"
   ]
  },
  {
   "cell_type": "markdown",
   "id": "2a171e5a-ce83-42e4-8601-7ab11ef4669f",
   "metadata": {},
   "source": [
    "# 2. MODELO DE LA RED NEURONAL RECURSIVA (BILSTM+ CRF)"
   ]
  },
  {
   "cell_type": "markdown",
   "id": "9578d9b7-5243-4ac6-bb2c-042761626e9a",
   "metadata": {},
   "source": [
    "#  Modelo matématico\n",
    "# Aqui  se define el modelo matémático de la  máquina de aprendizaje que en este caso en una red neuronal recursiva RNN. Específicamente es un Bilstm que  es un Lstm en dos direcciones  y un CRF  para mejorar la distribución probabilística producto de la  red neunoral. En esta red de prueba una estructura de Masking para mejorar las distribuciones probabilídticas. En pocas palabras cumple la función de un distributed. Esta red neuronal tiene una entrada **input = Input(shape=(MAX_LENGTH,))**  esta entrada tiene la longitud de la máxima sentencia  que es 202. Luego se define la matriz de embedding que es una vectorización de palabras usando Word2vec. Esta es una matriz que se vuelve de tres dimensiones 28384 X 202 X 300 y cuando se tiene embedding de palabras se llena son los pesos de la matriz preentrenada, ya sea de word2vec, fasttext o glove. También se pueden concatenar matrices de embedding de otras características lingúísticas como el POS, lema, ect. Luego viene la"
   ]
  },
  {
   "cell_type": "code",
   "execution_count": 23,
   "id": "e03968d3-7d16-4e8c-8811-ad3e70e0557c",
   "metadata": {},
   "outputs": [],
   "source": [
    "import numpy as np\n",
    "import tensorflow\n",
    "from tensorflow.keras import Sequential, Model, Input\n",
    "from tensorflow.keras.layers import LSTM, Embedding, Dense, TimeDistributed, Dropout, Bidirectional\n",
    "from tensorflow.keras.utils import plot_model"
   ]
  },
  {
   "cell_type": "code",
   "execution_count": 24,
   "id": "eae61744-3829-4eae-9499-13f513c66bad",
   "metadata": {
    "tags": []
   },
   "outputs": [
    {
     "name": "stdout",
     "output_type": "stream",
     "text": [
      "WARNING:tensorflow:From c:\\users\\edins\\appdata\\local\\programs\\python\\python39\\lib\\site-packages\\keras\\src\\backend.py:1398: The name tf.executing_eagerly_outside_functions is deprecated. Please use tf.compat.v1.executing_eagerly_outside_functions instead.\n",
      "\n",
      "WARNING:tensorflow:From c:\\users\\edins\\appdata\\local\\programs\\python\\python39\\lib\\site-packages\\keras\\src\\optimizers\\__init__.py:309: The name tf.train.Optimizer is deprecated. Please use tf.compat.v1.train.Optimizer instead.\n",
      "\n"
     ]
    }
   ],
   "source": [
    "from tf2crf import CRF as crf6\n",
    "import keras as k\n",
    "from mwrapper import ModelWithCRFLoss, ModelWithCRFLossDSCLoss\n",
    "from keras.layers import Masking\n",
    "\n",
    "input = Input(shape=(MAX_LENGTH,))\n",
    "word_embedding_size = 300\n",
    "EMBED_DIM = 300\n",
    "# Embedding Layer\n",
    "model = Embedding(input_dim=len(word2index),\n",
    "                  weights=[embedding_matrix],  # Initializing with FastText embeddings\n",
    "                output_dim=word_embedding_size,\n",
    "                input_length=MAX_LENGTH,\n",
    "                mask_zero=False)(input)\n",
    "\n",
    "model = Bidirectional(LSTM(units=50,\n",
    "                     return_sequences=True,\n",
    "                     dropout=0.5,\n",
    "                     recurrent_dropout=0))(model)\n",
    "\n",
    "model = LSTM(units=50,\n",
    "                     return_sequences=True,\n",
    "                     dropout=0.5,\n",
    "                     recurrent_dropout=0)(model)\n",
    "\n",
    "model  = Dropout(0.5, name='dropout_lstm')(model)\n",
    "model  = Dense(units=EMBED_DIM, activation='tanh')(model)\n",
    "model  = Dense(units=len(tag2index), activation='tanh')(model) # Distribucion de probabilidad\n",
    "\n",
    "model = Masking(mask_value= 0.,input_shape=(MAX_LENGTH,len(tag2index)))(model)\n",
    "\n",
    "crf = crf6(units=len(tag2index), name=\"ner_crf\")\n",
    "predictions = crf(model)\n",
    "\n",
    "base_model = Model(inputs=input, outputs=predictions)\n",
    "model = ModelWithCRFLoss(base_model, sparse_target=True)\n",
    "#keras.mixed_precision.set_global_policy(\"mixed_float16\")\n",
    "model.compile(optimizer='adam')"
   ]
  },
  {
   "cell_type": "code",
   "execution_count": 25,
   "id": "6e3f15ac-70f6-43e6-9a98-0050dd77aea1",
   "metadata": {
    "tags": []
   },
   "outputs": [
    {
     "name": "stdout",
     "output_type": "stream",
     "text": [
      "Epoch 1/80\n",
      "66/66 - 47s - loss: 109.9254 - accuracy: 0.8841 - val_loss_val: 40.0378 - val_val_accuracy: 0.9771 - 47s/epoch - 719ms/step\n",
      "Epoch 2/80\n",
      "66/66 - 43s - loss: 33.4905 - accuracy: 0.9788 - val_loss_val: 28.3661 - val_val_accuracy: 0.9789 - 43s/epoch - 646ms/step\n",
      "Epoch 3/80\n",
      "66/66 - 44s - loss: 26.2549 - accuracy: 0.9799 - val_loss_val: 24.1001 - val_val_accuracy: 0.9798 - 44s/epoch - 665ms/step\n",
      "Epoch 4/80\n",
      "66/66 - 44s - loss: 23.2235 - accuracy: 0.9804 - val_loss_val: 21.3912 - val_val_accuracy: 0.9801 - 44s/epoch - 674ms/step\n",
      "Epoch 5/80\n",
      "66/66 - 44s - loss: 20.3400 - accuracy: 0.9804 - val_loss_val: 18.3554 - val_val_accuracy: 0.9801 - 44s/epoch - 669ms/step\n",
      "Epoch 6/80\n",
      "66/66 - 44s - loss: 16.3057 - accuracy: 0.9810 - val_loss_val: 15.5172 - val_val_accuracy: 0.9812 - 44s/epoch - 673ms/step\n",
      "Epoch 7/80\n",
      "66/66 - 45s - loss: 13.8668 - accuracy: 0.9828 - val_loss_val: 13.8560 - val_val_accuracy: 0.9824 - 45s/epoch - 677ms/step\n",
      "Epoch 8/80\n",
      "66/66 - 44s - loss: 12.2876 - accuracy: 0.9839 - val_loss_val: 13.0105 - val_val_accuracy: 0.9827 - 44s/epoch - 668ms/step\n",
      "Epoch 9/80\n",
      "66/66 - 45s - loss: 11.2617 - accuracy: 0.9845 - val_loss_val: 12.1342 - val_val_accuracy: 0.9833 - 45s/epoch - 679ms/step\n",
      "Epoch 10/80\n",
      "66/66 - 45s - loss: 10.3059 - accuracy: 0.9854 - val_loss_val: 11.4489 - val_val_accuracy: 0.9837 - 45s/epoch - 682ms/step\n",
      "Epoch 11/80\n",
      "66/66 - 45s - loss: 9.4418 - accuracy: 0.9867 - val_loss_val: 10.7385 - val_val_accuracy: 0.9849 - 45s/epoch - 678ms/step\n",
      "Epoch 12/80\n",
      "66/66 - 45s - loss: 8.5866 - accuracy: 0.9879 - val_loss_val: 10.3609 - val_val_accuracy: 0.9852 - 45s/epoch - 678ms/step\n",
      "Epoch 13/80\n",
      "66/66 - 45s - loss: 7.9566 - accuracy: 0.9887 - val_loss_val: 9.9457 - val_val_accuracy: 0.9858 - 45s/epoch - 680ms/step\n",
      "Epoch 14/80\n",
      "66/66 - 44s - loss: 7.3403 - accuracy: 0.9895 - val_loss_val: 9.5884 - val_val_accuracy: 0.9859 - 44s/epoch - 672ms/step\n",
      "Epoch 15/80\n",
      "66/66 - 45s - loss: 7.0632 - accuracy: 0.9901 - val_loss_val: 9.2922 - val_val_accuracy: 0.9865 - 45s/epoch - 681ms/step\n",
      "Epoch 16/80\n",
      "66/66 - 45s - loss: 6.2251 - accuracy: 0.9907 - val_loss_val: 8.9471 - val_val_accuracy: 0.9869 - 45s/epoch - 676ms/step\n",
      "Epoch 17/80\n",
      "66/66 - 45s - loss: 5.8159 - accuracy: 0.9911 - val_loss_val: 8.7848 - val_val_accuracy: 0.9868 - 45s/epoch - 684ms/step\n",
      "Epoch 18/80\n",
      "66/66 - 45s - loss: 5.5230 - accuracy: 0.9913 - val_loss_val: 8.9118 - val_val_accuracy: 0.9873 - 45s/epoch - 681ms/step\n",
      "Epoch 19/80\n",
      "66/66 - 46s - loss: 5.1364 - accuracy: 0.9918 - val_loss_val: 8.4913 - val_val_accuracy: 0.9873 - 46s/epoch - 693ms/step\n",
      "Epoch 20/80\n",
      "66/66 - 45s - loss: 4.8387 - accuracy: 0.9922 - val_loss_val: 8.1991 - val_val_accuracy: 0.9875 - 45s/epoch - 687ms/step\n",
      "Epoch 21/80\n",
      "66/66 - 45s - loss: 4.5690 - accuracy: 0.9924 - val_loss_val: 8.2764 - val_val_accuracy: 0.9873 - 45s/epoch - 688ms/step\n",
      "Epoch 22/80\n",
      "66/66 - 45s - loss: 4.3540 - accuracy: 0.9927 - val_loss_val: 8.1860 - val_val_accuracy: 0.9877 - 45s/epoch - 686ms/step\n",
      "Epoch 23/80\n",
      "66/66 - 45s - loss: 4.0782 - accuracy: 0.9931 - val_loss_val: 8.1358 - val_val_accuracy: 0.9877 - 45s/epoch - 675ms/step\n",
      "Epoch 24/80\n",
      "66/66 - 46s - loss: 3.8347 - accuracy: 0.9936 - val_loss_val: 8.0101 - val_val_accuracy: 0.9880 - 46s/epoch - 695ms/step\n",
      "Epoch 25/80\n",
      "66/66 - 47s - loss: 3.7563 - accuracy: 0.9939 - val_loss_val: 7.9059 - val_val_accuracy: 0.9884 - 47s/epoch - 705ms/step\n",
      "Epoch 26/80\n",
      "66/66 - 46s - loss: 3.4239 - accuracy: 0.9944 - val_loss_val: 7.7847 - val_val_accuracy: 0.9884 - 46s/epoch - 704ms/step\n",
      "Epoch 27/80\n",
      "66/66 - 46s - loss: 3.2586 - accuracy: 0.9947 - val_loss_val: 7.8987 - val_val_accuracy: 0.9886 - 46s/epoch - 691ms/step\n",
      "Epoch 28/80\n",
      "66/66 - 45s - loss: 3.0595 - accuracy: 0.9951 - val_loss_val: 7.7660 - val_val_accuracy: 0.9885 - 45s/epoch - 684ms/step\n",
      "Epoch 29/80\n",
      "66/66 - 45s - loss: 2.8793 - accuracy: 0.9955 - val_loss_val: 8.0092 - val_val_accuracy: 0.9890 - 45s/epoch - 682ms/step\n",
      "Epoch 30/80\n",
      "66/66 - 46s - loss: 2.7785 - accuracy: 0.9957 - val_loss_val: 8.0987 - val_val_accuracy: 0.9889 - 46s/epoch - 701ms/step\n",
      "Epoch 31/80\n",
      "66/66 - 46s - loss: 2.6094 - accuracy: 0.9961 - val_loss_val: 7.7962 - val_val_accuracy: 0.9887 - 46s/epoch - 697ms/step\n",
      "Epoch 32/80\n",
      "66/66 - 47s - loss: 2.4102 - accuracy: 0.9964 - val_loss_val: 7.9333 - val_val_accuracy: 0.9884 - 47s/epoch - 706ms/step\n",
      "Epoch 33/80\n",
      "66/66 - 46s - loss: 2.2875 - accuracy: 0.9966 - val_loss_val: 7.7801 - val_val_accuracy: 0.9892 - 46s/epoch - 691ms/step\n",
      "Epoch 34/80\n",
      "66/66 - 46s - loss: 2.1992 - accuracy: 0.9968 - val_loss_val: 7.8840 - val_val_accuracy: 0.9890 - 46s/epoch - 692ms/step\n",
      "Epoch 35/80\n",
      "66/66 - 46s - loss: 2.1486 - accuracy: 0.9968 - val_loss_val: 7.7306 - val_val_accuracy: 0.9892 - 46s/epoch - 699ms/step\n",
      "Epoch 36/80\n",
      "66/66 - 47s - loss: 2.0301 - accuracy: 0.9970 - val_loss_val: 7.9903 - val_val_accuracy: 0.9890 - 47s/epoch - 712ms/step\n",
      "Epoch 37/80\n",
      "66/66 - 46s - loss: 1.9398 - accuracy: 0.9972 - val_loss_val: 7.8686 - val_val_accuracy: 0.9889 - 46s/epoch - 693ms/step\n",
      "Epoch 38/80\n",
      "66/66 - 45s - loss: 1.8280 - accuracy: 0.9973 - val_loss_val: 7.8402 - val_val_accuracy: 0.9889 - 45s/epoch - 688ms/step\n",
      "Epoch 39/80\n",
      "66/66 - 45s - loss: 1.8204 - accuracy: 0.9974 - val_loss_val: 7.8958 - val_val_accuracy: 0.9888 - 45s/epoch - 680ms/step\n",
      "Epoch 40/80\n",
      "66/66 - 45s - loss: 1.7011 - accuracy: 0.9975 - val_loss_val: 7.9403 - val_val_accuracy: 0.9891 - 45s/epoch - 680ms/step\n",
      "Epoch 41/80\n",
      "66/66 - 45s - loss: 1.6053 - accuracy: 0.9977 - val_loss_val: 8.0308 - val_val_accuracy: 0.9892 - 45s/epoch - 675ms/step\n",
      "Epoch 42/80\n",
      "66/66 - 44s - loss: 1.5117 - accuracy: 0.9978 - val_loss_val: 7.8972 - val_val_accuracy: 0.9894 - 44s/epoch - 674ms/step\n",
      "Epoch 43/80\n",
      "66/66 - 45s - loss: 1.4322 - accuracy: 0.9980 - val_loss_val: 8.0174 - val_val_accuracy: 0.9893 - 45s/epoch - 675ms/step\n",
      "Epoch 44/80\n",
      "66/66 - 45s - loss: 1.4006 - accuracy: 0.9979 - val_loss_val: 8.0158 - val_val_accuracy: 0.9899 - 45s/epoch - 676ms/step\n",
      "Epoch 45/80\n",
      "66/66 - 45s - loss: 1.3461 - accuracy: 0.9980 - val_loss_val: 8.1845 - val_val_accuracy: 0.9895 - 45s/epoch - 679ms/step\n",
      "Epoch 46/80\n",
      "66/66 - 45s - loss: 1.2873 - accuracy: 0.9982 - val_loss_val: 8.1166 - val_val_accuracy: 0.9893 - 45s/epoch - 679ms/step\n",
      "Epoch 47/80\n",
      "66/66 - 45s - loss: 1.2373 - accuracy: 0.9983 - val_loss_val: 8.1372 - val_val_accuracy: 0.9890 - 45s/epoch - 681ms/step\n",
      "Epoch 48/80\n",
      "66/66 - 45s - loss: 1.2172 - accuracy: 0.9983 - val_loss_val: 8.2386 - val_val_accuracy: 0.9893 - 45s/epoch - 680ms/step\n",
      "Epoch 49/80\n",
      "66/66 - 45s - loss: 1.1923 - accuracy: 0.9983 - val_loss_val: 7.9129 - val_val_accuracy: 0.9894 - 45s/epoch - 681ms/step\n",
      "Epoch 50/80\n",
      "66/66 - 46s - loss: 1.1188 - accuracy: 0.9984 - val_loss_val: 8.5265 - val_val_accuracy: 0.9890 - 46s/epoch - 692ms/step\n",
      "Epoch 51/80\n",
      "66/66 - 45s - loss: 1.1150 - accuracy: 0.9985 - val_loss_val: 8.2200 - val_val_accuracy: 0.9886 - 45s/epoch - 683ms/step\n",
      "Epoch 52/80\n",
      "66/66 - 45s - loss: 1.2431 - accuracy: 0.9981 - val_loss_val: 8.2813 - val_val_accuracy: 0.9895 - 45s/epoch - 678ms/step\n",
      "Epoch 53/80\n",
      "66/66 - 45s - loss: 1.0310 - accuracy: 0.9985 - val_loss_val: 8.3023 - val_val_accuracy: 0.9892 - 45s/epoch - 684ms/step\n",
      "Epoch 54/80\n",
      "66/66 - 45s - loss: 0.9862 - accuracy: 0.9985 - val_loss_val: 8.2613 - val_val_accuracy: 0.9892 - 45s/epoch - 677ms/step\n",
      "Epoch 55/80\n",
      "66/66 - 45s - loss: 0.9490 - accuracy: 0.9986 - val_loss_val: 8.3789 - val_val_accuracy: 0.9892 - 45s/epoch - 679ms/step\n",
      "Epoch 56/80\n",
      "66/66 - 45s - loss: 0.9340 - accuracy: 0.9987 - val_loss_val: 8.5161 - val_val_accuracy: 0.9895 - 45s/epoch - 683ms/step\n",
      "Epoch 57/80\n",
      "66/66 - 46s - loss: 0.8915 - accuracy: 0.9987 - val_loss_val: 8.4638 - val_val_accuracy: 0.9894 - 46s/epoch - 697ms/step\n",
      "Epoch 58/80\n",
      "66/66 - 46s - loss: 0.8753 - accuracy: 0.9987 - val_loss_val: 8.2842 - val_val_accuracy: 0.9896 - 46s/epoch - 690ms/step\n",
      "Epoch 59/80\n",
      "66/66 - 45s - loss: 0.8337 - accuracy: 0.9988 - val_loss_val: 8.6678 - val_val_accuracy: 0.9895 - 45s/epoch - 681ms/step\n",
      "Epoch 60/80\n",
      "66/66 - 45s - loss: 0.8135 - accuracy: 0.9988 - val_loss_val: 8.4840 - val_val_accuracy: 0.9892 - 45s/epoch - 689ms/step\n",
      "Epoch 61/80\n",
      "66/66 - 45s - loss: 0.7793 - accuracy: 0.9988 - val_loss_val: 8.5979 - val_val_accuracy: 0.9893 - 45s/epoch - 680ms/step\n",
      "Epoch 62/80\n",
      "66/66 - 45s - loss: 0.7642 - accuracy: 0.9989 - val_loss_val: 8.4117 - val_val_accuracy: 0.9894 - 45s/epoch - 682ms/step\n",
      "Epoch 63/80\n",
      "66/66 - 45s - loss: 0.7455 - accuracy: 0.9989 - val_loss_val: 8.4872 - val_val_accuracy: 0.9894 - 45s/epoch - 680ms/step\n",
      "Epoch 64/80\n",
      "66/66 - 46s - loss: 0.7353 - accuracy: 0.9989 - val_loss_val: 8.5742 - val_val_accuracy: 0.9896 - 46s/epoch - 690ms/step\n",
      "Epoch 65/80\n",
      "66/66 - 46s - loss: 0.6993 - accuracy: 0.9989 - val_loss_val: 8.8159 - val_val_accuracy: 0.9894 - 46s/epoch - 692ms/step\n",
      "Epoch 66/80\n",
      "66/66 - 45s - loss: 0.6796 - accuracy: 0.9990 - val_loss_val: 8.8209 - val_val_accuracy: 0.9896 - 45s/epoch - 686ms/step\n",
      "Epoch 67/80\n",
      "66/66 - 45s - loss: 0.6680 - accuracy: 0.9990 - val_loss_val: 8.9672 - val_val_accuracy: 0.9894 - 45s/epoch - 680ms/step\n",
      "Epoch 68/80\n",
      "66/66 - 45s - loss: 0.6189 - accuracy: 0.9991 - val_loss_val: 8.9137 - val_val_accuracy: 0.9896 - 45s/epoch - 687ms/step\n",
      "Epoch 69/80\n",
      "66/66 - 45s - loss: 0.6420 - accuracy: 0.9990 - val_loss_val: 8.8663 - val_val_accuracy: 0.9891 - 45s/epoch - 681ms/step\n",
      "Epoch 70/80\n",
      "66/66 - 46s - loss: 0.6072 - accuracy: 0.9990 - val_loss_val: 8.8578 - val_val_accuracy: 0.9893 - 46s/epoch - 690ms/step\n",
      "Epoch 71/80\n",
      "66/66 - 46s - loss: 0.5970 - accuracy: 0.9991 - val_loss_val: 8.9384 - val_val_accuracy: 0.9896 - 46s/epoch - 692ms/step\n",
      "Epoch 72/80\n",
      "66/66 - 45s - loss: 0.6071 - accuracy: 0.9991 - val_loss_val: 8.8618 - val_val_accuracy: 0.9897 - 45s/epoch - 688ms/step\n",
      "Epoch 73/80\n",
      "66/66 - 45s - loss: 0.5773 - accuracy: 0.9992 - val_loss_val: 8.9988 - val_val_accuracy: 0.9897 - 45s/epoch - 680ms/step\n",
      "Epoch 74/80\n",
      "66/66 - 45s - loss: 0.5917 - accuracy: 0.9991 - val_loss_val: 9.0380 - val_val_accuracy: 0.9895 - 45s/epoch - 685ms/step\n",
      "Epoch 75/80\n",
      "66/66 - 45s - loss: 0.5503 - accuracy: 0.9992 - val_loss_val: 8.9868 - val_val_accuracy: 0.9897 - 45s/epoch - 685ms/step\n",
      "Epoch 76/80\n",
      "66/66 - 45s - loss: 0.5507 - accuracy: 0.9992 - val_loss_val: 8.8749 - val_val_accuracy: 0.9899 - 45s/epoch - 684ms/step\n",
      "Epoch 77/80\n",
      "66/66 - 46s - loss: 0.5442 - accuracy: 0.9992 - val_loss_val: 9.1083 - val_val_accuracy: 0.9897 - 46s/epoch - 692ms/step\n",
      "Epoch 78/80\n",
      "66/66 - 45s - loss: 0.5060 - accuracy: 0.9993 - val_loss_val: 9.1304 - val_val_accuracy: 0.9897 - 45s/epoch - 689ms/step\n",
      "Epoch 79/80\n",
      "66/66 - 45s - loss: 0.5080 - accuracy: 0.9992 - val_loss_val: 9.0982 - val_val_accuracy: 0.9895 - 45s/epoch - 686ms/step\n",
      "Epoch 80/80\n",
      "66/66 - 46s - loss: 0.4937 - accuracy: 0.9992 - val_loss_val: 9.0791 - val_val_accuracy: 0.9896 - 46s/epoch - 691ms/step\n"
     ]
    }
   ],
   "source": [
    "#with tf.device('/device:GPU:0'):\n",
    "history= model.fit(train_sentences_X, cat_train_tags_y,\n",
    "      validation_data=(eval_sentences_X, cat_eval_tags_y),\n",
    "      batch_size=128,\n",
    "      epochs=80,\n",
    "      verbose=2)"
   ]
  },
  {
   "cell_type": "code",
   "execution_count": 26,
   "id": "e012a4e2-7eb4-45d1-a5d6-e6c4a87f9ca5",
   "metadata": {
    "tags": []
   },
   "outputs": [
    {
     "name": "stdout",
     "output_type": "stream",
     "text": [
      "{'B-PER': 2, 'B-MISC': 3, 'B-ORG': 4, 'I-ORG': 5, 'I-MISC': 6, 'B-LOC': 7, 'I-PER': 8, 'I-LOC': 9, 'O': 10, '-PAD-': 0, '-OOV-': 1}\n",
      "[[10660 12038 22379 ...     0     0     0]\n",
      " [27979     0     0 ...     0     0     0]\n",
      " [ 9969 16082 20682 ...     0     0     0]\n",
      " ...\n",
      " [10660 11569  3156 ...     0     0     0]\n",
      " [14018 22093 16520 ...     0     0     0]\n",
      " [10660  3313  7154 ...     0     0     0]]\n",
      "48/48 [==============================] - 3s 37ms/step\n",
      "(1517, 202)\n",
      "[[ 7  9 10 ...  0  0  0]\n",
      " [10  0  0 ...  0  0  0]\n",
      " [10 10 10 ...  0  0  0]\n",
      " ...\n",
      " [10  7 10 ...  0  0  0]\n",
      " [10 10 10 ...  0  0  0]\n",
      " [10 10 10 ...  0  0  0]]\n"
     ]
    }
   ],
   "source": [
    "print(tag2index)\n",
    "print(test_sentences_X)\n",
    "y_pred= model.predict(test_sentences_X)\n",
    "print(y_pred.shape)\n",
    "print(y_pred)"
   ]
  },
  {
   "cell_type": "code",
   "execution_count": 27,
   "id": "7915ee53-5e81-4084-ba9c-10f90b18a0d9",
   "metadata": {
    "tags": []
   },
   "outputs": [
    {
     "name": "stdout",
     "output_type": "stream",
     "text": [
      "{2: 'B-PER', 3: 'B-MISC', 4: 'B-ORG', 5: 'I-ORG', 6: 'I-MISC', 7: 'B-LOC', 8: 'I-PER', 9: 'I-LOC', 10: 'O', 0: '-PAD-', 1: '-OOV-'}\n",
      "['O', 'O', 'O', 'O', 'O', 'B-ORG', 'I-ORG', 'I-ORG', 'I-ORG', 'O', 'O', 'O', 'O', 'O', 'B-ORG', 'I-ORG', 'O', 'O', 'B-ORG', 'I-ORG', 'O', 'O', 'B-MISC', 'O', 'B-PER', 'O', 'O', 'O', 'O', 'O', 'O', 'O', 'O', 'O', 'O', 'O', 'O', 'O', 'O', 'O', 'O', 'O', 'O', 'O', 'O', '-PAD-', '-PAD-', '-PAD-', '-PAD-', '-PAD-', '-PAD-', '-PAD-', '-PAD-', '-PAD-', '-PAD-', '-PAD-', '-PAD-', '-PAD-', '-PAD-', '-PAD-', '-PAD-', '-PAD-', '-PAD-', '-PAD-', '-PAD-', '-PAD-', '-PAD-', '-PAD-', '-PAD-', '-PAD-', '-PAD-', '-PAD-', '-PAD-', '-PAD-', '-PAD-', '-PAD-', '-PAD-', '-PAD-', '-PAD-', '-PAD-', '-PAD-', '-PAD-', '-PAD-', '-PAD-', '-PAD-', '-PAD-', '-PAD-', '-PAD-', '-PAD-', '-PAD-', '-PAD-', '-PAD-', '-PAD-', '-PAD-', '-PAD-', '-PAD-', '-PAD-', '-PAD-', '-PAD-', '-PAD-', '-PAD-', '-PAD-', '-PAD-', '-PAD-', '-PAD-', '-PAD-', '-PAD-', '-PAD-', '-PAD-', '-PAD-', '-PAD-', '-PAD-', '-PAD-', '-PAD-', '-PAD-', '-PAD-', '-PAD-', '-PAD-', '-PAD-', '-PAD-', '-PAD-', '-PAD-', '-PAD-', '-PAD-', '-PAD-', '-PAD-', '-PAD-', '-PAD-', '-PAD-', '-PAD-', '-PAD-', '-PAD-', '-PAD-', '-PAD-', '-PAD-', '-PAD-', '-PAD-', '-PAD-', '-PAD-', '-PAD-', '-PAD-', '-PAD-', '-PAD-', '-PAD-', '-PAD-', '-PAD-', '-PAD-', '-PAD-', '-PAD-', '-PAD-', '-PAD-', '-PAD-', '-PAD-', '-PAD-', '-PAD-', '-PAD-', '-PAD-', '-PAD-', '-PAD-', '-PAD-', '-PAD-', '-PAD-', '-PAD-', '-PAD-', '-PAD-', '-PAD-', '-PAD-', '-PAD-', '-PAD-', '-PAD-', '-PAD-', '-PAD-', '-PAD-', '-PAD-', '-PAD-', '-PAD-', '-PAD-', '-PAD-', '-PAD-', '-PAD-', '-PAD-', '-PAD-', '-PAD-', '-PAD-', '-PAD-', '-PAD-', '-PAD-', '-PAD-', '-PAD-', '-PAD-', '-PAD-', '-PAD-', '-PAD-', '-PAD-', '-PAD-', '-PAD-', '-PAD-', '-PAD-', '-PAD-', '-PAD-', '-PAD-', '-PAD-']\n"
     ]
    }
   ],
   "source": [
    "from utils import build_matrix_embeddings as bme, plot_model_performance, logits_to_tokens, report_to_df\n",
    "index2tag = {i: t for t, i in tag2index.items()}\n",
    "print(index2tag)\n",
    "y1_pred = logits_to_tokens(y_pred, index2tag)\n",
    "print(y1_pred[10])"
   ]
  },
  {
   "cell_type": "code",
   "execution_count": 28,
   "id": "957adfe4-0a29-422c-abe0-3db3e82e2b72",
   "metadata": {
    "tags": []
   },
   "outputs": [
    {
     "name": "stdout",
     "output_type": "stream",
     "text": [
      "{2: 'B-PER', 3: 'B-MISC', 4: 'B-ORG', 5: 'I-ORG', 6: 'I-MISC', 7: 'B-LOC', 8: 'I-PER', 9: 'I-LOC', 10: 'O', 0: '-PAD-', 1: '-OOV-'}\n",
      "['O', 'O', 'O', 'O', 'O', 'B-ORG', 'I-ORG', 'I-ORG', 'I-ORG', 'O', 'O', 'O', 'O', 'O', 'B-ORG', 'I-ORG', 'O', 'O', 'B-ORG', 'I-ORG', 'O', 'O', 'O', 'O', 'O', 'O', 'O', 'O', 'O', 'O', 'O', 'O', 'O', 'O', 'O', 'O', 'O', 'O', 'O', 'O', 'O', 'O', 'O', 'O', 'O', '-PAD-', '-PAD-', '-PAD-', '-PAD-', '-PAD-', '-PAD-', '-PAD-', '-PAD-', '-PAD-', '-PAD-', '-PAD-', '-PAD-', '-PAD-', '-PAD-', '-PAD-', '-PAD-', '-PAD-', '-PAD-', '-PAD-', '-PAD-', '-PAD-', '-PAD-', '-PAD-', '-PAD-', '-PAD-', '-PAD-', '-PAD-', '-PAD-', '-PAD-', '-PAD-', '-PAD-', '-PAD-', '-PAD-', '-PAD-', '-PAD-', '-PAD-', '-PAD-', '-PAD-', '-PAD-', '-PAD-', '-PAD-', '-PAD-', '-PAD-', '-PAD-', '-PAD-', '-PAD-', '-PAD-', '-PAD-', '-PAD-', '-PAD-', '-PAD-', '-PAD-', '-PAD-', '-PAD-', '-PAD-', '-PAD-', '-PAD-', '-PAD-', '-PAD-', '-PAD-', '-PAD-', '-PAD-', '-PAD-', '-PAD-', '-PAD-', '-PAD-', '-PAD-', '-PAD-', '-PAD-', '-PAD-', '-PAD-', '-PAD-', '-PAD-', '-PAD-', '-PAD-', '-PAD-', '-PAD-', '-PAD-', '-PAD-', '-PAD-', '-PAD-', '-PAD-', '-PAD-', '-PAD-', '-PAD-', '-PAD-', '-PAD-', '-PAD-', '-PAD-', '-PAD-', '-PAD-', '-PAD-', '-PAD-', '-PAD-', '-PAD-', '-PAD-', '-PAD-', '-PAD-', '-PAD-', '-PAD-', '-PAD-', '-PAD-', '-PAD-', '-PAD-', '-PAD-', '-PAD-', '-PAD-', '-PAD-', '-PAD-', '-PAD-', '-PAD-', '-PAD-', '-PAD-', '-PAD-', '-PAD-', '-PAD-', '-PAD-', '-PAD-', '-PAD-', '-PAD-', '-PAD-', '-PAD-', '-PAD-', '-PAD-', '-PAD-', '-PAD-', '-PAD-', '-PAD-', '-PAD-', '-PAD-', '-PAD-', '-PAD-', '-PAD-', '-PAD-', '-PAD-', '-PAD-', '-PAD-', '-PAD-', '-PAD-', '-PAD-', '-PAD-', '-PAD-', '-PAD-', '-PAD-', '-PAD-', '-PAD-', '-PAD-', '-PAD-', '-PAD-', '-PAD-', '-PAD-', '-PAD-', '-PAD-', '-PAD-', '-PAD-', '-PAD-', '-PAD-']\n"
     ]
    }
   ],
   "source": [
    "from utils import build_matrix_embeddings as bme, plot_model_performance, logits_to_tokens, report_to_df\n",
    "index2tag = {i: t for t, i in tag2index.items()}\n",
    "print(index2tag)\n",
    "y1_true = logits_to_tokens(test_tags_y, index2tag)\n",
    "print(y1_true[10])"
   ]
  },
  {
   "cell_type": "code",
   "execution_count": 29,
   "id": "50906902-3493-4485-b8a7-854e643a1c40",
   "metadata": {
    "tags": []
   },
   "outputs": [
    {
     "name": "stderr",
     "output_type": "stream",
     "text": [
      "c:\\users\\edins\\appdata\\local\\programs\\python\\python39\\lib\\site-packages\\seqeval\\metrics\\sequence_labeling.py:171: UserWarning: -PAD- seems not to be NE tag.\n",
      "  warnings.warn('{} seems not to be NE tag.'.format(chunk))\n"
     ]
    },
    {
     "name": "stdout",
     "output_type": "stream",
     "text": [
      "precision: 65.3%\n",
      "   recall: 67.8%\n",
      " F1-score: 66.5%\n"
     ]
    }
   ],
   "source": [
    "#hh1 = seqclarep(results['Expected'], results['Predicted'])\n",
    "#print('\\nclassification_report:\\n', hh1)\n",
    "from seqeval.metrics import classification_report as seqclarep\n",
    "from seqeval.metrics import precision_score, recall_score, f1_score, accuracy_score\n",
    "print(\"precision: {:.1%}\".format(precision_score(y1_true, y1_pred)))\n",
    "print(\"   recall: {:.1%}\".format(recall_score(y1_true,    y1_pred)))\n",
    "#print(\" accuracy: {:.1%}\".format(accuracy_score(y1_true,  y1_pred)))\n",
    "print(\" F1-score: {:.1%}\".format(f1_score(y1_true,        y1_pred)))"
   ]
  },
  {
   "cell_type": "code",
   "execution_count": 30,
   "id": "81347cfd-505f-40c8-8786-c9e2e06e5c1f",
   "metadata": {
    "tags": []
   },
   "outputs": [],
   "source": [
    "import pandas as pd\n",
    "li1 = sum(y1_true, [])\n",
    "li2 = sum(y1_pred, [])\n",
    "\n",
    "results = pd.DataFrame(columns=['Expected', 'Predicted'])\n",
    "\n",
    "results['Expected'] = li1\n",
    "results['Predicted'] = li2"
   ]
  },
  {
   "cell_type": "code",
   "execution_count": 31,
   "id": "4c5ee21f-9963-4aa5-89dc-e5fbbfe10366",
   "metadata": {
    "tags": []
   },
   "outputs": [
    {
     "name": "stdout",
     "output_type": "stream",
     "text": [
      "  Class Name precision recall f1-score support\n",
      "0      -PAD-      1.00   1.00     1.00  254901\n",
      "1      B-LOC      0.80   0.69     0.74    1084\n",
      "2     B-MISC      0.33   0.42     0.37     339\n",
      "3      B-ORG      0.78   0.73     0.75    1400\n",
      "4      B-PER      0.62   0.85     0.72     735\n",
      "5      I-LOC      0.69   0.54     0.61     325\n",
      "6     I-MISC      0.47   0.34     0.40     557\n",
      "7      I-ORG      0.84   0.59     0.69    1104\n",
      "8      I-PER      0.83   0.89     0.86     634\n",
      "9          O      0.98   0.98     0.98   45355\n"
     ]
    }
   ],
   "source": [
    "from sklearn.metrics import classification_report as eskclarep\n",
    "report = eskclarep(results['Expected'], results['Predicted'])\n",
    "#print('\\nclassification_report:\\n', report)\n",
    "\n",
    "print(report_to_df(report))"
   ]
  },
  {
   "cell_type": "code",
   "execution_count": 32,
   "id": "bbb4cde6-91e8-4b3f-8ceb-d987e99d1435",
   "metadata": {
    "tags": []
   },
   "outputs": [
    {
     "name": "stdout",
     "output_type": "stream",
     "text": [
      "[['La', 'Federación', 'nacional', 'de', 'cafeteros', 'de', 'Colombia', 'es', 'una', 'entidad', 'del', 'estado', ',', 'creada', 'en', 'los', 'años', '70’s', '.'], ['El', 'primer', 'presidente', 'el', 'Dr', 'Augusto', 'Guerra', 'contó', 'con', 'el', 'aval', 'de', 'la', 'Asociación', 'Colombiana', 'de', 'Aviación'], ['En', 'varias', 'ciudades', 'colombianas', ';', 'Cali', ',', 'medellín', ',', 'corozal', 'funciona', 'la', 'entidad', '.'], ['Estas', 'personas', 'viene', 'del', 'instituto', 'colombiano', 'del', 'café', 'ubicado', 'en', 'la', 'calle', 'Cali', '.']]\n"
     ]
    }
   ],
   "source": [
    "test_samples = [\n",
    "    \"La Federación nacional de cafeteros de Colombia es una entidad del estado , creada en los años 70’s .\".split(), \n",
    "    \"El primer presidente el Dr Augusto Guerra contó con el aval de la Asociación Colombiana de Aviación\".split(),\n",
    "    \"En varias ciudades colombianas ; Cali , medellín , corozal funciona la entidad .\".split(),\n",
    "    \"Estas personas viene del instituto colombiano del café ubicado en la calle Cali .\".split()\n",
    "]\n",
    "#print(max(test_samples))\n",
    "print(test_samples)"
   ]
  },
  {
   "cell_type": "code",
   "execution_count": 33,
   "id": "f70fdc39-fec1-4352-b29d-7de0893eb5df",
   "metadata": {
    "tags": []
   },
   "outputs": [
    {
     "name": "stdout",
     "output_type": "stream",
     "text": [
      "[[10660  1278 12928 21068  8827 21068 28222 25153  9069 12726 19265 12779\n",
      "  22379  7537 14892 14018 11458     1 15562     0     0     0     0     0\n",
      "      0     0     0     0     0     0     0     0     0     0     0     0\n",
      "      0     0     0     0     0     0     0     0     0     0     0     0\n",
      "      0     0     0     0     0     0     0     0     0     0     0     0\n",
      "      0     0     0     0     0     0     0     0     0     0     0     0\n",
      "      0     0     0     0     0     0     0     0     0     0     0     0\n",
      "      0     0     0     0     0     0     0     0     0     0     0     0\n",
      "      0     0     0     0     0     0     0     0     0     0     0     0\n",
      "      0     0     0     0     0     0     0     0     0     0     0     0\n",
      "      0     0     0     0     0     0     0     0     0     0     0     0\n",
      "      0     0     0     0     0     0     0     0     0     0     0     0\n",
      "      0     0     0     0     0     0     0     0     0     0     0     0\n",
      "      0     0     0     0     0     0     0     0     0     0     0     0\n",
      "      0     0     0     0     0     0     0     0     0     0     0     0\n",
      "      0     0     0     0     0     0     0     0     0     0     0     0\n",
      "      0     0     0     0     0     0     0     0     0     0]\n",
      " [15825 26659  9080 15825     1 24331 12605 27576  4344 15825 25467 21068\n",
      "  10660  9927 22862 21068 19520     0     0     0     0     0     0     0\n",
      "      0     0     0     0     0     0     0     0     0     0     0     0\n",
      "      0     0     0     0     0     0     0     0     0     0     0     0\n",
      "      0     0     0     0     0     0     0     0     0     0     0     0\n",
      "      0     0     0     0     0     0     0     0     0     0     0     0\n",
      "      0     0     0     0     0     0     0     0     0     0     0     0\n",
      "      0     0     0     0     0     0     0     0     0     0     0     0\n",
      "      0     0     0     0     0     0     0     0     0     0     0     0\n",
      "      0     0     0     0     0     0     0     0     0     0     0     0\n",
      "      0     0     0     0     0     0     0     0     0     0     0     0\n",
      "      0     0     0     0     0     0     0     0     0     0     0     0\n",
      "      0     0     0     0     0     0     0     0     0     0     0     0\n",
      "      0     0     0     0     0     0     0     0     0     0     0     0\n",
      "      0     0     0     0     0     0     0     0     0     0     0     0\n",
      "      0     0     0     0     0     0     0     0     0     0     0     0\n",
      "      0     0     0     0     0     0     0     0     0     0]\n",
      " [14892  6449 11784 13133 15421  9030 22379     1 22379  4867 19387 10660\n",
      "  12726 15562     0     0     0     0     0     0     0     0     0     0\n",
      "      0     0     0     0     0     0     0     0     0     0     0     0\n",
      "      0     0     0     0     0     0     0     0     0     0     0     0\n",
      "      0     0     0     0     0     0     0     0     0     0     0     0\n",
      "      0     0     0     0     0     0     0     0     0     0     0     0\n",
      "      0     0     0     0     0     0     0     0     0     0     0     0\n",
      "      0     0     0     0     0     0     0     0     0     0     0     0\n",
      "      0     0     0     0     0     0     0     0     0     0     0     0\n",
      "      0     0     0     0     0     0     0     0     0     0     0     0\n",
      "      0     0     0     0     0     0     0     0     0     0     0     0\n",
      "      0     0     0     0     0     0     0     0     0     0     0     0\n",
      "      0     0     0     0     0     0     0     0     0     0     0     0\n",
      "      0     0     0     0     0     0     0     0     0     0     0     0\n",
      "      0     0     0     0     0     0     0     0     0     0     0     0\n",
      "      0     0     0     0     0     0     0     0     0     0     0     0\n",
      "      0     0     0     0     0     0     0     0     0     0]\n",
      " [ 6506 22298 20119 19265 12575  5895 19265 25754  8270 14892 10660  6783\n",
      "   9030 15562     0     0     0     0     0     0     0     0     0     0\n",
      "      0     0     0     0     0     0     0     0     0     0     0     0\n",
      "      0     0     0     0     0     0     0     0     0     0     0     0\n",
      "      0     0     0     0     0     0     0     0     0     0     0     0\n",
      "      0     0     0     0     0     0     0     0     0     0     0     0\n",
      "      0     0     0     0     0     0     0     0     0     0     0     0\n",
      "      0     0     0     0     0     0     0     0     0     0     0     0\n",
      "      0     0     0     0     0     0     0     0     0     0     0     0\n",
      "      0     0     0     0     0     0     0     0     0     0     0     0\n",
      "      0     0     0     0     0     0     0     0     0     0     0     0\n",
      "      0     0     0     0     0     0     0     0     0     0     0     0\n",
      "      0     0     0     0     0     0     0     0     0     0     0     0\n",
      "      0     0     0     0     0     0     0     0     0     0     0     0\n",
      "      0     0     0     0     0     0     0     0     0     0     0     0\n",
      "      0     0     0     0     0     0     0     0     0     0     0     0\n",
      "      0     0     0     0     0     0     0     0     0     0]]\n",
      "(4, 202)\n"
     ]
    }
   ],
   "source": [
    "test_samples_X = []\n",
    "for s in test_samples:\n",
    "    s_int = []\n",
    "    for w in s:\n",
    "        try:\n",
    "            s_int.append(word2index[w.lower()])\n",
    "        except KeyError:\n",
    "            s_int.append(word2index['-OOV-'])\n",
    "    test_samples_X.append(s_int)\n",
    "\n",
    "test_samples_X = pad_sequences(test_samples_X, maxlen=MAX_LENGTH, padding='post')\n",
    "print(test_samples_X)\n",
    "print(test_samples_X.shape)"
   ]
  },
  {
   "cell_type": "code",
   "execution_count": 34,
   "id": "1d50a713-614e-4374-a77c-ef21c68b903c",
   "metadata": {
    "tags": []
   },
   "outputs": [
    {
     "name": "stdout",
     "output_type": "stream",
     "text": [
      "1/1 [==============================] - 0s 31ms/step\n",
      "[[10  4  5  5  5  5  5 10 10 10 10  4 10 10 10 10 10  2 10  0  0  0  0  0\n",
      "   0  0  0  0  0  0  0  0  0  0  0  0  0  0  0  0  0  0  0  0  0  0  0  0\n",
      "   0  0  0  0  0  0  0  0  0  0  0  0  0  0  0  0  0  0  0  0  0  0  0  0\n",
      "   0  0  0  0  0  0  0  0  0  0  0  0  0  0  0  0  0  0  0  0  0  0  0  0\n",
      "   0  0  0  0  0  0  0  0  0  0  0  0  0  0  0  0  0  0  0  0  0  0  0  0\n",
      "   0  0  0  0  0  0  0  0  0  0  0  0  0  0  0  0  0  0  0  0  0  0  0  0\n",
      "   0  0  0  0  0  0  0  0  0  0  0  0  0  0  0  0  0  0  0  0  0  0  0  0\n",
      "   0  0  0  0  0  0  0  0  0  0  0  0  0  0  0  0  0  0  0  0  0  0  0  0\n",
      "   0  0  0  0  0  0  0  0  0  0]\n",
      " [10 10 10 10  2  8  8 10 10 10 10 10 10 10 10 10 10  0  0  0  0  0  0  0\n",
      "   0  0  0  0  0  0  0  0  0  0  0  0  0  0  0  0  0  0  0  0  0  0  0  0\n",
      "   0  0  0  0  0  0  0  0  0  0  0  0  0  0  0  0  0  0  0  0  0  0  0  0\n",
      "   0  0  0  0  0  0  0  0  0  0  0  0  0  0  0  0  0  0  0  0  0  0  0  0\n",
      "   0  0  0  0  0  0  0  0  0  0  0  0  0  0  0  0  0  0  0  0  0  0  0  0\n",
      "   0  0  0  0  0  0  0  0  0  0  0  0  0  0  0  0  0  0  0  0  0  0  0  0\n",
      "   0  0  0  0  0  0  0  0  0  0  0  0  0  0  0  0  0  0  0  0  0  0  0  0\n",
      "   0  0  0  0  0  0  0  0  0  0  0  0  0  0  0  0  0  0  0  0  0  0  0  0\n",
      "   0  0  0  0  0  0  0  0  0  0]\n",
      " [10 10 10 10 10  4 10  2 10  2 10 10 10 10  0  0  0  0  0  0  0  0  0  0\n",
      "   0  0  0  0  0  0  0  0  0  0  0  0  0  0  0  0  0  0  0  0  0  0  0  0\n",
      "   0  0  0  0  0  0  0  0  0  0  0  0  0  0  0  0  0  0  0  0  0  0  0  0\n",
      "   0  0  0  0  0  0  0  0  0  0  0  0  0  0  0  0  0  0  0  0  0  0  0  0\n",
      "   0  0  0  0  0  0  0  0  0  0  0  0  0  0  0  0  0  0  0  0  0  0  0  0\n",
      "   0  0  0  0  0  0  0  0  0  0  0  0  0  0  0  0  0  0  0  0  0  0  0  0\n",
      "   0  0  0  0  0  0  0  0  0  0  0  0  0  0  0  0  0  0  0  0  0  0  0  0\n",
      "   0  0  0  0  0  0  0  0  0  0  0  0  0  0  0  0  0  0  0  0  0  0  0  0\n",
      "   0  0  0  0  0  0  0  0  0  0]\n",
      " [10 10 10 10 10 10 10  3 10 10 10  7  9 10  0  0  0  0  0  0  0  0  0  0\n",
      "   0  0  0  0  0  0  0  0  0  0  0  0  0  0  0  0  0  0  0  0  0  0  0  0\n",
      "   0  0  0  0  0  0  0  0  0  0  0  0  0  0  0  0  0  0  0  0  0  0  0  0\n",
      "   0  0  0  0  0  0  0  0  0  0  0  0  0  0  0  0  0  0  0  0  0  0  0  0\n",
      "   0  0  0  0  0  0  0  0  0  0  0  0  0  0  0  0  0  0  0  0  0  0  0  0\n",
      "   0  0  0  0  0  0  0  0  0  0  0  0  0  0  0  0  0  0  0  0  0  0  0  0\n",
      "   0  0  0  0  0  0  0  0  0  0  0  0  0  0  0  0  0  0  0  0  0  0  0  0\n",
      "   0  0  0  0  0  0  0  0  0  0  0  0  0  0  0  0  0  0  0  0  0  0  0  0\n",
      "   0  0  0  0  0  0  0  0  0  0]] (4, 202)\n"
     ]
    }
   ],
   "source": [
    "predictions = model.predict(test_samples_X)\n",
    "print(predictions, predictions.shape)"
   ]
  },
  {
   "cell_type": "code",
   "execution_count": 35,
   "id": "2031cc49-027c-4ad3-bc4a-a71b6a235128",
   "metadata": {
    "tags": []
   },
   "outputs": [
    {
     "name": "stdout",
     "output_type": "stream",
     "text": [
      "[['O', 'B-ORG', 'I-ORG', 'I-ORG', 'I-ORG', 'I-ORG', 'I-ORG', 'O', 'O', 'O', 'O', 'B-ORG', 'O', 'O', 'O', 'O', 'O', 'B-PER', 'O', '-PAD-', '-PAD-', '-PAD-', '-PAD-', '-PAD-', '-PAD-', '-PAD-', '-PAD-', '-PAD-', '-PAD-', '-PAD-', '-PAD-', '-PAD-', '-PAD-', '-PAD-', '-PAD-', '-PAD-', '-PAD-', '-PAD-', '-PAD-', '-PAD-', '-PAD-', '-PAD-', '-PAD-', '-PAD-', '-PAD-', '-PAD-', '-PAD-', '-PAD-', '-PAD-', '-PAD-', '-PAD-', '-PAD-', '-PAD-', '-PAD-', '-PAD-', '-PAD-', '-PAD-', '-PAD-', '-PAD-', '-PAD-', '-PAD-', '-PAD-', '-PAD-', '-PAD-', '-PAD-', '-PAD-', '-PAD-', '-PAD-', '-PAD-', '-PAD-', '-PAD-', '-PAD-', '-PAD-', '-PAD-', '-PAD-', '-PAD-', '-PAD-', '-PAD-', '-PAD-', '-PAD-', '-PAD-', '-PAD-', '-PAD-', '-PAD-', '-PAD-', '-PAD-', '-PAD-', '-PAD-', '-PAD-', '-PAD-', '-PAD-', '-PAD-', '-PAD-', '-PAD-', '-PAD-', '-PAD-', '-PAD-', '-PAD-', '-PAD-', '-PAD-', '-PAD-', '-PAD-', '-PAD-', '-PAD-', '-PAD-', '-PAD-', '-PAD-', '-PAD-', '-PAD-', '-PAD-', '-PAD-', '-PAD-', '-PAD-', '-PAD-', '-PAD-', '-PAD-', '-PAD-', '-PAD-', '-PAD-', '-PAD-', '-PAD-', '-PAD-', '-PAD-', '-PAD-', '-PAD-', '-PAD-', '-PAD-', '-PAD-', '-PAD-', '-PAD-', '-PAD-', '-PAD-', '-PAD-', '-PAD-', '-PAD-', '-PAD-', '-PAD-', '-PAD-', '-PAD-', '-PAD-', '-PAD-', '-PAD-', '-PAD-', '-PAD-', '-PAD-', '-PAD-', '-PAD-', '-PAD-', '-PAD-', '-PAD-', '-PAD-', '-PAD-', '-PAD-', '-PAD-', '-PAD-', '-PAD-', '-PAD-', '-PAD-', '-PAD-', '-PAD-', '-PAD-', '-PAD-', '-PAD-', '-PAD-', '-PAD-', '-PAD-', '-PAD-', '-PAD-', '-PAD-', '-PAD-', '-PAD-', '-PAD-', '-PAD-', '-PAD-', '-PAD-', '-PAD-', '-PAD-', '-PAD-', '-PAD-', '-PAD-', '-PAD-', '-PAD-', '-PAD-', '-PAD-', '-PAD-', '-PAD-', '-PAD-', '-PAD-', '-PAD-', '-PAD-', '-PAD-', '-PAD-', '-PAD-', '-PAD-', '-PAD-', '-PAD-', '-PAD-', '-PAD-', '-PAD-', '-PAD-', '-PAD-', '-PAD-'], ['O', 'O', 'O', 'O', 'B-PER', 'I-PER', 'I-PER', 'O', 'O', 'O', 'O', 'O', 'O', 'O', 'O', 'O', 'O', '-PAD-', '-PAD-', '-PAD-', '-PAD-', '-PAD-', '-PAD-', '-PAD-', '-PAD-', '-PAD-', '-PAD-', '-PAD-', '-PAD-', '-PAD-', '-PAD-', '-PAD-', '-PAD-', '-PAD-', '-PAD-', '-PAD-', '-PAD-', '-PAD-', '-PAD-', '-PAD-', '-PAD-', '-PAD-', '-PAD-', '-PAD-', '-PAD-', '-PAD-', '-PAD-', '-PAD-', '-PAD-', '-PAD-', '-PAD-', '-PAD-', '-PAD-', '-PAD-', '-PAD-', '-PAD-', '-PAD-', '-PAD-', '-PAD-', '-PAD-', '-PAD-', '-PAD-', '-PAD-', '-PAD-', '-PAD-', '-PAD-', '-PAD-', '-PAD-', '-PAD-', '-PAD-', '-PAD-', '-PAD-', '-PAD-', '-PAD-', '-PAD-', '-PAD-', '-PAD-', '-PAD-', '-PAD-', '-PAD-', '-PAD-', '-PAD-', '-PAD-', '-PAD-', '-PAD-', '-PAD-', '-PAD-', '-PAD-', '-PAD-', '-PAD-', '-PAD-', '-PAD-', '-PAD-', '-PAD-', '-PAD-', '-PAD-', '-PAD-', '-PAD-', '-PAD-', '-PAD-', '-PAD-', '-PAD-', '-PAD-', '-PAD-', '-PAD-', '-PAD-', '-PAD-', '-PAD-', '-PAD-', '-PAD-', '-PAD-', '-PAD-', '-PAD-', '-PAD-', '-PAD-', '-PAD-', '-PAD-', '-PAD-', '-PAD-', '-PAD-', '-PAD-', '-PAD-', '-PAD-', '-PAD-', '-PAD-', '-PAD-', '-PAD-', '-PAD-', '-PAD-', '-PAD-', '-PAD-', '-PAD-', '-PAD-', '-PAD-', '-PAD-', '-PAD-', '-PAD-', '-PAD-', '-PAD-', '-PAD-', '-PAD-', '-PAD-', '-PAD-', '-PAD-', '-PAD-', '-PAD-', '-PAD-', '-PAD-', '-PAD-', '-PAD-', '-PAD-', '-PAD-', '-PAD-', '-PAD-', '-PAD-', '-PAD-', '-PAD-', '-PAD-', '-PAD-', '-PAD-', '-PAD-', '-PAD-', '-PAD-', '-PAD-', '-PAD-', '-PAD-', '-PAD-', '-PAD-', '-PAD-', '-PAD-', '-PAD-', '-PAD-', '-PAD-', '-PAD-', '-PAD-', '-PAD-', '-PAD-', '-PAD-', '-PAD-', '-PAD-', '-PAD-', '-PAD-', '-PAD-', '-PAD-', '-PAD-', '-PAD-', '-PAD-', '-PAD-', '-PAD-', '-PAD-', '-PAD-', '-PAD-', '-PAD-', '-PAD-', '-PAD-', '-PAD-', '-PAD-', '-PAD-', '-PAD-', '-PAD-', '-PAD-', '-PAD-'], ['O', 'O', 'O', 'O', 'O', 'B-ORG', 'O', 'B-PER', 'O', 'B-PER', 'O', 'O', 'O', 'O', '-PAD-', '-PAD-', '-PAD-', '-PAD-', '-PAD-', '-PAD-', '-PAD-', '-PAD-', '-PAD-', '-PAD-', '-PAD-', '-PAD-', '-PAD-', '-PAD-', '-PAD-', '-PAD-', '-PAD-', '-PAD-', '-PAD-', '-PAD-', '-PAD-', '-PAD-', '-PAD-', '-PAD-', '-PAD-', '-PAD-', '-PAD-', '-PAD-', '-PAD-', '-PAD-', '-PAD-', '-PAD-', '-PAD-', '-PAD-', '-PAD-', '-PAD-', '-PAD-', '-PAD-', '-PAD-', '-PAD-', '-PAD-', '-PAD-', '-PAD-', '-PAD-', '-PAD-', '-PAD-', '-PAD-', '-PAD-', '-PAD-', '-PAD-', '-PAD-', '-PAD-', '-PAD-', '-PAD-', '-PAD-', '-PAD-', '-PAD-', '-PAD-', '-PAD-', '-PAD-', '-PAD-', '-PAD-', '-PAD-', '-PAD-', '-PAD-', '-PAD-', '-PAD-', '-PAD-', '-PAD-', '-PAD-', '-PAD-', '-PAD-', '-PAD-', '-PAD-', '-PAD-', '-PAD-', '-PAD-', '-PAD-', '-PAD-', '-PAD-', '-PAD-', '-PAD-', '-PAD-', '-PAD-', '-PAD-', '-PAD-', '-PAD-', '-PAD-', '-PAD-', '-PAD-', '-PAD-', '-PAD-', '-PAD-', '-PAD-', '-PAD-', '-PAD-', '-PAD-', '-PAD-', '-PAD-', '-PAD-', '-PAD-', '-PAD-', '-PAD-', '-PAD-', '-PAD-', '-PAD-', '-PAD-', '-PAD-', '-PAD-', '-PAD-', '-PAD-', '-PAD-', '-PAD-', '-PAD-', '-PAD-', '-PAD-', '-PAD-', '-PAD-', '-PAD-', '-PAD-', '-PAD-', '-PAD-', '-PAD-', '-PAD-', '-PAD-', '-PAD-', '-PAD-', '-PAD-', '-PAD-', '-PAD-', '-PAD-', '-PAD-', '-PAD-', '-PAD-', '-PAD-', '-PAD-', '-PAD-', '-PAD-', '-PAD-', '-PAD-', '-PAD-', '-PAD-', '-PAD-', '-PAD-', '-PAD-', '-PAD-', '-PAD-', '-PAD-', '-PAD-', '-PAD-', '-PAD-', '-PAD-', '-PAD-', '-PAD-', '-PAD-', '-PAD-', '-PAD-', '-PAD-', '-PAD-', '-PAD-', '-PAD-', '-PAD-', '-PAD-', '-PAD-', '-PAD-', '-PAD-', '-PAD-', '-PAD-', '-PAD-', '-PAD-', '-PAD-', '-PAD-', '-PAD-', '-PAD-', '-PAD-', '-PAD-', '-PAD-', '-PAD-', '-PAD-', '-PAD-', '-PAD-', '-PAD-', '-PAD-', '-PAD-', '-PAD-', '-PAD-', '-PAD-', '-PAD-'], ['O', 'O', 'O', 'O', 'O', 'O', 'O', 'B-MISC', 'O', 'O', 'O', 'B-LOC', 'I-LOC', 'O', '-PAD-', '-PAD-', '-PAD-', '-PAD-', '-PAD-', '-PAD-', '-PAD-', '-PAD-', '-PAD-', '-PAD-', '-PAD-', '-PAD-', '-PAD-', '-PAD-', '-PAD-', '-PAD-', '-PAD-', '-PAD-', '-PAD-', '-PAD-', '-PAD-', '-PAD-', '-PAD-', '-PAD-', '-PAD-', '-PAD-', '-PAD-', '-PAD-', '-PAD-', '-PAD-', '-PAD-', '-PAD-', '-PAD-', '-PAD-', '-PAD-', '-PAD-', '-PAD-', '-PAD-', '-PAD-', '-PAD-', '-PAD-', '-PAD-', '-PAD-', '-PAD-', '-PAD-', '-PAD-', '-PAD-', '-PAD-', '-PAD-', '-PAD-', '-PAD-', '-PAD-', '-PAD-', '-PAD-', '-PAD-', '-PAD-', '-PAD-', '-PAD-', '-PAD-', '-PAD-', '-PAD-', '-PAD-', '-PAD-', '-PAD-', '-PAD-', '-PAD-', '-PAD-', '-PAD-', '-PAD-', '-PAD-', '-PAD-', '-PAD-', '-PAD-', '-PAD-', '-PAD-', '-PAD-', '-PAD-', '-PAD-', '-PAD-', '-PAD-', '-PAD-', '-PAD-', '-PAD-', '-PAD-', '-PAD-', '-PAD-', '-PAD-', '-PAD-', '-PAD-', '-PAD-', '-PAD-', '-PAD-', '-PAD-', '-PAD-', '-PAD-', '-PAD-', '-PAD-', '-PAD-', '-PAD-', '-PAD-', '-PAD-', '-PAD-', '-PAD-', '-PAD-', '-PAD-', '-PAD-', '-PAD-', '-PAD-', '-PAD-', '-PAD-', '-PAD-', '-PAD-', '-PAD-', '-PAD-', '-PAD-', '-PAD-', '-PAD-', '-PAD-', '-PAD-', '-PAD-', '-PAD-', '-PAD-', '-PAD-', '-PAD-', '-PAD-', '-PAD-', '-PAD-', '-PAD-', '-PAD-', '-PAD-', '-PAD-', '-PAD-', '-PAD-', '-PAD-', '-PAD-', '-PAD-', '-PAD-', '-PAD-', '-PAD-', '-PAD-', '-PAD-', '-PAD-', '-PAD-', '-PAD-', '-PAD-', '-PAD-', '-PAD-', '-PAD-', '-PAD-', '-PAD-', '-PAD-', '-PAD-', '-PAD-', '-PAD-', '-PAD-', '-PAD-', '-PAD-', '-PAD-', '-PAD-', '-PAD-', '-PAD-', '-PAD-', '-PAD-', '-PAD-', '-PAD-', '-PAD-', '-PAD-', '-PAD-', '-PAD-', '-PAD-', '-PAD-', '-PAD-', '-PAD-', '-PAD-', '-PAD-', '-PAD-', '-PAD-', '-PAD-', '-PAD-', '-PAD-', '-PAD-', '-PAD-', '-PAD-', '-PAD-', '-PAD-', '-PAD-', '-PAD-', '-PAD-']]\n"
     ]
    }
   ],
   "source": [
    "#print(len(predictions))\n",
    "log_tokens = logits_to_tokens(predictions, {i: t for t, i in tag2index.items()})\n",
    "print(log_tokens)"
   ]
  },
  {
   "cell_type": "code",
   "execution_count": 36,
   "id": "bf463e4f-c133-4bbc-877f-4880defdfcbf",
   "metadata": {},
   "outputs": [
    {
     "name": "stdout",
     "output_type": "stream",
     "text": [
      "Requirement already satisfied: tabulate in c:\\users\\edins\\appdata\\local\\programs\\python\\python39\\lib\\site-packages (0.9.0)\n",
      "Note: you may need to restart the kernel to use updated packages.\n"
     ]
    },
    {
     "name": "stderr",
     "output_type": "stream",
     "text": [
      "WARNING: You are using pip version 20.2.3; however, version 23.3.1 is available.\n",
      "You should consider upgrading via the 'c:\\users\\edins\\appdata\\local\\programs\\python\\python39\\python.exe -m pip install --upgrade pip' command.\n"
     ]
    }
   ],
   "source": [
    "pip install tabulate"
   ]
  },
  {
   "cell_type": "code",
   "execution_count": 37,
   "id": "c9ab8949-ca60-4d4b-bf5b-11d487258b66",
   "metadata": {
    "tags": []
   },
   "outputs": [
    {
     "name": "stdout",
     "output_type": "stream",
     "text": [
      "Requirement already satisfied: tabulate in c:\\users\\edins\\miniconda3\\envs\\tf\\lib\\site-packages (0.9.0)\n",
      "La    Federación    nacional    de     cafeteros    de     Colombia    es    una    entidad    del    estado    ,    creada    en    los    años    70’s    .\n",
      "----  ------------  ----------  -----  -----------  -----  ----------  ----  -----  ---------  -----  --------  ---  --------  ----  -----  ------  ------  ---\n",
      "O     B-ORG         I-ORG       I-ORG  I-ORG        I-ORG  I-ORG       O     O      O          O      B-ORG     O    O         O     O      O       B-PER   O\n",
      "\n",
      "\n",
      "El    primer    presidente    el    Dr     Augusto    Guerra    contó    con    el    aval    de    la    Asociación    Colombiana    de    Aviación\n",
      "----  --------  ------------  ----  -----  ---------  --------  -------  -----  ----  ------  ----  ----  ------------  ------------  ----  ----------\n",
      "O     O         O             O     B-PER  I-PER      I-PER     O        O      O     O       O     O     O             O             O     O\n",
      "\n",
      "\n",
      "En    varias    ciudades    colombianas    ;    Cali    ,    medellín    ,    corozal    funciona    la    entidad    .\n",
      "----  --------  ----------  -------------  ---  ------  ---  ----------  ---  ---------  ----------  ----  ---------  ---\n",
      "O     O         O           O              O    B-ORG   O    B-PER       O    B-PER      O           O     O          O\n",
      "\n",
      "\n",
      "Estas    personas    viene    del    instituto    colombiano    del    café    ubicado    en    la    calle    Cali    .\n",
      "-------  ----------  -------  -----  -----------  ------------  -----  ------  ---------  ----  ----  -------  ------  ---\n",
      "O        O           O        O      O            O             O      B-MISC  O          O     O     B-LOC    I-LOC   O\n"
     ]
    }
   ],
   "source": [
    "!pip install tabulate\n",
    "from tabulate import tabulate\n",
    "\n",
    "heads1 = test_samples[0]\n",
    "body1 = [log_tokens[0][:len(test_samples[0])]]\n",
    "\n",
    "heads2 = test_samples[1]\n",
    "body2 = [log_tokens[1][:len(test_samples[1])]]\n",
    "\n",
    "heads3 = test_samples[2]\n",
    "body3 = [log_tokens[2][:len(test_samples[2])]]\n",
    "\n",
    "heads4 = test_samples[3]\n",
    "body4 = [log_tokens[3][:len(test_samples[3])]]\n",
    "\n",
    "print(tabulate(body1, headers=heads1))\n",
    "\n",
    "print (\"\\n\")\n",
    "\n",
    "print(tabulate(body2, headers=heads2))\n",
    "\n",
    "print (\"\\n\")\n",
    "\n",
    "print(tabulate(body3, headers=heads3))\n",
    "\n",
    "print (\"\\n\")\n",
    "\n",
    "print(tabulate(body4, headers=heads4))"
   ]
  },
  {
   "cell_type": "code",
   "execution_count": null,
   "id": "cf00aa66-2e7c-4435-bcac-c84a9b1923ea",
   "metadata": {},
   "outputs": [],
   "source": []
  }
 ],
 "metadata": {
  "kernelspec": {
   "display_name": "Python 3 (ipykernel)",
   "language": "python",
   "name": "python3"
  },
  "language_info": {
   "codemirror_mode": {
    "name": "ipython",
    "version": 3
   },
   "file_extension": ".py",
   "mimetype": "text/x-python",
   "name": "python",
   "nbconvert_exporter": "python",
   "pygments_lexer": "ipython3",
   "version": "3.9.0"
  }
 },
 "nbformat": 4,
 "nbformat_minor": 5
}
