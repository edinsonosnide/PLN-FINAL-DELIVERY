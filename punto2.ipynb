{
 "cells": [
  {
   "cell_type": "markdown",
   "id": "043a4ba2-4bb6-49bc-a164-77f4e6fc3431",
   "metadata": {},
   "source": [
    "# Hecho por:\n",
    "## EDINSON ORLANDO DORADO DORADO 1941966-3743\n",
    "## ALESSANDRO DIAZ GARCIA 1940983-3743\n"
   ]
  },
  {
   "cell_type": "markdown",
   "id": "5a1866d0-89d7-43d3-9d77-77d59632a6a2",
   "metadata": {
    "tags": []
   },
   "source": [
    "# Este modelo de red entrena un BiLSTM + CRF para la clasificación de NER sobre el corpus Conll2002. Este modelo tiene como entrada a la red la enterización del conjunto X de entrenamiento y la enterización y categorización  de los vectores de etiquetas. En este modelo no hay matriz de embedding."
   ]
  },
  {
   "cell_type": "code",
   "execution_count": 1,
   "id": "80d49b72-98b5-4582-be1a-96a459e01227",
   "metadata": {
    "tags": []
   },
   "outputs": [],
   "source": [
    "try:\n",
    "    import seqeval\n",
    "except ModuleNotFoundError as err:\n",
    "    !pip install seqeval"
   ]
  },
  {
   "cell_type": "code",
   "execution_count": 2,
   "id": "45e61dbc-85f0-4c9f-a51a-2897eaf489c1",
   "metadata": {
    "tags": []
   },
   "outputs": [
    {
     "name": "stdout",
     "output_type": "stream",
     "text": [
      "Requirement already satisfied: tensorflow in c:\\users\\edins\\miniconda3\\envs\\tf\\lib\\site-packages (2.10.1)\n",
      "Requirement already satisfied: absl-py>=1.0.0 in c:\\users\\edins\\miniconda3\\envs\\tf\\lib\\site-packages (from tensorflow) (2.0.0)\n",
      "Requirement already satisfied: astunparse>=1.6.0 in c:\\users\\edins\\miniconda3\\envs\\tf\\lib\\site-packages (from tensorflow) (1.6.3)\n",
      "Requirement already satisfied: flatbuffers>=2.0 in c:\\users\\edins\\miniconda3\\envs\\tf\\lib\\site-packages (from tensorflow) (23.5.26)\n",
      "Requirement already satisfied: gast<=0.4.0,>=0.2.1 in c:\\users\\edins\\miniconda3\\envs\\tf\\lib\\site-packages (from tensorflow) (0.4.0)\n",
      "Requirement already satisfied: google-pasta>=0.1.1 in c:\\users\\edins\\miniconda3\\envs\\tf\\lib\\site-packages (from tensorflow) (0.2.0)\n",
      "Requirement already satisfied: h5py>=2.9.0 in c:\\users\\edins\\miniconda3\\envs\\tf\\lib\\site-packages (from tensorflow) (3.10.0)\n",
      "Requirement already satisfied: keras-preprocessing>=1.1.1 in c:\\users\\edins\\miniconda3\\envs\\tf\\lib\\site-packages (from tensorflow) (1.1.2)\n",
      "Requirement already satisfied: libclang>=13.0.0 in c:\\users\\edins\\miniconda3\\envs\\tf\\lib\\site-packages (from tensorflow) (16.0.6)\n",
      "Requirement already satisfied: numpy>=1.20 in c:\\users\\edins\\miniconda3\\envs\\tf\\lib\\site-packages (from tensorflow) (1.26.2)\n",
      "Requirement already satisfied: opt-einsum>=2.3.2 in c:\\users\\edins\\miniconda3\\envs\\tf\\lib\\site-packages (from tensorflow) (3.3.0)\n",
      "Requirement already satisfied: packaging in c:\\users\\edins\\miniconda3\\envs\\tf\\lib\\site-packages (from tensorflow) (23.2)\n",
      "Requirement already satisfied: protobuf<3.20,>=3.9.2 in c:\\users\\edins\\miniconda3\\envs\\tf\\lib\\site-packages (from tensorflow) (3.19.6)\n",
      "Requirement already satisfied: setuptools in c:\\users\\edins\\miniconda3\\envs\\tf\\lib\\site-packages (from tensorflow) (68.0.0)\n",
      "Requirement already satisfied: six>=1.12.0 in c:\\users\\edins\\miniconda3\\envs\\tf\\lib\\site-packages (from tensorflow) (1.16.0)\n",
      "Requirement already satisfied: termcolor>=1.1.0 in c:\\users\\edins\\miniconda3\\envs\\tf\\lib\\site-packages (from tensorflow) (2.4.0)\n",
      "Requirement already satisfied: typing-extensions>=3.6.6 in c:\\users\\edins\\miniconda3\\envs\\tf\\lib\\site-packages (from tensorflow) (4.9.0)\n",
      "Requirement already satisfied: wrapt>=1.11.0 in c:\\users\\edins\\miniconda3\\envs\\tf\\lib\\site-packages (from tensorflow) (1.16.0)\n",
      "Requirement already satisfied: tensorflow-io-gcs-filesystem>=0.23.1 in c:\\users\\edins\\miniconda3\\envs\\tf\\lib\\site-packages (from tensorflow) (0.31.0)\n",
      "Requirement already satisfied: grpcio<2.0,>=1.24.3 in c:\\users\\edins\\miniconda3\\envs\\tf\\lib\\site-packages (from tensorflow) (1.60.0)\n",
      "Requirement already satisfied: tensorboard<2.11,>=2.10 in c:\\users\\edins\\miniconda3\\envs\\tf\\lib\\site-packages (from tensorflow) (2.10.1)\n",
      "Requirement already satisfied: tensorflow-estimator<2.11,>=2.10.0 in c:\\users\\edins\\miniconda3\\envs\\tf\\lib\\site-packages (from tensorflow) (2.10.0)\n",
      "Requirement already satisfied: keras<2.11,>=2.10.0 in c:\\users\\edins\\miniconda3\\envs\\tf\\lib\\site-packages (from tensorflow) (2.10.0)\n",
      "Requirement already satisfied: wheel<1.0,>=0.23.0 in c:\\users\\edins\\miniconda3\\envs\\tf\\lib\\site-packages (from astunparse>=1.6.0->tensorflow) (0.41.2)\n",
      "Requirement already satisfied: google-auth<3,>=1.6.3 in c:\\users\\edins\\miniconda3\\envs\\tf\\lib\\site-packages (from tensorboard<2.11,>=2.10->tensorflow) (2.25.2)\n",
      "Requirement already satisfied: google-auth-oauthlib<0.5,>=0.4.1 in c:\\users\\edins\\miniconda3\\envs\\tf\\lib\\site-packages (from tensorboard<2.11,>=2.10->tensorflow) (0.4.6)\n",
      "Requirement already satisfied: markdown>=2.6.8 in c:\\users\\edins\\miniconda3\\envs\\tf\\lib\\site-packages (from tensorboard<2.11,>=2.10->tensorflow) (3.5.1)\n",
      "Requirement already satisfied: requests<3,>=2.21.0 in c:\\users\\edins\\miniconda3\\envs\\tf\\lib\\site-packages (from tensorboard<2.11,>=2.10->tensorflow) (2.31.0)\n",
      "Requirement already satisfied: tensorboard-data-server<0.7.0,>=0.6.0 in c:\\users\\edins\\miniconda3\\envs\\tf\\lib\\site-packages (from tensorboard<2.11,>=2.10->tensorflow) (0.6.1)\n",
      "Requirement already satisfied: tensorboard-plugin-wit>=1.6.0 in c:\\users\\edins\\miniconda3\\envs\\tf\\lib\\site-packages (from tensorboard<2.11,>=2.10->tensorflow) (1.8.1)\n",
      "Requirement already satisfied: werkzeug>=1.0.1 in c:\\users\\edins\\miniconda3\\envs\\tf\\lib\\site-packages (from tensorboard<2.11,>=2.10->tensorflow) (3.0.1)\n",
      "Requirement already satisfied: cachetools<6.0,>=2.0.0 in c:\\users\\edins\\miniconda3\\envs\\tf\\lib\\site-packages (from google-auth<3,>=1.6.3->tensorboard<2.11,>=2.10->tensorflow) (5.3.2)\n",
      "Requirement already satisfied: pyasn1-modules>=0.2.1 in c:\\users\\edins\\miniconda3\\envs\\tf\\lib\\site-packages (from google-auth<3,>=1.6.3->tensorboard<2.11,>=2.10->tensorflow) (0.3.0)\n",
      "Requirement already satisfied: rsa<5,>=3.1.4 in c:\\users\\edins\\miniconda3\\envs\\tf\\lib\\site-packages (from google-auth<3,>=1.6.3->tensorboard<2.11,>=2.10->tensorflow) (4.9)\n",
      "Requirement already satisfied: requests-oauthlib>=0.7.0 in c:\\users\\edins\\miniconda3\\envs\\tf\\lib\\site-packages (from google-auth-oauthlib<0.5,>=0.4.1->tensorboard<2.11,>=2.10->tensorflow) (1.3.1)\n",
      "Requirement already satisfied: importlib-metadata>=4.4 in c:\\users\\edins\\miniconda3\\envs\\tf\\lib\\site-packages (from markdown>=2.6.8->tensorboard<2.11,>=2.10->tensorflow) (7.0.0)\n",
      "Requirement already satisfied: charset-normalizer<4,>=2 in c:\\users\\edins\\miniconda3\\envs\\tf\\lib\\site-packages (from requests<3,>=2.21.0->tensorboard<2.11,>=2.10->tensorflow) (3.3.2)\n",
      "Requirement already satisfied: idna<4,>=2.5 in c:\\users\\edins\\miniconda3\\envs\\tf\\lib\\site-packages (from requests<3,>=2.21.0->tensorboard<2.11,>=2.10->tensorflow) (3.6)\n",
      "Requirement already satisfied: urllib3<3,>=1.21.1 in c:\\users\\edins\\miniconda3\\envs\\tf\\lib\\site-packages (from requests<3,>=2.21.0->tensorboard<2.11,>=2.10->tensorflow) (2.1.0)\n",
      "Requirement already satisfied: certifi>=2017.4.17 in c:\\users\\edins\\miniconda3\\envs\\tf\\lib\\site-packages (from requests<3,>=2.21.0->tensorboard<2.11,>=2.10->tensorflow) (2023.11.17)\n",
      "Requirement already satisfied: MarkupSafe>=2.1.1 in c:\\users\\edins\\miniconda3\\envs\\tf\\lib\\site-packages (from werkzeug>=1.0.1->tensorboard<2.11,>=2.10->tensorflow) (2.1.3)\n",
      "Requirement already satisfied: zipp>=0.5 in c:\\users\\edins\\miniconda3\\envs\\tf\\lib\\site-packages (from importlib-metadata>=4.4->markdown>=2.6.8->tensorboard<2.11,>=2.10->tensorflow) (3.17.0)\n",
      "Requirement already satisfied: pyasn1<0.6.0,>=0.4.6 in c:\\users\\edins\\miniconda3\\envs\\tf\\lib\\site-packages (from pyasn1-modules>=0.2.1->google-auth<3,>=1.6.3->tensorboard<2.11,>=2.10->tensorflow) (0.5.1)\n",
      "Requirement already satisfied: oauthlib>=3.0.0 in c:\\users\\edins\\miniconda3\\envs\\tf\\lib\\site-packages (from requests-oauthlib>=0.7.0->google-auth-oauthlib<0.5,>=0.4.1->tensorboard<2.11,>=2.10->tensorflow) (3.2.2)\n"
     ]
    }
   ],
   "source": [
    "!pip install tensorflow"
   ]
  },
  {
   "cell_type": "code",
   "execution_count": 3,
   "id": "3a3fc279-aaca-4e75-bab7-e45bdc4848c5",
   "metadata": {
    "tags": []
   },
   "outputs": [
    {
     "name": "stdout",
     "output_type": "stream",
     "text": [
      "WARNING:tensorflow:From c:\\users\\edins\\appdata\\local\\programs\\python\\python39\\lib\\site-packages\\keras\\src\\losses.py:2976: The name tf.losses.sparse_softmax_cross_entropy is deprecated. Please use tf.compat.v1.losses.sparse_softmax_cross_entropy instead.\n",
      "\n"
     ]
    }
   ],
   "source": [
    "import tensorflow as tf"
   ]
  },
  {
   "cell_type": "markdown",
   "id": "e286e0aa-caf0-4a0f-8dbc-c27ae1fb82c8",
   "metadata": {},
   "source": [
    "# Instalación del paquete nltk"
   ]
  },
  {
   "cell_type": "code",
   "execution_count": 4,
   "id": "dd4184f6-7f20-44df-a857-773358b56771",
   "metadata": {
    "tags": []
   },
   "outputs": [
    {
     "name": "stdout",
     "output_type": "stream",
     "text": [
      "Requirement already satisfied: tensorflow-addons in c:\\users\\edins\\miniconda3\\envs\\tf\\lib\\site-packages (0.22.0)\n",
      "Requirement already satisfied: typeguard<3.0.0,>=2.7 in c:\\users\\edins\\miniconda3\\envs\\tf\\lib\\site-packages (from tensorflow-addons) (2.13.3)\n",
      "Requirement already satisfied: packaging in c:\\users\\edins\\miniconda3\\envs\\tf\\lib\\site-packages (from tensorflow-addons) (23.2)\n"
     ]
    }
   ],
   "source": [
    "!pip install tensorflow-addons"
   ]
  },
  {
   "cell_type": "code",
   "execution_count": 5,
   "id": "07cf3b2b-7467-40a4-912f-7740f40adc39",
   "metadata": {
    "tags": []
   },
   "outputs": [
    {
     "name": "stdout",
     "output_type": "stream",
     "text": [
      "Requirement already satisfied: keras in c:\\users\\edins\\miniconda3\\envs\\tf\\lib\\site-packages (2.10.0)\n"
     ]
    }
   ],
   "source": [
    "!pip install keras"
   ]
  },
  {
   "cell_type": "code",
   "execution_count": 6,
   "id": "09e96483-751c-47ab-8b01-6fab2fca3346",
   "metadata": {
    "tags": []
   },
   "outputs": [
    {
     "name": "stderr",
     "output_type": "stream",
     "text": [
      "c:\\users\\edins\\appdata\\local\\programs\\python\\python39\\lib\\site-packages\\tensorflow_addons\\utils\\tfa_eol_msg.py:23: UserWarning: \n",
      "\n",
      "TensorFlow Addons (TFA) has ended development and introduction of new features.\n",
      "TFA has entered a minimal maintenance and release mode until a planned end of life in May 2024.\n",
      "Please modify downstream libraries to take dependencies from other repositories in our TensorFlow community (e.g. Keras, Keras-CV, and Keras-NLP). \n",
      "\n",
      "For more information see: https://github.com/tensorflow/addons/issues/2807 \n",
      "\n",
      "  warnings.warn(\n",
      "c:\\users\\edins\\appdata\\local\\programs\\python\\python39\\lib\\site-packages\\tensorflow_addons\\utils\\ensure_tf_install.py:53: UserWarning: Tensorflow Addons supports using Python ops for all Tensorflow versions above or equal to 2.12.0 and strictly below 2.15.0 (nightly versions are not supported). \n",
      " The versions of TensorFlow you are currently using is 2.15.0 and is not supported. \n",
      "Some things might work, some things might not.\n",
      "If you were to encounter a bug, do not file an issue.\n",
      "If you want to make sure you're using a tested and supported configuration, either change the TensorFlow version or the TensorFlow Addons's version. \n",
      "You can find the compatibility matrix in TensorFlow Addon's readme:\n",
      "https://github.com/tensorflow/addons\n",
      "  warnings.warn(\n",
      "c:\\users\\edins\\appdata\\local\\programs\\python\\python39\\lib\\site-packages\\tqdm\\auto.py:21: TqdmWarning: IProgress not found. Please update jupyter and ipywidgets. See https://ipywidgets.readthedocs.io/en/stable/user_install.html\n",
      "  from .autonotebook import tqdm as notebook_tqdm\n",
      "C:\\Users\\edins\\AppData\\Local\\Temp\\ipykernel_6056\\1104623449.py:26: DeprecationWarning: Importing display from IPython.core.display is deprecated since IPython 7.14, please import from IPython display\n",
      "  from IPython.core.display import display, HTML\n"
     ]
    }
   ],
   "source": [
    "import matplotlib.pyplot as plt\n",
    "import numpy as np\n",
    "import pickle\n",
    "import pandas as pd\n",
    "from itertools import islice\n",
    "\n",
    "import keras\n",
    "#from tabulate import tabulate\n",
    "from sklearn.metrics import confusion_matrix\n",
    "from sklearn.metrics import classification_report as eskclarep\n",
    "#from seqeval.metrics import precision_score, recall_score, f1_score, accuracy_score\n",
    "#from seqeval.metrics import classification_report as seqclarep\n",
    "from sklearn.preprocessing import LabelBinarizer\n",
    "from itertools import chain\n",
    "\n",
    "from tensorflow.keras.preprocessing.sequence import pad_sequences\n",
    "from tensorflow.keras.models import Model, Sequential\n",
    "from tensorflow.keras.layers import Concatenate, Lambda, Input, LSTM, Embedding, Dense, TimeDistributed, Dropout, Bidirectional, InputLayer, Activation, Flatten\n",
    "from tensorflow.keras.optimizers import Adam, schedules\n",
    "from crfta import CRF as crf4\n",
    "from utils import build_matrix_embeddings as bme, plot_model_performance, logits_to_tokens, report_to_df\n",
    "\n",
    "from tensorflow.keras.callbacks import ModelCheckpoint\n",
    "from tensorflow.keras.callbacks import TensorBoard\n",
    "\n",
    "from IPython.core.display import display, HTML\n",
    "\n",
    "import datetime, os\n",
    "import random"
   ]
  },
  {
   "cell_type": "code",
   "execution_count": 7,
   "id": "27809f03-c5eb-490b-b634-f45db1320a27",
   "metadata": {
    "tags": []
   },
   "outputs": [
    {
     "name": "stdout",
     "output_type": "stream",
     "text": [
      "Requirement already satisfied: nltk in c:\\users\\edins\\miniconda3\\envs\\tf\\lib\\site-packages (3.8.1)\n",
      "Requirement already satisfied: click in c:\\users\\edins\\miniconda3\\envs\\tf\\lib\\site-packages (from nltk) (8.1.7)\n",
      "Requirement already satisfied: joblib in c:\\users\\edins\\miniconda3\\envs\\tf\\lib\\site-packages (from nltk) (1.3.2)\n",
      "Requirement already satisfied: regex>=2021.8.3 in c:\\users\\edins\\miniconda3\\envs\\tf\\lib\\site-packages (from nltk) (2023.10.3)\n",
      "Requirement already satisfied: tqdm in c:\\users\\edins\\miniconda3\\envs\\tf\\lib\\site-packages (from nltk) (4.66.1)\n",
      "Requirement already satisfied: colorama in c:\\users\\edins\\miniconda3\\envs\\tf\\lib\\site-packages (from click->nltk) (0.4.6)\n"
     ]
    }
   ],
   "source": [
    "!pip install nltk"
   ]
  },
  {
   "cell_type": "code",
   "execution_count": 8,
   "id": "3a47cf43-3181-4a0c-a8cd-e12b36b39c58",
   "metadata": {
    "tags": []
   },
   "outputs": [
    {
     "name": "stderr",
     "output_type": "stream",
     "text": [
      "[nltk_data] Downloading package conll2002 to\n",
      "[nltk_data]     C:\\Users\\edins\\AppData\\Roaming\\nltk_data...\n",
      "[nltk_data]   Package conll2002 is already up-to-date!\n"
     ]
    },
    {
     "data": {
      "text/plain": [
       "['esp.testa', 'esp.testb', 'esp.train', 'ned.testa', 'ned.testb', 'ned.train']"
      ]
     },
     "execution_count": 8,
     "metadata": {},
     "output_type": "execute_result"
    }
   ],
   "source": [
    "import nltk\n",
    "nltk.download('conll2002')\n",
    "nltk.corpus.conll2002.fileids()"
   ]
  },
  {
   "cell_type": "code",
   "execution_count": 9,
   "id": "fc8826d3-5bbd-4770-9cce-b1aa02526677",
   "metadata": {
    "tags": []
   },
   "outputs": [
    {
     "name": "stdout",
     "output_type": "stream",
     "text": [
      "8323 1238\n",
      "1517 202\n",
      "1915 141\n",
      "CPU times: total: 1.06 s\n",
      "Wall time: 1.29 s\n"
     ]
    }
   ],
   "source": [
    "%%time\n",
    "train_sents = list(nltk.corpus.conll2002.iob_sents('esp.train'))\n",
    "test_sents = list(nltk.corpus.conll2002.iob_sents('esp.testb'))\n",
    "eval_sents = list(nltk.corpus.conll2002.iob_sents('esp.testa'))\n",
    "print(len(train_sents),len(max(train_sents,key=len)))\n",
    "print(len(test_sents),len(max(test_sents,key=len)))\n",
    "print(len(eval_sents),len(max(eval_sents,key=len)))"
   ]
  },
  {
   "cell_type": "code",
   "execution_count": 10,
   "id": "74bcdbc4-f3a1-4190-8ae0-11285671e95b",
   "metadata": {
    "tags": []
   },
   "outputs": [
    {
     "name": "stdout",
     "output_type": "stream",
     "text": [
      "[('Melbourne', 'NP', 'B-LOC'), ('(', 'Fpa', 'O'), ('Australia', 'NP', 'B-LOC'), (')', 'Fpt', 'O'), (',', 'Fc', 'O'), ('25', 'Z', 'O'), ('may', 'NC', 'O'), ('(', 'Fpa', 'O'), ('EFE', 'NC', 'B-ORG'), (')', 'Fpt', 'O'), ('.', 'Fp', 'O')]\n"
     ]
    }
   ],
   "source": [
    "print(train_sents[0])"
   ]
  },
  {
   "cell_type": "markdown",
   "id": "93cc476a-7522-4edb-9aa8-a1a48dc57bed",
   "metadata": {},
   "source": [
    "# PARTE 1. PREPROCESAMIENTO DE LOS DATOS"
   ]
  },
  {
   "cell_type": "code",
   "execution_count": 11,
   "id": "32a9ded1-7ca9-40cb-bb7c-4be21b0a19fc",
   "metadata": {
    "tags": []
   },
   "outputs": [],
   "source": [
    "# extraen las etiquetas o labels\n",
    "def sent2labels(sent):\n",
    "    return [label for token, postag, label in sent]\n",
    "# extraer tokens o palabras\n",
    "def sent2tokens(sent):\n",
    "    return [token for token, postag, label in sent]"
   ]
  },
  {
   "cell_type": "code",
   "execution_count": 12,
   "id": "09b354b6-105e-435b-b0bf-8ff491d46ffa",
   "metadata": {
    "tags": []
   },
   "outputs": [
    {
     "data": {
      "text/plain": [
       "'Melbourne'"
      ]
     },
     "execution_count": 12,
     "metadata": {},
     "output_type": "execute_result"
    }
   ],
   "source": [
    "sent2tokens(train_sents[0])[0]\n",
    "#sent2labels(train_sents[0])[0]"
   ]
  },
  {
   "cell_type": "code",
   "execution_count": 13,
   "id": "2abe0a69-9c6a-4d8f-a6ee-327f9de4a95d",
   "metadata": {
    "tags": []
   },
   "outputs": [
    {
     "name": "stdout",
     "output_type": "stream",
     "text": [
      "CPU times: total: 15.6 ms\n",
      "Wall time: 41.7 ms\n"
     ]
    }
   ],
   "source": [
    "%%time\n",
    "# Conjunto de train\n",
    "X_train = [sent2tokens(s) for s in train_sents]\n",
    "y_train = [sent2labels(s) for s in train_sents]\n",
    "\n",
    "# Conjunto de testeo o de gold\n",
    "X_test = [sent2tokens(s) for s in test_sents]\n",
    "y_test = [sent2labels(s) for s in test_sents]\n",
    "\n",
    "# Conjunto de validación\n",
    "X_eval = [sent2tokens(s) for s in eval_sents]\n",
    "y_eval = [sent2labels(s) for s in eval_sents]"
   ]
  },
  {
   "cell_type": "code",
   "execution_count": 14,
   "id": "e9f43e89-f393-4652-b34e-615e55fd8eee",
   "metadata": {
    "tags": []
   },
   "outputs": [
    {
     "name": "stdout",
     "output_type": "stream",
     "text": [
      "['El', 'Abogado', 'General', 'del', 'Estado', ',', 'Daryl', 'Williams', ',', 'subrayó', 'hoy', 'la', 'necesidad', 'de', 'tomar', 'medidas', 'para', 'proteger', 'al', 'sistema', 'judicial', 'australiano', 'frente', 'a', 'una', 'página', 'de', 'internet', 'que', 'imposibilita', 'el', 'cumplimiento', 'de', 'los', 'principios', 'básicos', 'de', 'la', 'Ley', '.']\n",
      "['O', 'B-PER', 'I-PER', 'I-PER', 'I-PER', 'O', 'B-PER', 'I-PER', 'O', 'O', 'O', 'O', 'O', 'O', 'O', 'O', 'O', 'O', 'O', 'O', 'O', 'O', 'O', 'O', 'O', 'O', 'O', 'O', 'O', 'O', 'O', 'O', 'O', 'O', 'O', 'O', 'O', 'O', 'B-MISC', 'O']\n"
     ]
    }
   ],
   "source": [
    "print(X_train[2])\n",
    "print(y_train[2])"
   ]
  },
  {
   "cell_type": "code",
   "execution_count": 15,
   "id": "5c628f96-700a-4287-a82b-46450f945782",
   "metadata": {
    "tags": []
   },
   "outputs": [
    {
     "name": "stdout",
     "output_type": "stream",
     "text": [
      "28384\n",
      "11\n",
      "{'I-LOC': 2, 'B-MISC': 3, 'B-PER': 4, 'I-ORG': 5, 'O': 6, 'B-LOC': 7, 'B-ORG': 8, 'I-PER': 9, 'I-MISC': 10, '-PAD-': 0, '-OOV-': 1}\n",
      "{'I-LOC', 'B-MISC', 'B-PER', 'I-ORG', 'O', 'B-LOC', 'B-ORG', 'I-PER', 'I-MISC'}\n"
     ]
    }
   ],
   "source": [
    "import numpy as np\n",
    "\n",
    "words, tagsss = set([]), set([])\n",
    "\n",
    "for s in (X_train + X_eval + X_test):\n",
    "    for w in s:\n",
    "        words.add(w.lower())\n",
    "\n",
    "for ts in (y_train + y_eval + y_test):\n",
    "    for t in ts:\n",
    "        tagsss.add(t)\n",
    "\n",
    "word2index = {w: i + 2 for i, w in enumerate(list(words))}\n",
    "word2index['-PAD-'] = 0  # The special value used for padding\n",
    "word2index['-OOV-'] = 1  # The special value used for OOVs\n",
    "\n",
    "tag2index = {t: i + 2 for i, t in enumerate(list(tagsss))}\n",
    "tag2index['-PAD-'] = 0  # The special value used to padding\n",
    "tag2index['-OOV-'] = 1  # The special value used to padding\n",
    "\n",
    "print (len(word2index))\n",
    "print (len(tag2index))\n",
    "print(tag2index)\n",
    "\n",
    "\n",
    "print(tagsss)"
   ]
  },
  {
   "cell_type": "code",
   "execution_count": 16,
   "id": "b12b10bf-ebbd-4d75-ab90-d10fd7c104d2",
   "metadata": {
    "tags": []
   },
   "outputs": [],
   "source": [
    "train_sentences_X, eval_sentences_X, test_sentences_X, train_tags_y, eval_tags_y, test_tags_y = [], [], [], [], [], []\n",
    "\n",
    "for s in X_train:\n",
    "    s_int = []\n",
    "    for w in s:\n",
    "        try:\n",
    "            s_int.append(word2index[w.lower()])\n",
    "        except KeyError:\n",
    "            s_int.append(word2index['-OOV-'])\n",
    "\n",
    "    train_sentences_X.append(s_int)\n",
    "\n",
    "for s in X_eval:\n",
    "    s_int = []\n",
    "    for w in s:\n",
    "        try:\n",
    "            s_int.append(word2index[w.lower()])\n",
    "        except KeyError:\n",
    "            s_int.append(word2index['-OOV-'])\n",
    "\n",
    "    eval_sentences_X.append(s_int)\n",
    "\n",
    "for s in X_test:\n",
    "    s_int = []\n",
    "    for w in s:\n",
    "        try:\n",
    "            s_int.append(word2index[w.lower()])\n",
    "        except KeyError:\n",
    "            s_int.append(word2index['-OOV-'])\n",
    "\n",
    "    test_sentences_X.append(s_int)\n",
    "\n",
    "for s in y_train:\n",
    "    s_int = []\n",
    "    for w in s:\n",
    "        try:\n",
    "            s_int.append(tag2index[w])\n",
    "        except KeyError:\n",
    "            s_int.append(tag2index['-OOV-'])\n",
    "\n",
    "    train_tags_y.append(s_int)\n",
    "\n",
    "for s in y_eval:\n",
    "    s_int = []\n",
    "    for w in s:\n",
    "        try:\n",
    "            s_int.append(tag2index[w])\n",
    "        except KeyError:\n",
    "            s_int.append(tag2index['-OOV-'])\n",
    "\n",
    "    eval_tags_y.append(s_int)\n",
    "\n",
    "for s in y_test:\n",
    "    s_int = []\n",
    "    for w in s:\n",
    "        try:\n",
    "            s_int.append(tag2index[w])\n",
    "        except KeyError:\n",
    "            s_int.append(tag2index['-OOV-'])\n",
    "\n",
    "    test_tags_y.append(s_int)"
   ]
  },
  {
   "cell_type": "code",
   "execution_count": 17,
   "id": "4ef2cb2a-3f6d-4b0b-adeb-2deefbe06b94",
   "metadata": {},
   "outputs": [],
   "source": [
    "# En esta parte se enterizan las sentencias de train, val y testeo con longitudes diferentes."
   ]
  },
  {
   "cell_type": "code",
   "execution_count": 18,
   "id": "8469ad7d-c016-4039-96fb-e5491aed5a17",
   "metadata": {
    "tags": []
   },
   "outputs": [
    {
     "name": "stdout",
     "output_type": "stream",
     "text": [
      "Longitudes de las Matrices:\n",
      "8323\n",
      "1915\n",
      "1517\n",
      "8323\n",
      "1915\n",
      "1517\n",
      "\n",
      "Muestra de Datos presentes en las Matrices con las transformaciones:\n",
      "\n",
      "[14628, 18353, 25230, 2220, 20112, 14352, 5946, 18353, 14501, 2220, 3477]\n",
      "[6850, 20157, 18353, 21403, 2220, 20112, 17686, 5946, 18353, 3175, 2220, 3477]\n",
      "[24344, 23653, 20112, 17686, 5946, 18353, 3175, 2220, 3477]\n",
      "[7, 6, 7, 6, 6, 6, 6, 6, 8, 6, 6]\n",
      "[7, 2, 6, 7, 6, 6, 6, 6, 6, 8, 6, 6]\n",
      "[7, 2, 6, 6, 6, 6, 8, 6, 6]\n"
     ]
    }
   ],
   "source": [
    "print(\"Longitudes de las Matrices:\")\n",
    "print(len(train_sentences_X))\n",
    "print(len(eval_sentences_X))\n",
    "print(len( test_sentences_X))\n",
    "print(len(train_tags_y))\n",
    "print(len(eval_tags_y))\n",
    "print(len(test_tags_y))\n",
    "\n",
    "print(\"\\nMuestra de Datos presentes en las Matrices con las transformaciones:\\n\")\n",
    "\n",
    "\n",
    "print(train_sentences_X[0])\n",
    "print(eval_sentences_X[0])\n",
    "print(test_sentences_X[0])\n",
    "print(train_tags_y[0])\n",
    "print(eval_tags_y[0])\n",
    "print(test_tags_y[0])\n"
   ]
  },
  {
   "cell_type": "markdown",
   "id": "70da1f0c-47c1-4e29-af69-480cab1aa3e4",
   "metadata": {
    "tags": []
   },
   "source": [
    "# Se procede a Normalizar las matrices con la longitud de la columna=MAX_LENGTH1 para que todas contengan el mismo numero de columnas, con la longitud máxima de palabras encontradas anteriormente y se agregan ceros a la derecha en las posiciones que hacen falta en el vector."
   ]
  },
  {
   "cell_type": "code",
   "execution_count": 19,
   "id": "b8a743a9-9bf8-4226-89ee-f9baef9b379f",
   "metadata": {
    "tags": []
   },
   "outputs": [
    {
     "name": "stdout",
     "output_type": "stream",
     "text": [
      "[14628 18353 25230  2220 20112 14352  5946 18353 14501  2220  3477     0\n",
      "     0     0     0     0     0     0     0     0     0     0     0     0\n",
      "     0     0     0     0     0     0     0     0     0     0     0     0\n",
      "     0     0     0     0     0     0     0     0     0     0     0     0\n",
      "     0     0     0     0     0     0     0     0     0     0     0     0\n",
      "     0     0     0     0     0     0     0     0     0     0     0     0\n",
      "     0     0     0     0     0     0     0     0     0     0     0     0\n",
      "     0     0     0     0     0     0     0     0     0     0     0     0\n",
      "     0     0     0     0     0     0     0     0     0     0     0     0\n",
      "     0     0     0     0     0     0     0     0     0     0     0     0\n",
      "     0     0     0     0     0     0     0     0     0     0     0     0\n",
      "     0     0     0     0     0     0     0     0     0     0     0     0\n",
      "     0     0     0     0     0     0     0     0     0     0     0     0\n",
      "     0     0     0     0     0     0     0     0     0     0     0     0\n",
      "     0     0     0     0     0     0     0     0     0     0     0     0\n",
      "     0     0     0     0     0     0     0     0     0     0     0     0\n",
      "     0     0     0     0     0     0     0     0     0     0]\n",
      "(8323, 202)\n",
      "[ 6850 20157 18353 21403  2220 20112 17686  5946 18353  3175  2220  3477\n",
      "     0     0     0     0     0     0     0     0     0     0     0     0\n",
      "     0     0     0     0     0     0     0     0     0     0     0     0\n",
      "     0     0     0     0     0     0     0     0     0     0     0     0\n",
      "     0     0     0     0     0     0     0     0     0     0     0     0\n",
      "     0     0     0     0     0     0     0     0     0     0     0     0\n",
      "     0     0     0     0     0     0     0     0     0     0     0     0\n",
      "     0     0     0     0     0     0     0     0     0     0     0     0\n",
      "     0     0     0     0     0     0     0     0     0     0     0     0\n",
      "     0     0     0     0     0     0     0     0     0     0     0     0\n",
      "     0     0     0     0     0     0     0     0     0     0     0     0\n",
      "     0     0     0     0     0     0     0     0     0     0     0     0\n",
      "     0     0     0     0     0     0     0     0     0     0     0     0\n",
      "     0     0     0     0     0     0     0     0     0     0     0     0\n",
      "     0     0     0     0     0     0     0     0     0     0     0     0\n",
      "     0     0     0     0     0     0     0     0     0     0     0     0\n",
      "     0     0     0     0     0     0     0     0     0     0]\n",
      "(1915, 202)\n",
      "[24344 23653 20112 17686  5946 18353  3175  2220  3477     0     0     0\n",
      "     0     0     0     0     0     0     0     0     0     0     0     0\n",
      "     0     0     0     0     0     0     0     0     0     0     0     0\n",
      "     0     0     0     0     0     0     0     0     0     0     0     0\n",
      "     0     0     0     0     0     0     0     0     0     0     0     0\n",
      "     0     0     0     0     0     0     0     0     0     0     0     0\n",
      "     0     0     0     0     0     0     0     0     0     0     0     0\n",
      "     0     0     0     0     0     0     0     0     0     0     0     0\n",
      "     0     0     0     0     0     0     0     0     0     0     0     0\n",
      "     0     0     0     0     0     0     0     0     0     0     0     0\n",
      "     0     0     0     0     0     0     0     0     0     0     0     0\n",
      "     0     0     0     0     0     0     0     0     0     0     0     0\n",
      "     0     0     0     0     0     0     0     0     0     0     0     0\n",
      "     0     0     0     0     0     0     0     0     0     0     0     0\n",
      "     0     0     0     0     0     0     0     0     0     0     0     0\n",
      "     0     0     0     0     0     0     0     0     0     0     0     0\n",
      "     0     0     0     0     0     0     0     0     0     0]\n",
      "(1517, 202)\n",
      "[7 6 7 6 6 6 6 6 8 6 6 0 0 0 0 0 0 0 0 0 0 0 0 0 0 0 0 0 0 0 0 0 0 0 0 0 0\n",
      " 0 0 0 0 0 0 0 0 0 0 0 0 0 0 0 0 0 0 0 0 0 0 0 0 0 0 0 0 0 0 0 0 0 0 0 0 0\n",
      " 0 0 0 0 0 0 0 0 0 0 0 0 0 0 0 0 0 0 0 0 0 0 0 0 0 0 0 0 0 0 0 0 0 0 0 0 0\n",
      " 0 0 0 0 0 0 0 0 0 0 0 0 0 0 0 0 0 0 0 0 0 0 0 0 0 0 0 0 0 0 0 0 0 0 0 0 0\n",
      " 0 0 0 0 0 0 0 0 0 0 0 0 0 0 0 0 0 0 0 0 0 0 0 0 0 0 0 0 0 0 0 0 0 0 0 0 0\n",
      " 0 0 0 0 0 0 0 0 0 0 0 0 0 0 0 0 0]\n",
      "(8323, 202)\n",
      "[7 2 6 7 6 6 6 6 6 8 6 6 0 0 0 0 0 0 0 0 0 0 0 0 0 0 0 0 0 0 0 0 0 0 0 0 0\n",
      " 0 0 0 0 0 0 0 0 0 0 0 0 0 0 0 0 0 0 0 0 0 0 0 0 0 0 0 0 0 0 0 0 0 0 0 0 0\n",
      " 0 0 0 0 0 0 0 0 0 0 0 0 0 0 0 0 0 0 0 0 0 0 0 0 0 0 0 0 0 0 0 0 0 0 0 0 0\n",
      " 0 0 0 0 0 0 0 0 0 0 0 0 0 0 0 0 0 0 0 0 0 0 0 0 0 0 0 0 0 0 0 0 0 0 0 0 0\n",
      " 0 0 0 0 0 0 0 0 0 0 0 0 0 0 0 0 0 0 0 0 0 0 0 0 0 0 0 0 0 0 0 0 0 0 0 0 0\n",
      " 0 0 0 0 0 0 0 0 0 0 0 0 0 0 0 0 0]\n",
      "(1915, 202)\n",
      "[7 2 6 6 6 6 8 6 6 0 0 0 0 0 0 0 0 0 0 0 0 0 0 0 0 0 0 0 0 0 0 0 0 0 0 0 0\n",
      " 0 0 0 0 0 0 0 0 0 0 0 0 0 0 0 0 0 0 0 0 0 0 0 0 0 0 0 0 0 0 0 0 0 0 0 0 0\n",
      " 0 0 0 0 0 0 0 0 0 0 0 0 0 0 0 0 0 0 0 0 0 0 0 0 0 0 0 0 0 0 0 0 0 0 0 0 0\n",
      " 0 0 0 0 0 0 0 0 0 0 0 0 0 0 0 0 0 0 0 0 0 0 0 0 0 0 0 0 0 0 0 0 0 0 0 0 0\n",
      " 0 0 0 0 0 0 0 0 0 0 0 0 0 0 0 0 0 0 0 0 0 0 0 0 0 0 0 0 0 0 0 0 0 0 0 0 0\n",
      " 0 0 0 0 0 0 0 0 0 0 0 0 0 0 0 0 0]\n",
      "(1517, 202)\n"
     ]
    }
   ],
   "source": [
    "from tensorflow.keras.preprocessing.sequence import pad_sequences\n",
    "MAX_LENGTH=202\n",
    "train_sentences_X = pad_sequences(train_sentences_X, maxlen=MAX_LENGTH, padding='post')\n",
    "eval_sentences_X = pad_sequences(eval_sentences_X, maxlen=MAX_LENGTH, padding='post')\n",
    "test_sentences_X = pad_sequences(test_sentences_X, maxlen=MAX_LENGTH, padding='post')\n",
    "train_tags_y = pad_sequences(train_tags_y, maxlen=MAX_LENGTH, padding='post')\n",
    "eval_tags_y = pad_sequences(eval_tags_y, maxlen=MAX_LENGTH, padding='post')\n",
    "test_tags_y = pad_sequences(test_tags_y, maxlen=MAX_LENGTH, padding='post')\n",
    "\n",
    "print(train_sentences_X[0])\n",
    "print(train_sentences_X.shape)\n",
    "print(eval_sentences_X[0])\n",
    "print(eval_sentences_X.shape)\n",
    "print(test_sentences_X[0])\n",
    "print(test_sentences_X.shape)\n",
    "print(train_tags_y[0])\n",
    "print(train_tags_y.shape)\n",
    "print(eval_tags_y[0])\n",
    "print(eval_tags_y.shape)\n",
    "print(test_tags_y[0])\n",
    "print(test_tags_y.shape)"
   ]
  },
  {
   "cell_type": "code",
   "execution_count": 20,
   "id": "a18e393b-c20e-4803-8196-876a7c9afe87",
   "metadata": {
    "tags": []
   },
   "outputs": [],
   "source": [
    "def to_categoricals(sequences, categories):\n",
    "    cat_sequences = []\n",
    "    for s in sequences:\n",
    "        cats = []\n",
    "        for item in s:\n",
    "            cats.append(np.zeros(categories))\n",
    "            cats[-1][item] = 1.0\n",
    "        cat_sequences.append(cats)\n",
    "    return np.array(cat_sequences)"
   ]
  },
  {
   "cell_type": "code",
   "execution_count": 21,
   "id": "9ec52be3-0c12-4613-be19-8c32cdc6b8de",
   "metadata": {
    "tags": []
   },
   "outputs": [],
   "source": [
    "def encode(data):\n",
    "    print('Shape of data (BEFORE encode): %s' % str(data.shape))\n",
    "    encoded = to_categorical(data)\n",
    "    print('Shape of data (AFTER  encode): %s\\n' % str(encoded.shape))\n",
    "    return encoded"
   ]
  },
  {
   "cell_type": "markdown",
   "id": "ac0b0d0f-7f41-45c4-9091-796c4d740753",
   "metadata": {},
   "source": [
    "# Se realiza la categorización one-hot de las etiquetas o labels de entrenamiento, testeo y validación"
   ]
  },
  {
   "cell_type": "code",
   "execution_count": 22,
   "id": "648a9a58-c32e-410f-b026-8d8c8256cd2a",
   "metadata": {
    "tags": []
   },
   "outputs": [
    {
     "name": "stdout",
     "output_type": "stream",
     "text": [
      "[[0. 0. 0. ... 0. 0. 0.]\n",
      " [1. 0. 0. ... 0. 0. 0.]\n",
      " [1. 0. 0. ... 0. 0. 0.]\n",
      " ...\n",
      " [1. 0. 0. ... 0. 0. 0.]\n",
      " [1. 0. 0. ... 0. 0. 0.]\n",
      " [1. 0. 0. ... 0. 0. 0.]]\n",
      "8323\n",
      "(8323, 202, 11)\n",
      "1517\n"
     ]
    }
   ],
   "source": [
    "cat_train_tags_y = to_categoricals(train_tags_y, len(tag2index))\n",
    "cat_eval_tags_y  = to_categoricals(eval_tags_y, len(tag2index))\n",
    "cat_test_tags_y  = to_categoricals(test_tags_y, len(tag2index))\n",
    "\n",
    "print(cat_train_tags_y[1])\n",
    "print(len(cat_train_tags_y))\n",
    "print(cat_train_tags_y.shape)\n",
    "print(len(cat_test_tags_y))"
   ]
  },
  {
   "cell_type": "markdown",
   "id": "325153f7-61ab-4d2f-8b79-4a11c352a54c",
   "metadata": {},
   "source": [
    "# Carga del embeddings de Europarl\n",
    "En la variable **embedding_matrix** se guarda el conjunto de vectores embebidos"
   ]
  },
  {
   "cell_type": "code",
   "execution_count": 23,
   "id": "166ce56a-426f-4620-9014-ae7b5a6e0961",
   "metadata": {
    "tags": []
   },
   "outputs": [
    {
     "name": "stdout",
     "output_type": "stream",
     "text": [
      "Cargando archivo...\n"
     ]
    },
    {
     "name": "stderr",
     "output_type": "stream",
     "text": [
      "179359it [00:11, 15656.60it/s]\n"
     ]
    },
    {
     "name": "stdout",
     "output_type": "stream",
     "text": [
      "Encontrado 179359 Word Vectors.\n"
     ]
    },
    {
     "name": "stderr",
     "output_type": "stream",
     "text": [
      "100%|████████████████████████████████████████████████████████████████████████| 28384/28384 [00:00<00:00, 463268.20it/s]"
     ]
    },
    {
     "name": "stdout",
     "output_type": "stream",
     "text": [
      "Convertidos: 18312 Tokens | Perdidos: 10365 Tokens\n"
     ]
    },
    {
     "name": "stderr",
     "output_type": "stream",
     "text": [
      "\n"
     ]
    }
   ],
   "source": [
    "from utils import build_matrix_embeddings as bme, plot_model_performance, logits_to_tokens, report_to_df\n",
    "EMBED_DIM=300\n",
    "file = 'word2vec_skip-gram_model_300.txt'\n",
    "file= 'Europarl_fasttext_skip_model_300.txt'\n",
    "embedding_matrix = bme(file, len(word2index), EMBED_DIM, word2index)"
   ]
  },
  {
   "cell_type": "markdown",
   "id": "2a171e5a-ce83-42e4-8601-7ab11ef4669f",
   "metadata": {},
   "source": [
    "# 2. MODELO DE LA RED NEURONAL RECURSIVA (BILSTM+ CRF)"
   ]
  },
  {
   "cell_type": "markdown",
   "id": "9578d9b7-5243-4ac6-bb2c-042761626e9a",
   "metadata": {},
   "source": [
    "#  Modelo matématico\n",
    "# Aqui  se define el modelo matémático de la  máquina de aprendizaje que en este caso en una red neuronal recursiva RNN. Específicamente es un Bilstm que  es un Lstm en dos direcciones  y un CRF  para mejorar la distribución probabilística producto de la  red neunoral. En esta red de prueba una estructura de Masking para mejorar las distribuciones probabilídticas. En pocas palabras cumple la función de un distributed. Esta red neuronal tiene una entrada **input = Input(shape=(MAX_LENGTH,))**  esta entrada tiene la longitud de la máxima sentencia  que es 202. Luego se define la matriz de embedding que es una vectorización de palabras usando Word2vec. Esta es una matriz que se vuelve de tres dimensiones 28384 X 202 X 300 y cuando se tiene embedding de palabras se llena son los pesos de la matriz preentrenada, ya sea de word2vec, fasttext o glove. También se pueden concatenar matrices de embedding de otras características lingúísticas como el POS, lema, ect. Luego viene la"
   ]
  },
  {
   "cell_type": "code",
   "execution_count": 24,
   "id": "e03968d3-7d16-4e8c-8811-ad3e70e0557c",
   "metadata": {},
   "outputs": [],
   "source": [
    "import numpy as np\n",
    "import tensorflow\n",
    "from tensorflow.keras import Sequential, Model, Input\n",
    "from tensorflow.keras.layers import LSTM, Embedding, Dense, TimeDistributed, Dropout, Bidirectional\n",
    "from tensorflow.keras.utils import plot_model"
   ]
  },
  {
   "cell_type": "code",
   "execution_count": 25,
   "id": "eae61744-3829-4eae-9499-13f513c66bad",
   "metadata": {
    "tags": []
   },
   "outputs": [
    {
     "name": "stdout",
     "output_type": "stream",
     "text": [
      "WARNING:tensorflow:From c:\\users\\edins\\appdata\\local\\programs\\python\\python39\\lib\\site-packages\\keras\\src\\backend.py:1398: The name tf.executing_eagerly_outside_functions is deprecated. Please use tf.compat.v1.executing_eagerly_outside_functions instead.\n",
      "\n",
      "WARNING:tensorflow:From c:\\users\\edins\\appdata\\local\\programs\\python\\python39\\lib\\site-packages\\keras\\src\\optimizers\\__init__.py:309: The name tf.train.Optimizer is deprecated. Please use tf.compat.v1.train.Optimizer instead.\n",
      "\n"
     ]
    }
   ],
   "source": [
    "from tf2crf import CRF as crf6\n",
    "import keras as k\n",
    "from mwrapper import ModelWithCRFLoss, ModelWithCRFLossDSCLoss\n",
    "input = Input(shape=(MAX_LENGTH,))\n",
    "# Embedding Layer\n",
    "model = Embedding(input_dim=len(word2index),\n",
    "                output_dim=300,\n",
    "                input_length=MAX_LENGTH,\n",
    "                weights=[embedding_matrix],  # Initializing with FastText embeddings\n",
    "                mask_zero=False)(input)\n",
    "model = Bidirectional(LSTM(units=50,\n",
    "                     return_sequences=True,\n",
    "                     dropout=0.5,\n",
    "                     recurrent_dropout=0))(model)\n",
    "\n",
    "#model  = Dense(units=len(tag2index), activation='softmax')(model)\n",
    "model  = Dense(units=len(tag2index), activation='tanh')(model)\n",
    "crf = crf6(units=len(tag2index), name=\"ner_crf\")\n",
    "predictions = crf(model)\n",
    "base_model = Model(inputs=input, outputs=predictions)\n",
    "model = ModelWithCRFLoss(base_model, sparse_target=True)\n",
    "#keras.mixed_precision.set_global_policy(\"mixed_float16\")\n",
    "model.compile(optimizer='adam')"
   ]
  },
  {
   "cell_type": "code",
   "execution_count": 26,
   "id": "6e3f15ac-70f6-43e6-9a98-0050dd77aea1",
   "metadata": {
    "tags": []
   },
   "outputs": [
    {
     "name": "stdout",
     "output_type": "stream",
     "text": [
      "Epoch 1/80\n",
      "66/66 - 34s - loss: 127.0402 - accuracy: 0.8782 - val_loss_val: 40.6724 - val_val_accuracy: 0.9785 - 34s/epoch - 513ms/step\n",
      "Epoch 2/80\n",
      "66/66 - 30s - loss: 32.2893 - accuracy: 0.9797 - val_loss_val: 26.2652 - val_val_accuracy: 0.9804 - 30s/epoch - 450ms/step\n",
      "Epoch 3/80\n",
      "66/66 - 30s - loss: 22.7813 - accuracy: 0.9806 - val_loss_val: 19.8265 - val_val_accuracy: 0.9807 - 30s/epoch - 456ms/step\n",
      "Epoch 4/80\n",
      "66/66 - 31s - loss: 17.4901 - accuracy: 0.9821 - val_loss_val: 16.4569 - val_val_accuracy: 0.9820 - 31s/epoch - 465ms/step\n",
      "Epoch 5/80\n",
      "66/66 - 31s - loss: 14.8802 - accuracy: 0.9832 - val_loss_val: 14.6812 - val_val_accuracy: 0.9824 - 31s/epoch - 472ms/step\n",
      "Epoch 6/80\n",
      "66/66 - 31s - loss: 12.9473 - accuracy: 0.9840 - val_loss_val: 13.4956 - val_val_accuracy: 0.9829 - 31s/epoch - 469ms/step\n",
      "Epoch 7/80\n",
      "66/66 - 30s - loss: 11.5237 - accuracy: 0.9852 - val_loss_val: 12.4629 - val_val_accuracy: 0.9838 - 30s/epoch - 459ms/step\n",
      "Epoch 8/80\n",
      "66/66 - 31s - loss: 10.3826 - accuracy: 0.9867 - val_loss_val: 11.6096 - val_val_accuracy: 0.9849 - 31s/epoch - 463ms/step\n",
      "Epoch 9/80\n",
      "66/66 - 30s - loss: 9.1800 - accuracy: 0.9889 - val_loss_val: 11.2646 - val_val_accuracy: 0.9859 - 30s/epoch - 461ms/step\n",
      "Epoch 10/80\n",
      "66/66 - 30s - loss: 8.0875 - accuracy: 0.9903 - val_loss_val: 10.3602 - val_val_accuracy: 0.9865 - 30s/epoch - 461ms/step\n",
      "Epoch 11/80\n",
      "66/66 - 31s - loss: 7.5314 - accuracy: 0.9910 - val_loss_val: 9.8181 - val_val_accuracy: 0.9866 - 31s/epoch - 468ms/step\n",
      "Epoch 12/80\n",
      "66/66 - 30s - loss: 6.6848 - accuracy: 0.9916 - val_loss_val: 9.4587 - val_val_accuracy: 0.9872 - 30s/epoch - 458ms/step\n",
      "Epoch 13/80\n",
      "66/66 - 30s - loss: 5.8155 - accuracy: 0.9925 - val_loss_val: 9.0761 - val_val_accuracy: 0.9876 - 30s/epoch - 459ms/step\n",
      "Epoch 14/80\n",
      "66/66 - 30s - loss: 5.2670 - accuracy: 0.9934 - val_loss_val: 8.7841 - val_val_accuracy: 0.9880 - 30s/epoch - 460ms/step\n",
      "Epoch 15/80\n",
      "66/66 - 32s - loss: 4.7681 - accuracy: 0.9945 - val_loss_val: 8.8286 - val_val_accuracy: 0.9884 - 32s/epoch - 478ms/step\n",
      "Epoch 16/80\n",
      "66/66 - 30s - loss: 4.3102 - accuracy: 0.9952 - val_loss_val: 8.3290 - val_val_accuracy: 0.9888 - 30s/epoch - 460ms/step\n",
      "Epoch 17/80\n",
      "66/66 - 30s - loss: 3.7921 - accuracy: 0.9959 - val_loss_val: 7.8813 - val_val_accuracy: 0.9891 - 30s/epoch - 457ms/step\n",
      "Epoch 18/80\n",
      "66/66 - 30s - loss: 3.4137 - accuracy: 0.9965 - val_loss_val: 8.0196 - val_val_accuracy: 0.9893 - 30s/epoch - 462ms/step\n",
      "Epoch 19/80\n",
      "66/66 - 30s - loss: 3.1543 - accuracy: 0.9969 - val_loss_val: 7.8066 - val_val_accuracy: 0.9896 - 30s/epoch - 462ms/step\n",
      "Epoch 20/80\n",
      "66/66 - 30s - loss: 2.8570 - accuracy: 0.9971 - val_loss_val: 7.6000 - val_val_accuracy: 0.9897 - 30s/epoch - 461ms/step\n",
      "Epoch 21/80\n",
      "66/66 - 31s - loss: 2.5908 - accuracy: 0.9975 - val_loss_val: 7.9332 - val_val_accuracy: 0.9897 - 31s/epoch - 465ms/step\n",
      "Epoch 22/80\n",
      "66/66 - 31s - loss: 2.3812 - accuracy: 0.9977 - val_loss_val: 7.3482 - val_val_accuracy: 0.9898 - 31s/epoch - 465ms/step\n",
      "Epoch 23/80\n",
      "66/66 - 31s - loss: 2.1299 - accuracy: 0.9980 - val_loss_val: 7.2581 - val_val_accuracy: 0.9899 - 31s/epoch - 464ms/step\n",
      "Epoch 24/80\n",
      "66/66 - 30s - loss: 1.9661 - accuracy: 0.9982 - val_loss_val: 7.4146 - val_val_accuracy: 0.9901 - 30s/epoch - 459ms/step\n",
      "Epoch 25/80\n",
      "66/66 - 31s - loss: 1.7992 - accuracy: 0.9983 - val_loss_val: 7.4344 - val_val_accuracy: 0.9901 - 31s/epoch - 464ms/step\n",
      "Epoch 26/80\n",
      "66/66 - 31s - loss: 1.6767 - accuracy: 0.9984 - val_loss_val: 7.4005 - val_val_accuracy: 0.9902 - 31s/epoch - 465ms/step\n",
      "Epoch 27/80\n",
      "66/66 - 30s - loss: 1.5320 - accuracy: 0.9986 - val_loss_val: 7.2067 - val_val_accuracy: 0.9903 - 30s/epoch - 460ms/step\n",
      "Epoch 28/80\n",
      "66/66 - 30s - loss: 1.4091 - accuracy: 0.9987 - val_loss_val: 7.5567 - val_val_accuracy: 0.9901 - 30s/epoch - 461ms/step\n",
      "Epoch 29/80\n",
      "66/66 - 30s - loss: 1.3162 - accuracy: 0.9988 - val_loss_val: 7.3334 - val_val_accuracy: 0.9902 - 30s/epoch - 460ms/step\n",
      "Epoch 30/80\n",
      "66/66 - 31s - loss: 1.2498 - accuracy: 0.9989 - val_loss_val: 7.3054 - val_val_accuracy: 0.9903 - 31s/epoch - 464ms/step\n",
      "Epoch 31/80\n",
      "66/66 - 31s - loss: 1.1613 - accuracy: 0.9989 - val_loss_val: 7.3505 - val_val_accuracy: 0.9904 - 31s/epoch - 463ms/step\n",
      "Epoch 32/80\n",
      "66/66 - 30s - loss: 1.0907 - accuracy: 0.9990 - val_loss_val: 7.2544 - val_val_accuracy: 0.9902 - 30s/epoch - 461ms/step\n",
      "Epoch 33/80\n",
      "66/66 - 31s - loss: 1.0035 - accuracy: 0.9991 - val_loss_val: 7.3975 - val_val_accuracy: 0.9903 - 31s/epoch - 464ms/step\n",
      "Epoch 34/80\n",
      "66/66 - 31s - loss: 0.9546 - accuracy: 0.9991 - val_loss_val: 7.2944 - val_val_accuracy: 0.9901 - 31s/epoch - 474ms/step\n",
      "Epoch 35/80\n",
      "66/66 - 30s - loss: 0.8954 - accuracy: 0.9992 - val_loss_val: 7.4259 - val_val_accuracy: 0.9903 - 30s/epoch - 462ms/step\n",
      "Epoch 36/80\n",
      "66/66 - 30s - loss: 0.8386 - accuracy: 0.9992 - val_loss_val: 7.4765 - val_val_accuracy: 0.9904 - 30s/epoch - 461ms/step\n",
      "Epoch 37/80\n",
      "66/66 - 30s - loss: 0.7901 - accuracy: 0.9993 - val_loss_val: 7.5787 - val_val_accuracy: 0.9901 - 30s/epoch - 460ms/step\n",
      "Epoch 38/80\n",
      "66/66 - 30s - loss: 0.7489 - accuracy: 0.9993 - val_loss_val: 7.4321 - val_val_accuracy: 0.9904 - 30s/epoch - 459ms/step\n",
      "Epoch 39/80\n",
      "66/66 - 30s - loss: 0.7068 - accuracy: 0.9994 - val_loss_val: 7.6233 - val_val_accuracy: 0.9904 - 30s/epoch - 461ms/step\n",
      "Epoch 40/80\n",
      "66/66 - 30s - loss: 0.6774 - accuracy: 0.9994 - val_loss_val: 7.7085 - val_val_accuracy: 0.9902 - 30s/epoch - 458ms/step\n",
      "Epoch 41/80\n",
      "66/66 - 30s - loss: 0.6475 - accuracy: 0.9994 - val_loss_val: 7.7767 - val_val_accuracy: 0.9903 - 30s/epoch - 457ms/step\n",
      "Epoch 42/80\n",
      "66/66 - 31s - loss: 0.6236 - accuracy: 0.9994 - val_loss_val: 7.6479 - val_val_accuracy: 0.9903 - 31s/epoch - 463ms/step\n",
      "Epoch 43/80\n",
      "66/66 - 31s - loss: 0.5806 - accuracy: 0.9994 - val_loss_val: 7.8081 - val_val_accuracy: 0.9903 - 31s/epoch - 464ms/step\n",
      "Epoch 44/80\n",
      "66/66 - 30s - loss: 0.5397 - accuracy: 0.9995 - val_loss_val: 7.5690 - val_val_accuracy: 0.9901 - 30s/epoch - 461ms/step\n",
      "Epoch 45/80\n",
      "66/66 - 30s - loss: 0.5405 - accuracy: 0.9995 - val_loss_val: 7.5807 - val_val_accuracy: 0.9903 - 30s/epoch - 461ms/step\n",
      "Epoch 46/80\n",
      "66/66 - 30s - loss: 0.5096 - accuracy: 0.9995 - val_loss_val: 7.9174 - val_val_accuracy: 0.9903 - 30s/epoch - 457ms/step\n",
      "Epoch 47/80\n",
      "66/66 - 30s - loss: 0.4835 - accuracy: 0.9995 - val_loss_val: 7.8966 - val_val_accuracy: 0.9904 - 30s/epoch - 457ms/step\n",
      "Epoch 48/80\n",
      "66/66 - 31s - loss: 0.4679 - accuracy: 0.9995 - val_loss_val: 7.7909 - val_val_accuracy: 0.9904 - 31s/epoch - 462ms/step\n",
      "Epoch 49/80\n",
      "66/66 - 30s - loss: 0.4549 - accuracy: 0.9996 - val_loss_val: 7.8199 - val_val_accuracy: 0.9905 - 30s/epoch - 456ms/step\n",
      "Epoch 50/80\n",
      "66/66 - 31s - loss: 0.4222 - accuracy: 0.9996 - val_loss_val: 7.9696 - val_val_accuracy: 0.9904 - 31s/epoch - 463ms/step\n",
      "Epoch 51/80\n",
      "66/66 - 30s - loss: 0.3990 - accuracy: 0.9996 - val_loss_val: 8.4728 - val_val_accuracy: 0.9903 - 30s/epoch - 458ms/step\n",
      "Epoch 52/80\n",
      "66/66 - 30s - loss: 0.3951 - accuracy: 0.9996 - val_loss_val: 7.9287 - val_val_accuracy: 0.9903 - 30s/epoch - 458ms/step\n",
      "Epoch 53/80\n",
      "66/66 - 30s - loss: 0.4001 - accuracy: 0.9996 - val_loss_val: 8.0117 - val_val_accuracy: 0.9899 - 30s/epoch - 459ms/step\n",
      "Epoch 54/80\n",
      "66/66 - 30s - loss: 0.3948 - accuracy: 0.9996 - val_loss_val: 8.1841 - val_val_accuracy: 0.9905 - 30s/epoch - 460ms/step\n",
      "Epoch 55/80\n",
      "66/66 - 31s - loss: 0.3599 - accuracy: 0.9996 - val_loss_val: 8.0495 - val_val_accuracy: 0.9902 - 31s/epoch - 464ms/step\n",
      "Epoch 56/80\n",
      "66/66 - 30s - loss: 0.3418 - accuracy: 0.9996 - val_loss_val: 8.1194 - val_val_accuracy: 0.9906 - 30s/epoch - 460ms/step\n",
      "Epoch 57/80\n",
      "66/66 - 31s - loss: 0.3338 - accuracy: 0.9997 - val_loss_val: 8.3609 - val_val_accuracy: 0.9904 - 31s/epoch - 466ms/step\n",
      "Epoch 58/80\n",
      "66/66 - 30s - loss: 0.3301 - accuracy: 0.9996 - val_loss_val: 8.2361 - val_val_accuracy: 0.9905 - 30s/epoch - 460ms/step\n",
      "Epoch 59/80\n",
      "66/66 - 30s - loss: 0.3138 - accuracy: 0.9997 - val_loss_val: 8.2760 - val_val_accuracy: 0.9905 - 30s/epoch - 458ms/step\n",
      "Epoch 60/80\n",
      "66/66 - 30s - loss: 0.3202 - accuracy: 0.9996 - val_loss_val: 8.2607 - val_val_accuracy: 0.9905 - 30s/epoch - 458ms/step\n",
      "Epoch 61/80\n",
      "66/66 - 30s - loss: 0.2778 - accuracy: 0.9997 - val_loss_val: 8.2589 - val_val_accuracy: 0.9906 - 30s/epoch - 453ms/step\n",
      "Epoch 62/80\n",
      "66/66 - 30s - loss: 0.2691 - accuracy: 0.9997 - val_loss_val: 8.5907 - val_val_accuracy: 0.9904 - 30s/epoch - 455ms/step\n",
      "Epoch 63/80\n",
      "66/66 - 30s - loss: 0.2637 - accuracy: 0.9997 - val_loss_val: 8.4151 - val_val_accuracy: 0.9904 - 30s/epoch - 456ms/step\n",
      "Epoch 64/80\n",
      "66/66 - 30s - loss: 0.2473 - accuracy: 0.9997 - val_loss_val: 8.5195 - val_val_accuracy: 0.9903 - 30s/epoch - 459ms/step\n",
      "Epoch 65/80\n",
      "66/66 - 31s - loss: 0.2421 - accuracy: 0.9997 - val_loss_val: 8.5096 - val_val_accuracy: 0.9906 - 31s/epoch - 463ms/step\n",
      "Epoch 66/80\n",
      "66/66 - 30s - loss: 0.2391 - accuracy: 0.9997 - val_loss_val: 8.4645 - val_val_accuracy: 0.9904 - 30s/epoch - 461ms/step\n",
      "Epoch 67/80\n",
      "66/66 - 30s - loss: 0.2395 - accuracy: 0.9997 - val_loss_val: 8.6531 - val_val_accuracy: 0.9904 - 30s/epoch - 460ms/step\n",
      "Epoch 68/80\n",
      "66/66 - 30s - loss: 0.2186 - accuracy: 0.9998 - val_loss_val: 8.7130 - val_val_accuracy: 0.9906 - 30s/epoch - 462ms/step\n",
      "Epoch 69/80\n",
      "66/66 - 31s - loss: 0.2167 - accuracy: 0.9997 - val_loss_val: 8.7811 - val_val_accuracy: 0.9905 - 31s/epoch - 465ms/step\n",
      "Epoch 70/80\n",
      "66/66 - 30s - loss: 0.2150 - accuracy: 0.9997 - val_loss_val: 8.6788 - val_val_accuracy: 0.9904 - 30s/epoch - 457ms/step\n",
      "Epoch 71/80\n",
      "66/66 - 30s - loss: 0.2042 - accuracy: 0.9998 - val_loss_val: 8.5763 - val_val_accuracy: 0.9904 - 30s/epoch - 458ms/step\n",
      "Epoch 72/80\n",
      "66/66 - 30s - loss: 0.1956 - accuracy: 0.9998 - val_loss_val: 8.6962 - val_val_accuracy: 0.9905 - 30s/epoch - 458ms/step\n",
      "Epoch 73/80\n",
      "66/66 - 30s - loss: 0.1928 - accuracy: 0.9998 - val_loss_val: 8.8634 - val_val_accuracy: 0.9905 - 30s/epoch - 456ms/step\n",
      "Epoch 74/80\n",
      "66/66 - 30s - loss: 0.1880 - accuracy: 0.9998 - val_loss_val: 8.9535 - val_val_accuracy: 0.9905 - 30s/epoch - 457ms/step\n",
      "Epoch 75/80\n",
      "66/66 - 30s - loss: 0.1819 - accuracy: 0.9998 - val_loss_val: 8.7680 - val_val_accuracy: 0.9903 - 30s/epoch - 456ms/step\n",
      "Epoch 76/80\n",
      "66/66 - 30s - loss: 0.1908 - accuracy: 0.9998 - val_loss_val: 8.8879 - val_val_accuracy: 0.9904 - 30s/epoch - 456ms/step\n",
      "Epoch 77/80\n",
      "66/66 - 30s - loss: 0.1765 - accuracy: 0.9998 - val_loss_val: 8.9037 - val_val_accuracy: 0.9906 - 30s/epoch - 454ms/step\n",
      "Epoch 78/80\n",
      "66/66 - 30s - loss: 0.1725 - accuracy: 0.9998 - val_loss_val: 8.9163 - val_val_accuracy: 0.9904 - 30s/epoch - 458ms/step\n",
      "Epoch 79/80\n",
      "66/66 - 30s - loss: 0.1696 - accuracy: 0.9998 - val_loss_val: 9.0304 - val_val_accuracy: 0.9904 - 30s/epoch - 461ms/step\n",
      "Epoch 80/80\n",
      "66/66 - 30s - loss: 0.1722 - accuracy: 0.9998 - val_loss_val: 9.1269 - val_val_accuracy: 0.9904 - 30s/epoch - 458ms/step\n"
     ]
    }
   ],
   "source": [
    "#with tf.device('/device:GPU:0'):\n",
    "history= model.fit(train_sentences_X, cat_train_tags_y,\n",
    "      validation_data=(eval_sentences_X, cat_eval_tags_y),\n",
    "      batch_size=128,\n",
    "      epochs=80,\n",
    "      verbose=2)"
   ]
  },
  {
   "cell_type": "code",
   "execution_count": 27,
   "id": "e012a4e2-7eb4-45d1-a5d6-e6c4a87f9ca5",
   "metadata": {
    "tags": []
   },
   "outputs": [
    {
     "name": "stdout",
     "output_type": "stream",
     "text": [
      "{'I-LOC': 2, 'B-MISC': 3, 'B-PER': 4, 'I-ORG': 5, 'O': 6, 'B-LOC': 7, 'B-ORG': 8, 'I-PER': 9, 'I-MISC': 10, '-PAD-': 0, '-OOV-': 1}\n",
      "[[24344 23653 20112 ...     0     0     0]\n",
      " [22103     0     0 ...     0     0     0]\n",
      " [19451   972 22989 ...     0     0     0]\n",
      " ...\n",
      " [24344 11642 10980 ...     0     0     0]\n",
      " [17859 19506 23729 ...     0     0     0]\n",
      " [24344 22603 13734 ...     0     0     0]]\n",
      "48/48 [==============================] - 2s 24ms/step\n",
      "(1517, 202)\n",
      "[[7 2 6 ... 0 0 0]\n",
      " [6 0 0 ... 0 0 0]\n",
      " [6 6 6 ... 0 0 0]\n",
      " ...\n",
      " [6 7 6 ... 0 0 0]\n",
      " [6 6 6 ... 0 0 0]\n",
      " [6 6 6 ... 0 0 0]]\n"
     ]
    }
   ],
   "source": [
    "print(tag2index)\n",
    "print(test_sentences_X)\n",
    "y_pred= model.predict(test_sentences_X)\n",
    "print(y_pred.shape)\n",
    "print(y_pred)"
   ]
  },
  {
   "cell_type": "code",
   "execution_count": 28,
   "id": "7915ee53-5e81-4084-ba9c-10f90b18a0d9",
   "metadata": {
    "tags": []
   },
   "outputs": [
    {
     "name": "stdout",
     "output_type": "stream",
     "text": [
      "{2: 'I-LOC', 3: 'B-MISC', 4: 'B-PER', 5: 'I-ORG', 6: 'O', 7: 'B-LOC', 8: 'B-ORG', 9: 'I-PER', 10: 'I-MISC', 0: '-PAD-', 1: '-OOV-'}\n",
      "['O', 'O', 'O', 'O', 'O', 'B-ORG', 'I-ORG', 'I-ORG', 'I-ORG', 'O', 'O', 'O', 'O', 'O', 'B-ORG', 'I-ORG', 'O', 'O', 'B-ORG', 'I-ORG', 'O', 'O', 'I-ORG', 'O', 'B-ORG', 'O', 'O', 'O', 'O', 'O', 'O', 'O', 'O', 'O', 'O', 'O', 'O', 'O', 'O', 'O', 'O', 'O', 'O', 'O', 'O', '-PAD-', '-PAD-', '-PAD-', '-PAD-', '-PAD-', '-PAD-', '-PAD-', '-PAD-', '-PAD-', '-PAD-', '-PAD-', '-PAD-', '-PAD-', '-PAD-', '-PAD-', '-PAD-', '-PAD-', '-PAD-', '-PAD-', '-PAD-', '-PAD-', '-PAD-', '-PAD-', '-PAD-', '-PAD-', '-PAD-', '-PAD-', '-PAD-', '-PAD-', '-PAD-', '-PAD-', '-PAD-', '-PAD-', '-PAD-', '-PAD-', '-PAD-', '-PAD-', '-PAD-', '-PAD-', '-PAD-', '-PAD-', '-PAD-', '-PAD-', '-PAD-', '-PAD-', '-PAD-', '-PAD-', '-PAD-', '-PAD-', '-PAD-', '-PAD-', '-PAD-', '-PAD-', '-PAD-', '-PAD-', '-PAD-', '-PAD-', '-PAD-', '-PAD-', '-PAD-', '-PAD-', '-PAD-', '-PAD-', '-PAD-', '-PAD-', '-PAD-', '-PAD-', '-PAD-', '-PAD-', '-PAD-', '-PAD-', '-PAD-', '-PAD-', '-PAD-', '-PAD-', '-PAD-', '-PAD-', '-PAD-', '-PAD-', '-PAD-', '-PAD-', '-PAD-', '-PAD-', '-PAD-', '-PAD-', '-PAD-', '-PAD-', '-PAD-', '-PAD-', '-PAD-', '-PAD-', '-PAD-', '-PAD-', '-PAD-', '-PAD-', '-PAD-', '-PAD-', '-PAD-', '-PAD-', '-PAD-', '-PAD-', '-PAD-', '-PAD-', '-PAD-', '-PAD-', '-PAD-', '-PAD-', '-PAD-', '-PAD-', '-PAD-', '-PAD-', '-PAD-', '-PAD-', '-PAD-', '-PAD-', '-PAD-', '-PAD-', '-PAD-', '-PAD-', '-PAD-', '-PAD-', '-PAD-', '-PAD-', '-PAD-', '-PAD-', '-PAD-', '-PAD-', '-PAD-', '-PAD-', '-PAD-', '-PAD-', '-PAD-', '-PAD-', '-PAD-', '-PAD-', '-PAD-', '-PAD-', '-PAD-', '-PAD-', '-PAD-', '-PAD-', '-PAD-', '-PAD-', '-PAD-', '-PAD-', '-PAD-', '-PAD-', '-PAD-', '-PAD-', '-PAD-', '-PAD-', '-PAD-', '-PAD-', '-PAD-', '-PAD-', '-PAD-', '-PAD-']\n"
     ]
    }
   ],
   "source": [
    "from utils import build_matrix_embeddings as bme, plot_model_performance, logits_to_tokens, report_to_df\n",
    "index2tag = {i: t for t, i in tag2index.items()}\n",
    "print(index2tag)\n",
    "y1_pred = logits_to_tokens(y_pred, index2tag)\n",
    "print(y1_pred[10])"
   ]
  },
  {
   "cell_type": "code",
   "execution_count": 29,
   "id": "957adfe4-0a29-422c-abe0-3db3e82e2b72",
   "metadata": {
    "tags": []
   },
   "outputs": [
    {
     "name": "stdout",
     "output_type": "stream",
     "text": [
      "{2: 'I-LOC', 3: 'B-MISC', 4: 'B-PER', 5: 'I-ORG', 6: 'O', 7: 'B-LOC', 8: 'B-ORG', 9: 'I-PER', 10: 'I-MISC', 0: '-PAD-', 1: '-OOV-'}\n",
      "['O', 'O', 'O', 'O', 'O', 'B-ORG', 'I-ORG', 'I-ORG', 'I-ORG', 'O', 'O', 'O', 'O', 'O', 'B-ORG', 'I-ORG', 'O', 'O', 'B-ORG', 'I-ORG', 'O', 'O', 'O', 'O', 'O', 'O', 'O', 'O', 'O', 'O', 'O', 'O', 'O', 'O', 'O', 'O', 'O', 'O', 'O', 'O', 'O', 'O', 'O', 'O', 'O', '-PAD-', '-PAD-', '-PAD-', '-PAD-', '-PAD-', '-PAD-', '-PAD-', '-PAD-', '-PAD-', '-PAD-', '-PAD-', '-PAD-', '-PAD-', '-PAD-', '-PAD-', '-PAD-', '-PAD-', '-PAD-', '-PAD-', '-PAD-', '-PAD-', '-PAD-', '-PAD-', '-PAD-', '-PAD-', '-PAD-', '-PAD-', '-PAD-', '-PAD-', '-PAD-', '-PAD-', '-PAD-', '-PAD-', '-PAD-', '-PAD-', '-PAD-', '-PAD-', '-PAD-', '-PAD-', '-PAD-', '-PAD-', '-PAD-', '-PAD-', '-PAD-', '-PAD-', '-PAD-', '-PAD-', '-PAD-', '-PAD-', '-PAD-', '-PAD-', '-PAD-', '-PAD-', '-PAD-', '-PAD-', '-PAD-', '-PAD-', '-PAD-', '-PAD-', '-PAD-', '-PAD-', '-PAD-', '-PAD-', '-PAD-', '-PAD-', '-PAD-', '-PAD-', '-PAD-', '-PAD-', '-PAD-', '-PAD-', '-PAD-', '-PAD-', '-PAD-', '-PAD-', '-PAD-', '-PAD-', '-PAD-', '-PAD-', '-PAD-', '-PAD-', '-PAD-', '-PAD-', '-PAD-', '-PAD-', '-PAD-', '-PAD-', '-PAD-', '-PAD-', '-PAD-', '-PAD-', '-PAD-', '-PAD-', '-PAD-', '-PAD-', '-PAD-', '-PAD-', '-PAD-', '-PAD-', '-PAD-', '-PAD-', '-PAD-', '-PAD-', '-PAD-', '-PAD-', '-PAD-', '-PAD-', '-PAD-', '-PAD-', '-PAD-', '-PAD-', '-PAD-', '-PAD-', '-PAD-', '-PAD-', '-PAD-', '-PAD-', '-PAD-', '-PAD-', '-PAD-', '-PAD-', '-PAD-', '-PAD-', '-PAD-', '-PAD-', '-PAD-', '-PAD-', '-PAD-', '-PAD-', '-PAD-', '-PAD-', '-PAD-', '-PAD-', '-PAD-', '-PAD-', '-PAD-', '-PAD-', '-PAD-', '-PAD-', '-PAD-', '-PAD-', '-PAD-', '-PAD-', '-PAD-', '-PAD-', '-PAD-', '-PAD-', '-PAD-', '-PAD-', '-PAD-', '-PAD-', '-PAD-', '-PAD-', '-PAD-', '-PAD-', '-PAD-', '-PAD-']\n"
     ]
    }
   ],
   "source": [
    "from utils import build_matrix_embeddings as bme, plot_model_performance, logits_to_tokens, report_to_df\n",
    "index2tag = {i: t for t, i in tag2index.items()}\n",
    "print(index2tag)\n",
    "y1_true = logits_to_tokens(test_tags_y, index2tag)\n",
    "print(y1_true[10])"
   ]
  },
  {
   "cell_type": "code",
   "execution_count": 30,
   "id": "50906902-3493-4485-b8a7-854e643a1c40",
   "metadata": {
    "tags": []
   },
   "outputs": [
    {
     "name": "stderr",
     "output_type": "stream",
     "text": [
      "c:\\users\\edins\\appdata\\local\\programs\\python\\python39\\lib\\site-packages\\seqeval\\metrics\\sequence_labeling.py:171: UserWarning: -PAD- seems not to be NE tag.\n",
      "  warnings.warn('{} seems not to be NE tag.'.format(chunk))\n"
     ]
    },
    {
     "name": "stdout",
     "output_type": "stream",
     "text": [
      "precision: 67.8%\n",
      "   recall: 65.3%\n",
      " F1-score: 66.6%\n"
     ]
    }
   ],
   "source": [
    "#hh1 = seqclarep(results['Expected'], results['Predicted'])\n",
    "#print('\\nclassification_report:\\n', hh1)\n",
    "from seqeval.metrics import classification_report as seqclarep\n",
    "from seqeval.metrics import precision_score, recall_score, f1_score, accuracy_score\n",
    "print(\"precision: {:.1%}\".format(precision_score(y1_true, y1_pred)))\n",
    "print(\"   recall: {:.1%}\".format(recall_score(y1_true,    y1_pred)))\n",
    "#print(\" accuracy: {:.1%}\".format(accuracy_score(y1_true,  y1_pred)))\n",
    "print(\" F1-score: {:.1%}\".format(f1_score(y1_true,        y1_pred)))"
   ]
  },
  {
   "cell_type": "code",
   "execution_count": 31,
   "id": "81347cfd-505f-40c8-8786-c9e2e06e5c1f",
   "metadata": {
    "tags": []
   },
   "outputs": [],
   "source": [
    "import pandas as pd\n",
    "li1 = sum(y1_true, [])\n",
    "li2 = sum(y1_pred, [])\n",
    "\n",
    "results = pd.DataFrame(columns=['Expected', 'Predicted'])\n",
    "\n",
    "results['Expected'] = li1\n",
    "results['Predicted'] = li2"
   ]
  },
  {
   "cell_type": "code",
   "execution_count": 32,
   "id": "4c5ee21f-9963-4aa5-89dc-e5fbbfe10366",
   "metadata": {
    "tags": []
   },
   "outputs": [
    {
     "name": "stdout",
     "output_type": "stream",
     "text": [
      "  Class Name precision recall f1-score support\n",
      "0      -PAD-      1.00   1.00     1.00  254901\n",
      "1      B-LOC      0.78   0.69     0.74    1084\n",
      "2     B-MISC      0.41   0.37     0.39     339\n",
      "3      B-ORG      0.72   0.75     0.73    1400\n",
      "4      B-PER      0.84   0.69     0.76     735\n",
      "5      I-LOC      0.75   0.48     0.58     325\n",
      "6     I-MISC      0.62   0.30     0.40     557\n",
      "7      I-ORG      0.70   0.64     0.67    1104\n",
      "8      I-PER      0.89   0.78     0.83     634\n",
      "9          O      0.97   0.99     0.98   45355\n"
     ]
    }
   ],
   "source": [
    "from sklearn.metrics import classification_report as eskclarep\n",
    "report = eskclarep(results['Expected'], results['Predicted'])\n",
    "#print('\\nclassification_report:\\n', report)\n",
    "\n",
    "print(report_to_df(report))"
   ]
  },
  {
   "cell_type": "code",
   "execution_count": 33,
   "id": "bbb4cde6-91e8-4b3f-8ceb-d987e99d1435",
   "metadata": {
    "tags": []
   },
   "outputs": [
    {
     "name": "stdout",
     "output_type": "stream",
     "text": [
      "[['La', 'Federación', 'nacional', 'de', 'cafeteros', 'de', 'Colombia', 'es', 'una', 'entidad', 'del', 'estado', ',', 'creada', 'en', 'los', 'años', '70’s', '.'], ['El', 'primer', 'presidente', 'el', 'Dr', 'Augusto', 'Guerra', 'contó', 'con', 'el', 'aval', 'de', 'la', 'Asociación', 'Colombiana', 'de', 'Aviación'], ['En', 'varias', 'ciudades', 'colombianas', ';', 'Cali', ',', 'medellín', ',', 'corozal', 'funciona', 'la', 'entidad', '.'], ['Estas', 'personas', 'viene', 'del', 'instituto', 'colombiano', 'del', 'café', 'ubicado', 'en', 'la', 'calle', 'Cali', '.']]\n"
     ]
    }
   ],
   "source": [
    "test_samples = [\n",
    "    \"La Federación nacional de cafeteros de Colombia es una entidad del estado , creada en los años 70’s .\".split(), \n",
    "    \"El primer presidente el Dr Augusto Guerra contó con el aval de la Asociación Colombiana de Aviación\".split(),\n",
    "    \"En varias ciudades colombianas ; Cali , medellín , corozal funciona la entidad .\".split(),\n",
    "    \"Estas personas viene del instituto colombiano del café ubicado en la calle Cali .\".split()\n",
    "]\n",
    "#print(max(test_samples))\n",
    "print(test_samples)"
   ]
  },
  {
   "cell_type": "code",
   "execution_count": 34,
   "id": "f70fdc39-fec1-4352-b29d-7de0893eb5df",
   "metadata": {
    "tags": []
   },
   "outputs": [
    {
     "name": "stdout",
     "output_type": "stream",
     "text": [
      "[[24344 18551 15761 13132 22630 13132 20127  9952 26231  2642  1493   714\n",
      "  20112 23329 19751 17859  1490     1  3477     0     0     0     0     0\n",
      "      0     0     0     0     0     0     0     0     0     0     0     0\n",
      "      0     0     0     0     0     0     0     0     0     0     0     0\n",
      "      0     0     0     0     0     0     0     0     0     0     0     0\n",
      "      0     0     0     0     0     0     0     0     0     0     0     0\n",
      "      0     0     0     0     0     0     0     0     0     0     0     0\n",
      "      0     0     0     0     0     0     0     0     0     0     0     0\n",
      "      0     0     0     0     0     0     0     0     0     0     0     0\n",
      "      0     0     0     0     0     0     0     0     0     0     0     0\n",
      "      0     0     0     0     0     0     0     0     0     0     0     0\n",
      "      0     0     0     0     0     0     0     0     0     0     0     0\n",
      "      0     0     0     0     0     0     0     0     0     0     0     0\n",
      "      0     0     0     0     0     0     0     0     0     0     0     0\n",
      "      0     0     0     0     0     0     0     0     0     0     0     0\n",
      "      0     0     0     0     0     0     0     0     0     0     0     0\n",
      "      0     0     0     0     0     0     0     0     0     0]\n",
      " [25741 22344  2855 25741     1 17995 18440 19226 24741 25741 20130 13132\n",
      "  24344 13542 23287 13132 22703     0     0     0     0     0     0     0\n",
      "      0     0     0     0     0     0     0     0     0     0     0     0\n",
      "      0     0     0     0     0     0     0     0     0     0     0     0\n",
      "      0     0     0     0     0     0     0     0     0     0     0     0\n",
      "      0     0     0     0     0     0     0     0     0     0     0     0\n",
      "      0     0     0     0     0     0     0     0     0     0     0     0\n",
      "      0     0     0     0     0     0     0     0     0     0     0     0\n",
      "      0     0     0     0     0     0     0     0     0     0     0     0\n",
      "      0     0     0     0     0     0     0     0     0     0     0     0\n",
      "      0     0     0     0     0     0     0     0     0     0     0     0\n",
      "      0     0     0     0     0     0     0     0     0     0     0     0\n",
      "      0     0     0     0     0     0     0     0     0     0     0     0\n",
      "      0     0     0     0     0     0     0     0     0     0     0     0\n",
      "      0     0     0     0     0     0     0     0     0     0     0     0\n",
      "      0     0     0     0     0     0     0     0     0     0     0     0\n",
      "      0     0     0     0     0     0     0     0     0     0]\n",
      " [19751 13414 17418   300 21587  7729 20112     1 20112  7308 10195 24344\n",
      "   2642  3477     0     0     0     0     0     0     0     0     0     0\n",
      "      0     0     0     0     0     0     0     0     0     0     0     0\n",
      "      0     0     0     0     0     0     0     0     0     0     0     0\n",
      "      0     0     0     0     0     0     0     0     0     0     0     0\n",
      "      0     0     0     0     0     0     0     0     0     0     0     0\n",
      "      0     0     0     0     0     0     0     0     0     0     0     0\n",
      "      0     0     0     0     0     0     0     0     0     0     0     0\n",
      "      0     0     0     0     0     0     0     0     0     0     0     0\n",
      "      0     0     0     0     0     0     0     0     0     0     0     0\n",
      "      0     0     0     0     0     0     0     0     0     0     0     0\n",
      "      0     0     0     0     0     0     0     0     0     0     0     0\n",
      "      0     0     0     0     0     0     0     0     0     0     0     0\n",
      "      0     0     0     0     0     0     0     0     0     0     0     0\n",
      "      0     0     0     0     0     0     0     0     0     0     0     0\n",
      "      0     0     0     0     0     0     0     0     0     0     0     0\n",
      "      0     0     0     0     0     0     0     0     0     0]\n",
      " [27628  5074 21121  1493 23593   823  1493 18881 13387 19751 24344  6697\n",
      "   7729  3477     0     0     0     0     0     0     0     0     0     0\n",
      "      0     0     0     0     0     0     0     0     0     0     0     0\n",
      "      0     0     0     0     0     0     0     0     0     0     0     0\n",
      "      0     0     0     0     0     0     0     0     0     0     0     0\n",
      "      0     0     0     0     0     0     0     0     0     0     0     0\n",
      "      0     0     0     0     0     0     0     0     0     0     0     0\n",
      "      0     0     0     0     0     0     0     0     0     0     0     0\n",
      "      0     0     0     0     0     0     0     0     0     0     0     0\n",
      "      0     0     0     0     0     0     0     0     0     0     0     0\n",
      "      0     0     0     0     0     0     0     0     0     0     0     0\n",
      "      0     0     0     0     0     0     0     0     0     0     0     0\n",
      "      0     0     0     0     0     0     0     0     0     0     0     0\n",
      "      0     0     0     0     0     0     0     0     0     0     0     0\n",
      "      0     0     0     0     0     0     0     0     0     0     0     0\n",
      "      0     0     0     0     0     0     0     0     0     0     0     0\n",
      "      0     0     0     0     0     0     0     0     0     0]]\n",
      "(4, 202)\n"
     ]
    }
   ],
   "source": [
    "test_samples_X = []\n",
    "for s in test_samples:\n",
    "    s_int = []\n",
    "    for w in s:\n",
    "        try:\n",
    "            s_int.append(word2index[w.lower()])\n",
    "        except KeyError:\n",
    "            s_int.append(word2index['-OOV-'])\n",
    "    test_samples_X.append(s_int)\n",
    "\n",
    "test_samples_X = pad_sequences(test_samples_X, maxlen=MAX_LENGTH, padding='post')\n",
    "print(test_samples_X)\n",
    "print(test_samples_X.shape)"
   ]
  },
  {
   "cell_type": "code",
   "execution_count": 35,
   "id": "1d50a713-614e-4374-a77c-ef21c68b903c",
   "metadata": {
    "tags": []
   },
   "outputs": [
    {
     "name": "stdout",
     "output_type": "stream",
     "text": [
      "1/1 [==============================] - 0s 25ms/step\n",
      "[[6 8 5 5 5 5 5 6 6 6 6 8 6 6 6 6 6 6 6 0 0 0 0 0 0 0 0 0 0 0 0 0 0 0 0 0\n",
      "  0 0 0 0 0 0 0 0 0 0 0 0 0 0 0 0 0 0 0 0 0 0 0 0 0 0 0 0 0 0 0 0 0 0 0 0\n",
      "  0 0 0 0 0 0 0 0 0 0 0 0 0 0 0 0 0 0 0 0 0 0 0 0 0 0 0 0 0 0 0 0 0 0 0 0\n",
      "  0 0 0 0 0 0 0 0 0 0 0 0 0 0 0 0 0 0 0 0 0 0 0 0 0 0 0 0 0 0 0 0 0 0 0 0\n",
      "  0 0 0 0 0 0 0 0 0 0 0 0 0 0 0 0 0 0 0 0 0 0 0 0 0 0 0 0 0 0 0 0 0 0 0 0\n",
      "  0 0 0 0 0 0 0 0 0 0 0 0 0 0 0 0 0 0 0 0 0 0]\n",
      " [6 6 6 6 4 9 9 6 6 6 6 6 6 6 6 6 6 0 0 0 0 0 0 0 0 0 0 0 0 0 0 0 0 0 0 0\n",
      "  0 0 0 0 0 0 0 0 0 0 0 0 0 0 0 0 0 0 0 0 0 0 0 0 0 0 0 0 0 0 0 0 0 0 0 0\n",
      "  0 0 0 0 0 0 0 0 0 0 0 0 0 0 0 0 0 0 0 0 0 0 0 0 0 0 0 0 0 0 0 0 0 0 0 0\n",
      "  0 0 0 0 0 0 0 0 0 0 0 0 0 0 0 0 0 0 0 0 0 0 0 0 0 0 0 0 0 0 0 0 0 0 0 0\n",
      "  0 0 0 0 0 0 0 0 0 0 0 0 0 0 0 0 0 0 0 0 0 0 0 0 0 0 0 0 0 0 0 0 0 0 0 0\n",
      "  0 0 0 0 0 0 0 0 0 0 0 0 0 0 0 0 0 0 0 0 0 0]\n",
      " [6 6 6 6 6 6 6 8 6 6 6 6 6 6 0 0 0 0 0 0 0 0 0 0 0 0 0 0 0 0 0 0 0 0 0 0\n",
      "  0 0 0 0 0 0 0 0 0 0 0 0 0 0 0 0 0 0 0 0 0 0 0 0 0 0 0 0 0 0 0 0 0 0 0 0\n",
      "  0 0 0 0 0 0 0 0 0 0 0 0 0 0 0 0 0 0 0 0 0 0 0 0 0 0 0 0 0 0 0 0 0 0 0 0\n",
      "  0 0 0 0 0 0 0 0 0 0 0 0 0 0 0 0 0 0 0 0 0 0 0 0 0 0 0 0 0 0 0 0 0 0 0 0\n",
      "  0 0 0 0 0 0 0 0 0 0 0 0 0 0 0 0 0 0 0 0 0 0 0 0 0 0 0 0 0 0 0 0 0 0 0 0\n",
      "  0 0 0 0 0 0 0 0 0 0 0 0 0 0 0 0 0 0 0 0 0 0]\n",
      " [6 6 6 6 6 6 6 5 6 6 6 6 6 6 0 0 0 0 0 0 0 0 0 0 0 0 0 0 0 0 0 0 0 0 0 0\n",
      "  0 0 0 0 0 0 0 0 0 0 0 0 0 0 0 0 0 0 0 0 0 0 0 0 0 0 0 0 0 0 0 0 0 0 0 0\n",
      "  0 0 0 0 0 0 0 0 0 0 0 0 0 0 0 0 0 0 0 0 0 0 0 0 0 0 0 0 0 0 0 0 0 0 0 0\n",
      "  0 0 0 0 0 0 0 0 0 0 0 0 0 0 0 0 0 0 0 0 0 0 0 0 0 0 0 0 0 0 0 0 0 0 0 0\n",
      "  0 0 0 0 0 0 0 0 0 0 0 0 0 0 0 0 0 0 0 0 0 0 0 0 0 0 0 0 0 0 0 0 0 0 0 0\n",
      "  0 0 0 0 0 0 0 0 0 0 0 0 0 0 0 0 0 0 0 0 0 0]] (4, 202)\n"
     ]
    }
   ],
   "source": [
    "predictions = model.predict(test_samples_X)\n",
    "print(predictions, predictions.shape)"
   ]
  },
  {
   "cell_type": "code",
   "execution_count": 36,
   "id": "2031cc49-027c-4ad3-bc4a-a71b6a235128",
   "metadata": {
    "tags": []
   },
   "outputs": [
    {
     "name": "stdout",
     "output_type": "stream",
     "text": [
      "[['O', 'B-ORG', 'I-ORG', 'I-ORG', 'I-ORG', 'I-ORG', 'I-ORG', 'O', 'O', 'O', 'O', 'B-ORG', 'O', 'O', 'O', 'O', 'O', 'O', 'O', '-PAD-', '-PAD-', '-PAD-', '-PAD-', '-PAD-', '-PAD-', '-PAD-', '-PAD-', '-PAD-', '-PAD-', '-PAD-', '-PAD-', '-PAD-', '-PAD-', '-PAD-', '-PAD-', '-PAD-', '-PAD-', '-PAD-', '-PAD-', '-PAD-', '-PAD-', '-PAD-', '-PAD-', '-PAD-', '-PAD-', '-PAD-', '-PAD-', '-PAD-', '-PAD-', '-PAD-', '-PAD-', '-PAD-', '-PAD-', '-PAD-', '-PAD-', '-PAD-', '-PAD-', '-PAD-', '-PAD-', '-PAD-', '-PAD-', '-PAD-', '-PAD-', '-PAD-', '-PAD-', '-PAD-', '-PAD-', '-PAD-', '-PAD-', '-PAD-', '-PAD-', '-PAD-', '-PAD-', '-PAD-', '-PAD-', '-PAD-', '-PAD-', '-PAD-', '-PAD-', '-PAD-', '-PAD-', '-PAD-', '-PAD-', '-PAD-', '-PAD-', '-PAD-', '-PAD-', '-PAD-', '-PAD-', '-PAD-', '-PAD-', '-PAD-', '-PAD-', '-PAD-', '-PAD-', '-PAD-', '-PAD-', '-PAD-', '-PAD-', '-PAD-', '-PAD-', '-PAD-', '-PAD-', '-PAD-', '-PAD-', '-PAD-', '-PAD-', '-PAD-', '-PAD-', '-PAD-', '-PAD-', '-PAD-', '-PAD-', '-PAD-', '-PAD-', '-PAD-', '-PAD-', '-PAD-', '-PAD-', '-PAD-', '-PAD-', '-PAD-', '-PAD-', '-PAD-', '-PAD-', '-PAD-', '-PAD-', '-PAD-', '-PAD-', '-PAD-', '-PAD-', '-PAD-', '-PAD-', '-PAD-', '-PAD-', '-PAD-', '-PAD-', '-PAD-', '-PAD-', '-PAD-', '-PAD-', '-PAD-', '-PAD-', '-PAD-', '-PAD-', '-PAD-', '-PAD-', '-PAD-', '-PAD-', '-PAD-', '-PAD-', '-PAD-', '-PAD-', '-PAD-', '-PAD-', '-PAD-', '-PAD-', '-PAD-', '-PAD-', '-PAD-', '-PAD-', '-PAD-', '-PAD-', '-PAD-', '-PAD-', '-PAD-', '-PAD-', '-PAD-', '-PAD-', '-PAD-', '-PAD-', '-PAD-', '-PAD-', '-PAD-', '-PAD-', '-PAD-', '-PAD-', '-PAD-', '-PAD-', '-PAD-', '-PAD-', '-PAD-', '-PAD-', '-PAD-', '-PAD-', '-PAD-', '-PAD-', '-PAD-', '-PAD-', '-PAD-', '-PAD-', '-PAD-', '-PAD-', '-PAD-', '-PAD-', '-PAD-', '-PAD-', '-PAD-', '-PAD-', '-PAD-', '-PAD-', '-PAD-'], ['O', 'O', 'O', 'O', 'B-PER', 'I-PER', 'I-PER', 'O', 'O', 'O', 'O', 'O', 'O', 'O', 'O', 'O', 'O', '-PAD-', '-PAD-', '-PAD-', '-PAD-', '-PAD-', '-PAD-', '-PAD-', '-PAD-', '-PAD-', '-PAD-', '-PAD-', '-PAD-', '-PAD-', '-PAD-', '-PAD-', '-PAD-', '-PAD-', '-PAD-', '-PAD-', '-PAD-', '-PAD-', '-PAD-', '-PAD-', '-PAD-', '-PAD-', '-PAD-', '-PAD-', '-PAD-', '-PAD-', '-PAD-', '-PAD-', '-PAD-', '-PAD-', '-PAD-', '-PAD-', '-PAD-', '-PAD-', '-PAD-', '-PAD-', '-PAD-', '-PAD-', '-PAD-', '-PAD-', '-PAD-', '-PAD-', '-PAD-', '-PAD-', '-PAD-', '-PAD-', '-PAD-', '-PAD-', '-PAD-', '-PAD-', '-PAD-', '-PAD-', '-PAD-', '-PAD-', '-PAD-', '-PAD-', '-PAD-', '-PAD-', '-PAD-', '-PAD-', '-PAD-', '-PAD-', '-PAD-', '-PAD-', '-PAD-', '-PAD-', '-PAD-', '-PAD-', '-PAD-', '-PAD-', '-PAD-', '-PAD-', '-PAD-', '-PAD-', '-PAD-', '-PAD-', '-PAD-', '-PAD-', '-PAD-', '-PAD-', '-PAD-', '-PAD-', '-PAD-', '-PAD-', '-PAD-', '-PAD-', '-PAD-', '-PAD-', '-PAD-', '-PAD-', '-PAD-', '-PAD-', '-PAD-', '-PAD-', '-PAD-', '-PAD-', '-PAD-', '-PAD-', '-PAD-', '-PAD-', '-PAD-', '-PAD-', '-PAD-', '-PAD-', '-PAD-', '-PAD-', '-PAD-', '-PAD-', '-PAD-', '-PAD-', '-PAD-', '-PAD-', '-PAD-', '-PAD-', '-PAD-', '-PAD-', '-PAD-', '-PAD-', '-PAD-', '-PAD-', '-PAD-', '-PAD-', '-PAD-', '-PAD-', '-PAD-', '-PAD-', '-PAD-', '-PAD-', '-PAD-', '-PAD-', '-PAD-', '-PAD-', '-PAD-', '-PAD-', '-PAD-', '-PAD-', '-PAD-', '-PAD-', '-PAD-', '-PAD-', '-PAD-', '-PAD-', '-PAD-', '-PAD-', '-PAD-', '-PAD-', '-PAD-', '-PAD-', '-PAD-', '-PAD-', '-PAD-', '-PAD-', '-PAD-', '-PAD-', '-PAD-', '-PAD-', '-PAD-', '-PAD-', '-PAD-', '-PAD-', '-PAD-', '-PAD-', '-PAD-', '-PAD-', '-PAD-', '-PAD-', '-PAD-', '-PAD-', '-PAD-', '-PAD-', '-PAD-', '-PAD-', '-PAD-', '-PAD-', '-PAD-', '-PAD-', '-PAD-', '-PAD-', '-PAD-', '-PAD-', '-PAD-', '-PAD-'], ['O', 'O', 'O', 'O', 'O', 'O', 'O', 'B-ORG', 'O', 'O', 'O', 'O', 'O', 'O', '-PAD-', '-PAD-', '-PAD-', '-PAD-', '-PAD-', '-PAD-', '-PAD-', '-PAD-', '-PAD-', '-PAD-', '-PAD-', '-PAD-', '-PAD-', '-PAD-', '-PAD-', '-PAD-', '-PAD-', '-PAD-', '-PAD-', '-PAD-', '-PAD-', '-PAD-', '-PAD-', '-PAD-', '-PAD-', '-PAD-', '-PAD-', '-PAD-', '-PAD-', '-PAD-', '-PAD-', '-PAD-', '-PAD-', '-PAD-', '-PAD-', '-PAD-', '-PAD-', '-PAD-', '-PAD-', '-PAD-', '-PAD-', '-PAD-', '-PAD-', '-PAD-', '-PAD-', '-PAD-', '-PAD-', '-PAD-', '-PAD-', '-PAD-', '-PAD-', '-PAD-', '-PAD-', '-PAD-', '-PAD-', '-PAD-', '-PAD-', '-PAD-', '-PAD-', '-PAD-', '-PAD-', '-PAD-', '-PAD-', '-PAD-', '-PAD-', '-PAD-', '-PAD-', '-PAD-', '-PAD-', '-PAD-', '-PAD-', '-PAD-', '-PAD-', '-PAD-', '-PAD-', '-PAD-', '-PAD-', '-PAD-', '-PAD-', '-PAD-', '-PAD-', '-PAD-', '-PAD-', '-PAD-', '-PAD-', '-PAD-', '-PAD-', '-PAD-', '-PAD-', '-PAD-', '-PAD-', '-PAD-', '-PAD-', '-PAD-', '-PAD-', '-PAD-', '-PAD-', '-PAD-', '-PAD-', '-PAD-', '-PAD-', '-PAD-', '-PAD-', '-PAD-', '-PAD-', '-PAD-', '-PAD-', '-PAD-', '-PAD-', '-PAD-', '-PAD-', '-PAD-', '-PAD-', '-PAD-', '-PAD-', '-PAD-', '-PAD-', '-PAD-', '-PAD-', '-PAD-', '-PAD-', '-PAD-', '-PAD-', '-PAD-', '-PAD-', '-PAD-', '-PAD-', '-PAD-', '-PAD-', '-PAD-', '-PAD-', '-PAD-', '-PAD-', '-PAD-', '-PAD-', '-PAD-', '-PAD-', '-PAD-', '-PAD-', '-PAD-', '-PAD-', '-PAD-', '-PAD-', '-PAD-', '-PAD-', '-PAD-', '-PAD-', '-PAD-', '-PAD-', '-PAD-', '-PAD-', '-PAD-', '-PAD-', '-PAD-', '-PAD-', '-PAD-', '-PAD-', '-PAD-', '-PAD-', '-PAD-', '-PAD-', '-PAD-', '-PAD-', '-PAD-', '-PAD-', '-PAD-', '-PAD-', '-PAD-', '-PAD-', '-PAD-', '-PAD-', '-PAD-', '-PAD-', '-PAD-', '-PAD-', '-PAD-', '-PAD-', '-PAD-', '-PAD-', '-PAD-', '-PAD-', '-PAD-', '-PAD-', '-PAD-', '-PAD-', '-PAD-', '-PAD-', '-PAD-'], ['O', 'O', 'O', 'O', 'O', 'O', 'O', 'I-ORG', 'O', 'O', 'O', 'O', 'O', 'O', '-PAD-', '-PAD-', '-PAD-', '-PAD-', '-PAD-', '-PAD-', '-PAD-', '-PAD-', '-PAD-', '-PAD-', '-PAD-', '-PAD-', '-PAD-', '-PAD-', '-PAD-', '-PAD-', '-PAD-', '-PAD-', '-PAD-', '-PAD-', '-PAD-', '-PAD-', '-PAD-', '-PAD-', '-PAD-', '-PAD-', '-PAD-', '-PAD-', '-PAD-', '-PAD-', '-PAD-', '-PAD-', '-PAD-', '-PAD-', '-PAD-', '-PAD-', '-PAD-', '-PAD-', '-PAD-', '-PAD-', '-PAD-', '-PAD-', '-PAD-', '-PAD-', '-PAD-', '-PAD-', '-PAD-', '-PAD-', '-PAD-', '-PAD-', '-PAD-', '-PAD-', '-PAD-', '-PAD-', '-PAD-', '-PAD-', '-PAD-', '-PAD-', '-PAD-', '-PAD-', '-PAD-', '-PAD-', '-PAD-', '-PAD-', '-PAD-', '-PAD-', '-PAD-', '-PAD-', '-PAD-', '-PAD-', '-PAD-', '-PAD-', '-PAD-', '-PAD-', '-PAD-', '-PAD-', '-PAD-', '-PAD-', '-PAD-', '-PAD-', '-PAD-', '-PAD-', '-PAD-', '-PAD-', '-PAD-', '-PAD-', '-PAD-', '-PAD-', '-PAD-', '-PAD-', '-PAD-', '-PAD-', '-PAD-', '-PAD-', '-PAD-', '-PAD-', '-PAD-', '-PAD-', '-PAD-', '-PAD-', '-PAD-', '-PAD-', '-PAD-', '-PAD-', '-PAD-', '-PAD-', '-PAD-', '-PAD-', '-PAD-', '-PAD-', '-PAD-', '-PAD-', '-PAD-', '-PAD-', '-PAD-', '-PAD-', '-PAD-', '-PAD-', '-PAD-', '-PAD-', '-PAD-', '-PAD-', '-PAD-', '-PAD-', '-PAD-', '-PAD-', '-PAD-', '-PAD-', '-PAD-', '-PAD-', '-PAD-', '-PAD-', '-PAD-', '-PAD-', '-PAD-', '-PAD-', '-PAD-', '-PAD-', '-PAD-', '-PAD-', '-PAD-', '-PAD-', '-PAD-', '-PAD-', '-PAD-', '-PAD-', '-PAD-', '-PAD-', '-PAD-', '-PAD-', '-PAD-', '-PAD-', '-PAD-', '-PAD-', '-PAD-', '-PAD-', '-PAD-', '-PAD-', '-PAD-', '-PAD-', '-PAD-', '-PAD-', '-PAD-', '-PAD-', '-PAD-', '-PAD-', '-PAD-', '-PAD-', '-PAD-', '-PAD-', '-PAD-', '-PAD-', '-PAD-', '-PAD-', '-PAD-', '-PAD-', '-PAD-', '-PAD-', '-PAD-', '-PAD-', '-PAD-', '-PAD-', '-PAD-', '-PAD-', '-PAD-', '-PAD-', '-PAD-', '-PAD-']]\n"
     ]
    }
   ],
   "source": [
    "#print(len(predictions))\n",
    "log_tokens = logits_to_tokens(predictions, {i: t for t, i in tag2index.items()})\n",
    "print(log_tokens)"
   ]
  },
  {
   "cell_type": "code",
   "execution_count": 37,
   "id": "c9ab8949-ca60-4d4b-bf5b-11d487258b66",
   "metadata": {
    "tags": []
   },
   "outputs": [
    {
     "name": "stdout",
     "output_type": "stream",
     "text": [
      "Requirement already satisfied: tabulate in c:\\users\\edins\\miniconda3\\envs\\tf\\lib\\site-packages (0.9.0)\n",
      "La    Federación    nacional    de     cafeteros    de     Colombia    es    una    entidad    del    estado    ,    creada    en    los    años    70’s    .\n",
      "----  ------------  ----------  -----  -----------  -----  ----------  ----  -----  ---------  -----  --------  ---  --------  ----  -----  ------  ------  ---\n",
      "O     B-ORG         I-ORG       I-ORG  I-ORG        I-ORG  I-ORG       O     O      O          O      B-ORG     O    O         O     O      O       O       O\n",
      "\n",
      "\n",
      "El    primer    presidente    el    Dr     Augusto    Guerra    contó    con    el    aval    de    la    Asociación    Colombiana    de    Aviación\n",
      "----  --------  ------------  ----  -----  ---------  --------  -------  -----  ----  ------  ----  ----  ------------  ------------  ----  ----------\n",
      "O     O         O             O     B-PER  I-PER      I-PER     O        O      O     O       O     O     O             O             O     O\n",
      "\n",
      "\n",
      "En    varias    ciudades    colombianas    ;    Cali    ,    medellín    ,    corozal    funciona    la    entidad    .\n",
      "----  --------  ----------  -------------  ---  ------  ---  ----------  ---  ---------  ----------  ----  ---------  ---\n",
      "O     O         O           O              O    O       O    B-ORG       O    O          O           O     O          O\n",
      "\n",
      "\n",
      "Estas    personas    viene    del    instituto    colombiano    del    café    ubicado    en    la    calle    Cali    .\n",
      "-------  ----------  -------  -----  -----------  ------------  -----  ------  ---------  ----  ----  -------  ------  ---\n",
      "O        O           O        O      O            O             O      I-ORG   O          O     O     O        O       O\n"
     ]
    }
   ],
   "source": [
    "!pip install tabulate\n",
    "from tabulate import tabulate\n",
    "\n",
    "heads1 = test_samples[0]\n",
    "body1 = [log_tokens[0][:len(test_samples[0])]]\n",
    "\n",
    "heads2 = test_samples[1]\n",
    "body2 = [log_tokens[1][:len(test_samples[1])]]\n",
    "\n",
    "heads3 = test_samples[2]\n",
    "body3 = [log_tokens[2][:len(test_samples[2])]]\n",
    "\n",
    "heads4 = test_samples[3]\n",
    "body4 = [log_tokens[3][:len(test_samples[3])]]\n",
    "\n",
    "print(tabulate(body1, headers=heads1))\n",
    "\n",
    "print (\"\\n\")\n",
    "\n",
    "print(tabulate(body2, headers=heads2))\n",
    "\n",
    "print (\"\\n\")\n",
    "\n",
    "print(tabulate(body3, headers=heads3))\n",
    "\n",
    "print (\"\\n\")\n",
    "\n",
    "print(tabulate(body4, headers=heads4))"
   ]
  },
  {
   "cell_type": "code",
   "execution_count": null,
   "id": "5e081122-4c18-4015-8fba-747529533d0f",
   "metadata": {},
   "outputs": [],
   "source": []
  }
 ],
 "metadata": {
  "kernelspec": {
   "display_name": "Python 3 (ipykernel)",
   "language": "python",
   "name": "python3"
  },
  "language_info": {
   "codemirror_mode": {
    "name": "ipython",
    "version": 3
   },
   "file_extension": ".py",
   "mimetype": "text/x-python",
   "name": "python",
   "nbconvert_exporter": "python",
   "pygments_lexer": "ipython3",
   "version": "3.9.0"
  }
 },
 "nbformat": 4,
 "nbformat_minor": 5
}
